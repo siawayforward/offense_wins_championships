{
 "metadata": {
  "language_info": {
   "codemirror_mode": {
    "name": "ipython",
    "version": 3
   },
   "file_extension": ".py",
   "mimetype": "text/x-python",
   "name": "python",
   "nbconvert_exporter": "python",
   "pygments_lexer": "ipython3",
   "version": "3.7.6-final"
  },
  "orig_nbformat": 2,
  "kernelspec": {
   "name": "python_defaultSpec_1597720288730",
   "display_name": "Python 3.7.6 64-bit"
  }
 },
 "nbformat": 4,
 "nbformat_minor": 2,
 "cells": [
  {
   "cell_type": "code",
   "execution_count": 1,
   "metadata": {},
   "outputs": [],
   "source": [
    "#import modules\n",
    "import pandas as pd \n",
    "import numpy as np "
   ]
  },
  {
   "cell_type": "markdown",
   "metadata": {},
   "source": [
    "## Feature Selection + Dimensionality Reduction\n",
    "\n",
    "In the EDA, we found that the front court players are more prominent in the game, and have more impact on the most differentiable features by position (eFG%, TRB, BLK, AST). Main tasks here are:\n",
    "- Normalize the data (we already saw that none of the features are normalized) if necessary\n",
    "- Select most relevant features to include in a model\n",
    "- Select best model representatioin of data after exploring supervised and unsupervised methods (mainly classification and clustering)"
   ]
  },
  {
   "cell_type": "code",
   "execution_count": 4,
   "metadata": {},
   "outputs": [],
   "source": [
    "players = pd.read_csv('players_trim.csv', index_col='Unnamed: 0').reset_index(drop=True)\n",
    "coaches = pd.read_csv('coaches.csv', index_col='Unnamed: 0').reset_index(drop=True)"
   ]
  },
  {
   "cell_type": "code",
   "execution_count": 5,
   "metadata": {},
   "outputs": [
    {
     "output_type": "execute_result",
     "data": {
      "text/plain": "              Player Pos   Age   Tm     G    GS    MP   FG   FGA    FG%  ...  \\\n0      Arron Afflalo  SG  24.0  DEN  82.0  75.0  27.1  3.3   7.1  0.465  ...   \n1      Alexis Ajinça   C  21.0  CHA   6.0   0.0   5.0  0.8   1.7  0.500  ...   \n2  LaMarcus Aldridge  PF  24.0  POR  78.0  78.0  37.5  7.4  15.0  0.495  ...   \n3      Joe Alexander  SF  23.0  CHI   8.0   0.0   3.6  0.1   0.8  0.167  ...   \n4        Malik Allen  PF  31.0  DEN  51.0   3.0   8.9  0.9   2.3  0.397  ...   \n\n   AST  STL  BLK  TOV   PF   PTS  Year  Champ  Runner-Up  Court_Pos  \n0  1.7  0.6  0.4  0.9  2.7   8.8  2010      0          0         BC  \n1  0.0  0.2  0.2  0.3  0.8   1.7  2010      0          0         FC  \n2  2.1  0.9  0.6  1.3  3.0  17.9  2010      0          0         FC  \n3  0.3  0.1  0.1  0.0  1.1   0.5  2010      0          0         FC  \n4  0.3  0.2  0.1  0.4  1.3   2.1  2010      0          0         FC  \n\n[5 rows x 33 columns]",
      "text/html": "<div>\n<style scoped>\n    .dataframe tbody tr th:only-of-type {\n        vertical-align: middle;\n    }\n\n    .dataframe tbody tr th {\n        vertical-align: top;\n    }\n\n    .dataframe thead th {\n        text-align: right;\n    }\n</style>\n<table border=\"1\" class=\"dataframe\">\n  <thead>\n    <tr style=\"text-align: right;\">\n      <th></th>\n      <th>Player</th>\n      <th>Pos</th>\n      <th>Age</th>\n      <th>Tm</th>\n      <th>G</th>\n      <th>GS</th>\n      <th>MP</th>\n      <th>FG</th>\n      <th>FGA</th>\n      <th>FG%</th>\n      <th>...</th>\n      <th>AST</th>\n      <th>STL</th>\n      <th>BLK</th>\n      <th>TOV</th>\n      <th>PF</th>\n      <th>PTS</th>\n      <th>Year</th>\n      <th>Champ</th>\n      <th>Runner-Up</th>\n      <th>Court_Pos</th>\n    </tr>\n  </thead>\n  <tbody>\n    <tr>\n      <th>0</th>\n      <td>Arron Afflalo</td>\n      <td>SG</td>\n      <td>24.0</td>\n      <td>DEN</td>\n      <td>82.0</td>\n      <td>75.0</td>\n      <td>27.1</td>\n      <td>3.3</td>\n      <td>7.1</td>\n      <td>0.465</td>\n      <td>...</td>\n      <td>1.7</td>\n      <td>0.6</td>\n      <td>0.4</td>\n      <td>0.9</td>\n      <td>2.7</td>\n      <td>8.8</td>\n      <td>2010</td>\n      <td>0</td>\n      <td>0</td>\n      <td>BC</td>\n    </tr>\n    <tr>\n      <th>1</th>\n      <td>Alexis Ajinça</td>\n      <td>C</td>\n      <td>21.0</td>\n      <td>CHA</td>\n      <td>6.0</td>\n      <td>0.0</td>\n      <td>5.0</td>\n      <td>0.8</td>\n      <td>1.7</td>\n      <td>0.500</td>\n      <td>...</td>\n      <td>0.0</td>\n      <td>0.2</td>\n      <td>0.2</td>\n      <td>0.3</td>\n      <td>0.8</td>\n      <td>1.7</td>\n      <td>2010</td>\n      <td>0</td>\n      <td>0</td>\n      <td>FC</td>\n    </tr>\n    <tr>\n      <th>2</th>\n      <td>LaMarcus Aldridge</td>\n      <td>PF</td>\n      <td>24.0</td>\n      <td>POR</td>\n      <td>78.0</td>\n      <td>78.0</td>\n      <td>37.5</td>\n      <td>7.4</td>\n      <td>15.0</td>\n      <td>0.495</td>\n      <td>...</td>\n      <td>2.1</td>\n      <td>0.9</td>\n      <td>0.6</td>\n      <td>1.3</td>\n      <td>3.0</td>\n      <td>17.9</td>\n      <td>2010</td>\n      <td>0</td>\n      <td>0</td>\n      <td>FC</td>\n    </tr>\n    <tr>\n      <th>3</th>\n      <td>Joe Alexander</td>\n      <td>SF</td>\n      <td>23.0</td>\n      <td>CHI</td>\n      <td>8.0</td>\n      <td>0.0</td>\n      <td>3.6</td>\n      <td>0.1</td>\n      <td>0.8</td>\n      <td>0.167</td>\n      <td>...</td>\n      <td>0.3</td>\n      <td>0.1</td>\n      <td>0.1</td>\n      <td>0.0</td>\n      <td>1.1</td>\n      <td>0.5</td>\n      <td>2010</td>\n      <td>0</td>\n      <td>0</td>\n      <td>FC</td>\n    </tr>\n    <tr>\n      <th>4</th>\n      <td>Malik Allen</td>\n      <td>PF</td>\n      <td>31.0</td>\n      <td>DEN</td>\n      <td>51.0</td>\n      <td>3.0</td>\n      <td>8.9</td>\n      <td>0.9</td>\n      <td>2.3</td>\n      <td>0.397</td>\n      <td>...</td>\n      <td>0.3</td>\n      <td>0.2</td>\n      <td>0.1</td>\n      <td>0.4</td>\n      <td>1.3</td>\n      <td>2.1</td>\n      <td>2010</td>\n      <td>0</td>\n      <td>0</td>\n      <td>FC</td>\n    </tr>\n  </tbody>\n</table>\n<p>5 rows × 33 columns</p>\n</div>"
     },
     "metadata": {},
     "execution_count": 5
    }
   ],
   "source": [
    "players.head()"
   ]
  },
  {
   "cell_type": "code",
   "execution_count": null,
   "metadata": {},
   "outputs": [],
   "source": []
  }
 ]
}