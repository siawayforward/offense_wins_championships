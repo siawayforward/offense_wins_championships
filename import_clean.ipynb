{
 "cells": [
  {
   "cell_type": "markdown",
   "metadata": {},
   "source": [
    "**Theory**\n",
    "Stephen Curry and co. changed the narrative for defense wins championships. What if offense always won championships, and a good defense helped? What if the phrase was always backwards - a myth? So to check this, I'd like to answer the question by comparing the last ten champions and seeing "
   ]
  },
  {
   "cell_type": "code",
   "execution_count": 2,
   "metadata": {},
   "outputs": [],
   "source": [
    "import pandas as pd\n",
    "import numpy as np"
   ]
  },
  {
   "cell_type": "markdown",
   "metadata": {},
   "source": [
    "### Player and Coach Data\n",
    "Below we extract player and coach data for the last ten seasons (2010-2019) from Sports Reference site. This includes:\n",
    "- Player average statistics over the course of a season (includes postseason)\n",
    "- Coach record data over the course of season and career for experience tracking (includes postseason)\n",
    "- Last ten NBA champions and runner up along with main performers in that year's postseason"
   ]
  },
  {
   "cell_type": "code",
   "execution_count": 31,
   "metadata": {
    "tags": []
   },
   "outputs": [
    {
     "output_type": "stream",
     "name": "stdout",
     "text": "(6371, 31)\n(352, 27)\n"
    }
   ],
   "source": [
    "df_players = pd.DataFrame()\n",
    "df_coaches = pd.DataFrame()\n",
    "\n",
    "#get data - interested in last ten full seasons; remember 2011 lockout season\n",
    "for i in range(2010, 2020):\n",
    "    players = 'https://www.basketball-reference.com/leagues/NBA_'+str(i)+'_per_game.html#per_game_stats::none'\n",
    "    coaches = 'https://www.basketball-reference.com/leagues/NBA_'+str(i)+'_coaches.html#NBA_coaches::none'\n",
    "    df_player = pd.read_html(players, header=0)[0]\n",
    "    df_coach = pd.read_html(coaches, header=0)[0]\n",
    "    df_player['Year'] = i\n",
    "    df_coach['Year'] = i\n",
    "    df_players = pd.concat([df_players, df_player], ignore_index=True) #only get the dataframe\n",
    "    df_coaches = pd.concat([df_coaches, df_coach], ignore_index=True) #only last ten seasons   \n",
    "\n",
    "print(df_players.shape)\n",
    "print(df_coaches.shape)"
   ]
  },
  {
   "cell_type": "code",
   "execution_count": 41,
   "metadata": {
    "tags": []
   },
   "outputs": [
    {
     "output_type": "stream",
     "name": "stdout",
     "text": "(10, 9)\n"
    },
    {
     "output_type": "execute_result",
     "data": {
      "text/plain": "     Year   Lg               Champion              Runner-Up   Finals MVP  \\\n0  2019.0  NBA        Toronto Raptors  Golden State Warriors   K. Leonard   \n1  2018.0  NBA  Golden State Warriors    Cleveland Cavaliers    K. Durant   \n2  2017.0  NBA  Golden State Warriors    Cleveland Cavaliers    K. Durant   \n3  2016.0  NBA    Cleveland Cavaliers  Golden State Warriors     L. James   \n4  2015.0  NBA  Golden State Warriors    Cleveland Cavaliers  A. Iguodala   \n\n              Points         Rebounds             Assists        Win Shares  \n0   K. Leonard (732)   D. Green (223)      D. Green (187)  K. Leonard (4.9)  \n1     L. James (748)   D. Green (222)      L. James (198)    L. James (5.2)  \n2     L. James (591)    K. Love (191)      L. James (141)    L. James (4.3)  \n3  K. Thompson (582)   D. Green (228)  R. Westbrook (198)    L. James (4.7)  \n4     L. James (601)  D. Howard (238)      L. James (169)    S. Curry (3.9)  ",
      "text/html": "<div>\n<style scoped>\n    .dataframe tbody tr th:only-of-type {\n        vertical-align: middle;\n    }\n\n    .dataframe tbody tr th {\n        vertical-align: top;\n    }\n\n    .dataframe thead th {\n        text-align: right;\n    }\n</style>\n<table border=\"1\" class=\"dataframe\">\n  <thead>\n    <tr style=\"text-align: right;\">\n      <th></th>\n      <th>Year</th>\n      <th>Lg</th>\n      <th>Champion</th>\n      <th>Runner-Up</th>\n      <th>Finals MVP</th>\n      <th>Points</th>\n      <th>Rebounds</th>\n      <th>Assists</th>\n      <th>Win Shares</th>\n    </tr>\n  </thead>\n  <tbody>\n    <tr>\n      <th>0</th>\n      <td>2019.0</td>\n      <td>NBA</td>\n      <td>Toronto Raptors</td>\n      <td>Golden State Warriors</td>\n      <td>K. Leonard</td>\n      <td>K. Leonard (732)</td>\n      <td>D. Green (223)</td>\n      <td>D. Green (187)</td>\n      <td>K. Leonard (4.9)</td>\n    </tr>\n    <tr>\n      <th>1</th>\n      <td>2018.0</td>\n      <td>NBA</td>\n      <td>Golden State Warriors</td>\n      <td>Cleveland Cavaliers</td>\n      <td>K. Durant</td>\n      <td>L. James (748)</td>\n      <td>D. Green (222)</td>\n      <td>L. James (198)</td>\n      <td>L. James (5.2)</td>\n    </tr>\n    <tr>\n      <th>2</th>\n      <td>2017.0</td>\n      <td>NBA</td>\n      <td>Golden State Warriors</td>\n      <td>Cleveland Cavaliers</td>\n      <td>K. Durant</td>\n      <td>L. James (591)</td>\n      <td>K. Love (191)</td>\n      <td>L. James (141)</td>\n      <td>L. James (4.3)</td>\n    </tr>\n    <tr>\n      <th>3</th>\n      <td>2016.0</td>\n      <td>NBA</td>\n      <td>Cleveland Cavaliers</td>\n      <td>Golden State Warriors</td>\n      <td>L. James</td>\n      <td>K. Thompson (582)</td>\n      <td>D. Green (228)</td>\n      <td>R. Westbrook (198)</td>\n      <td>L. James (4.7)</td>\n    </tr>\n    <tr>\n      <th>4</th>\n      <td>2015.0</td>\n      <td>NBA</td>\n      <td>Golden State Warriors</td>\n      <td>Cleveland Cavaliers</td>\n      <td>A. Iguodala</td>\n      <td>L. James (601)</td>\n      <td>D. Howard (238)</td>\n      <td>L. James (169)</td>\n      <td>S. Curry (3.9)</td>\n    </tr>\n  </tbody>\n</table>\n</div>"
     },
     "metadata": {},
     "execution_count": 41
    }
   ],
   "source": [
    "#get data for the last ten champions (first table, first ten rows)\n",
    "champions = pd.read_html('https://www.basketball-reference.com/playoffs/', header=1)[0][0:10]\n",
    "del champions['Unnamed: 5']\n",
    "print(champions.shape)\n",
    "champions.head()"
   ]
  },
  {
   "cell_type": "markdown",
   "metadata": {},
   "source": [
    "### Players\n",
    "High count, but players switch teams and get traded. More concerned with coaches. After reviewing structure of players tables, the **Rk** variable that is just a count is removed because we can count players in a season by using the newly added year column which is more informative.\n",
    "\n",
    "### Coaches\n",
    "The count seems higher than what is expected. The above implies that on average 35 coaches had a job each season. However, that is a higher turnover rate. There might be some columns with header values in there...\n",
    "\n",
    "### Champions\n",
    "All of the features are categorical. Numerical features can be extracted to get the top points, rebounds, assists, and win shares for the players that postseason if needed. This will be done along with changing the year column from floats to integers. We can also remove the league column because all data here is NBA data."
   ]
  },
  {
   "cell_type": "code",
   "execution_count": 43,
   "metadata": {},
   "outputs": [
    {
     "output_type": "execute_result",
     "data": {
      "text/plain": "              Player Pos Age   Tm   G  GS    MP   FG   FGA   FG%  ...  ORB  \\\n0      Arron Afflalo  SG  24  DEN  82  75  27.1  3.3   7.1  .465  ...  0.7   \n1      Alexis Ajinça   C  21  CHA   6   0   5.0  0.8   1.7  .500  ...  0.2   \n2  LaMarcus Aldridge  PF  24  POR  78  78  37.5  7.4  15.0  .495  ...  2.5   \n3      Joe Alexander  SF  23  CHI   8   0   3.6  0.1   0.8  .167  ...  0.3   \n4        Malik Allen  PF  31  DEN  51   3   8.9  0.9   2.3  .397  ...  0.7   \n\n   DRB  TRB  AST  STL  BLK  TOV   PF   PTS  Year  \n0  2.4  3.1  1.7  0.6  0.4  0.9  2.7   8.8  2010  \n1  0.5  0.7  0.0  0.2  0.2  0.3  0.8   1.7  2010  \n2  5.6  8.0  2.1  0.9  0.6  1.3  3.0  17.9  2010  \n3  0.4  0.6  0.3  0.1  0.1  0.0  1.1   0.5  2010  \n4  0.9  1.6  0.3  0.2  0.1  0.4  1.3   2.1  2010  \n\n[5 rows x 30 columns]",
      "text/html": "<div>\n<style scoped>\n    .dataframe tbody tr th:only-of-type {\n        vertical-align: middle;\n    }\n\n    .dataframe tbody tr th {\n        vertical-align: top;\n    }\n\n    .dataframe thead th {\n        text-align: right;\n    }\n</style>\n<table border=\"1\" class=\"dataframe\">\n  <thead>\n    <tr style=\"text-align: right;\">\n      <th></th>\n      <th>Player</th>\n      <th>Pos</th>\n      <th>Age</th>\n      <th>Tm</th>\n      <th>G</th>\n      <th>GS</th>\n      <th>MP</th>\n      <th>FG</th>\n      <th>FGA</th>\n      <th>FG%</th>\n      <th>...</th>\n      <th>ORB</th>\n      <th>DRB</th>\n      <th>TRB</th>\n      <th>AST</th>\n      <th>STL</th>\n      <th>BLK</th>\n      <th>TOV</th>\n      <th>PF</th>\n      <th>PTS</th>\n      <th>Year</th>\n    </tr>\n  </thead>\n  <tbody>\n    <tr>\n      <th>0</th>\n      <td>Arron Afflalo</td>\n      <td>SG</td>\n      <td>24</td>\n      <td>DEN</td>\n      <td>82</td>\n      <td>75</td>\n      <td>27.1</td>\n      <td>3.3</td>\n      <td>7.1</td>\n      <td>.465</td>\n      <td>...</td>\n      <td>0.7</td>\n      <td>2.4</td>\n      <td>3.1</td>\n      <td>1.7</td>\n      <td>0.6</td>\n      <td>0.4</td>\n      <td>0.9</td>\n      <td>2.7</td>\n      <td>8.8</td>\n      <td>2010</td>\n    </tr>\n    <tr>\n      <th>1</th>\n      <td>Alexis Ajinça</td>\n      <td>C</td>\n      <td>21</td>\n      <td>CHA</td>\n      <td>6</td>\n      <td>0</td>\n      <td>5.0</td>\n      <td>0.8</td>\n      <td>1.7</td>\n      <td>.500</td>\n      <td>...</td>\n      <td>0.2</td>\n      <td>0.5</td>\n      <td>0.7</td>\n      <td>0.0</td>\n      <td>0.2</td>\n      <td>0.2</td>\n      <td>0.3</td>\n      <td>0.8</td>\n      <td>1.7</td>\n      <td>2010</td>\n    </tr>\n    <tr>\n      <th>2</th>\n      <td>LaMarcus Aldridge</td>\n      <td>PF</td>\n      <td>24</td>\n      <td>POR</td>\n      <td>78</td>\n      <td>78</td>\n      <td>37.5</td>\n      <td>7.4</td>\n      <td>15.0</td>\n      <td>.495</td>\n      <td>...</td>\n      <td>2.5</td>\n      <td>5.6</td>\n      <td>8.0</td>\n      <td>2.1</td>\n      <td>0.9</td>\n      <td>0.6</td>\n      <td>1.3</td>\n      <td>3.0</td>\n      <td>17.9</td>\n      <td>2010</td>\n    </tr>\n    <tr>\n      <th>3</th>\n      <td>Joe Alexander</td>\n      <td>SF</td>\n      <td>23</td>\n      <td>CHI</td>\n      <td>8</td>\n      <td>0</td>\n      <td>3.6</td>\n      <td>0.1</td>\n      <td>0.8</td>\n      <td>.167</td>\n      <td>...</td>\n      <td>0.3</td>\n      <td>0.4</td>\n      <td>0.6</td>\n      <td>0.3</td>\n      <td>0.1</td>\n      <td>0.1</td>\n      <td>0.0</td>\n      <td>1.1</td>\n      <td>0.5</td>\n      <td>2010</td>\n    </tr>\n    <tr>\n      <th>4</th>\n      <td>Malik Allen</td>\n      <td>PF</td>\n      <td>31</td>\n      <td>DEN</td>\n      <td>51</td>\n      <td>3</td>\n      <td>8.9</td>\n      <td>0.9</td>\n      <td>2.3</td>\n      <td>.397</td>\n      <td>...</td>\n      <td>0.7</td>\n      <td>0.9</td>\n      <td>1.6</td>\n      <td>0.3</td>\n      <td>0.2</td>\n      <td>0.1</td>\n      <td>0.4</td>\n      <td>1.3</td>\n      <td>2.1</td>\n      <td>2010</td>\n    </tr>\n  </tbody>\n</table>\n<p>5 rows × 30 columns</p>\n</div>"
     },
     "metadata": {},
     "execution_count": 43
    }
   ],
   "source": [
    "#Players table\n",
    "del df_players['Rk']\n",
    "df_players.head()"
   ]
  },
  {
   "cell_type": "code",
   "execution_count": 32,
   "metadata": {},
   "outputs": [
    {
     "output_type": "execute_result",
     "data": {
      "text/plain": "     Unnamed: 0 Unnamed: 1  Unnamed: 2    Seasons Seasons.1  Unnamed: 5  \\\n0           NaN        NaN         NaN  w/ Franch   Overall         NaN   \n1         Coach         Tm         NaN          #         #         NaN   \n2  Mike Woodson        ATL         NaN          6         6         NaN   \n3    Doc Rivers        BOS         NaN          6        11         NaN   \n4   Larry Brown        CHA         NaN          2        29         NaN   \n\n   Regular Season Regular Season.1 Regular Season.2 Regular Season.3  ...  \\\n0  Current Season   Current Season   Current Season     w/ Franchise  ...   \n1               G                W                L                G  ...   \n2              82               53               29              492  ...   \n3              82               50               32              492  ...   \n4              82               44               38              164  ...   \n\n         Playoffs      Playoffs.1      Playoffs.2    Playoffs.3    Playoffs.4  \\\n0  Current Season  Current Season  Current Season  w/ Franchise  w/ Franchise   \n1               G               W               L             G             W   \n2              11               4               7            29            11   \n3              24              15               9            71            41   \n4               4               0               4             4             0   \n\n     Playoffs.5  Playoffs.6 Playoffs.7 Playoffs.8  Year  \n0  w/ Franchise      Career     Career     Career  2010  \n1             L           G          W          L  2010  \n2            18          29         11         18  2010  \n3            30          86         46         40  2010  \n4             4         235        120        115  2010  \n\n[5 rows x 27 columns]",
      "text/html": "<div>\n<style scoped>\n    .dataframe tbody tr th:only-of-type {\n        vertical-align: middle;\n    }\n\n    .dataframe tbody tr th {\n        vertical-align: top;\n    }\n\n    .dataframe thead th {\n        text-align: right;\n    }\n</style>\n<table border=\"1\" class=\"dataframe\">\n  <thead>\n    <tr style=\"text-align: right;\">\n      <th></th>\n      <th>Unnamed: 0</th>\n      <th>Unnamed: 1</th>\n      <th>Unnamed: 2</th>\n      <th>Seasons</th>\n      <th>Seasons.1</th>\n      <th>Unnamed: 5</th>\n      <th>Regular Season</th>\n      <th>Regular Season.1</th>\n      <th>Regular Season.2</th>\n      <th>Regular Season.3</th>\n      <th>...</th>\n      <th>Playoffs</th>\n      <th>Playoffs.1</th>\n      <th>Playoffs.2</th>\n      <th>Playoffs.3</th>\n      <th>Playoffs.4</th>\n      <th>Playoffs.5</th>\n      <th>Playoffs.6</th>\n      <th>Playoffs.7</th>\n      <th>Playoffs.8</th>\n      <th>Year</th>\n    </tr>\n  </thead>\n  <tbody>\n    <tr>\n      <th>0</th>\n      <td>NaN</td>\n      <td>NaN</td>\n      <td>NaN</td>\n      <td>w/ Franch</td>\n      <td>Overall</td>\n      <td>NaN</td>\n      <td>Current Season</td>\n      <td>Current Season</td>\n      <td>Current Season</td>\n      <td>w/ Franchise</td>\n      <td>...</td>\n      <td>Current Season</td>\n      <td>Current Season</td>\n      <td>Current Season</td>\n      <td>w/ Franchise</td>\n      <td>w/ Franchise</td>\n      <td>w/ Franchise</td>\n      <td>Career</td>\n      <td>Career</td>\n      <td>Career</td>\n      <td>2010</td>\n    </tr>\n    <tr>\n      <th>1</th>\n      <td>Coach</td>\n      <td>Tm</td>\n      <td>NaN</td>\n      <td>#</td>\n      <td>#</td>\n      <td>NaN</td>\n      <td>G</td>\n      <td>W</td>\n      <td>L</td>\n      <td>G</td>\n      <td>...</td>\n      <td>G</td>\n      <td>W</td>\n      <td>L</td>\n      <td>G</td>\n      <td>W</td>\n      <td>L</td>\n      <td>G</td>\n      <td>W</td>\n      <td>L</td>\n      <td>2010</td>\n    </tr>\n    <tr>\n      <th>2</th>\n      <td>Mike Woodson</td>\n      <td>ATL</td>\n      <td>NaN</td>\n      <td>6</td>\n      <td>6</td>\n      <td>NaN</td>\n      <td>82</td>\n      <td>53</td>\n      <td>29</td>\n      <td>492</td>\n      <td>...</td>\n      <td>11</td>\n      <td>4</td>\n      <td>7</td>\n      <td>29</td>\n      <td>11</td>\n      <td>18</td>\n      <td>29</td>\n      <td>11</td>\n      <td>18</td>\n      <td>2010</td>\n    </tr>\n    <tr>\n      <th>3</th>\n      <td>Doc Rivers</td>\n      <td>BOS</td>\n      <td>NaN</td>\n      <td>6</td>\n      <td>11</td>\n      <td>NaN</td>\n      <td>82</td>\n      <td>50</td>\n      <td>32</td>\n      <td>492</td>\n      <td>...</td>\n      <td>24</td>\n      <td>15</td>\n      <td>9</td>\n      <td>71</td>\n      <td>41</td>\n      <td>30</td>\n      <td>86</td>\n      <td>46</td>\n      <td>40</td>\n      <td>2010</td>\n    </tr>\n    <tr>\n      <th>4</th>\n      <td>Larry Brown</td>\n      <td>CHA</td>\n      <td>NaN</td>\n      <td>2</td>\n      <td>29</td>\n      <td>NaN</td>\n      <td>82</td>\n      <td>44</td>\n      <td>38</td>\n      <td>164</td>\n      <td>...</td>\n      <td>4</td>\n      <td>0</td>\n      <td>4</td>\n      <td>4</td>\n      <td>0</td>\n      <td>4</td>\n      <td>235</td>\n      <td>120</td>\n      <td>115</td>\n      <td>2010</td>\n    </tr>\n  </tbody>\n</table>\n<p>5 rows × 27 columns</p>\n</div>"
     },
     "metadata": {},
     "execution_count": 32
    }
   ],
   "source": [
    "#Coaches table\n",
    "df_coaches.head()"
   ]
  },
  {
   "cell_type": "code",
   "execution_count": 34,
   "metadata": {
    "tags": []
   },
   "outputs": [
    {
     "output_type": "stream",
     "name": "stdout",
     "text": "[[nan nan nan 'w/ Franch' 'Overall' nan 'Current Season' 'Current Season'\n  'Current Season' 'w/ Franchise' 'w/ Franchise' 'w/ Franchise' 'Career'\n  'Career' 'Career' 'Career' nan 'Current Season' 'Current Season'\n  'Current Season' 'w/ Franchise' 'w/ Franchise' 'w/ Franchise' 'Career'\n  'Career' 'Career' 2010]\n ['Coach' 'Tm' nan '#' '#' nan 'G' 'W' 'L' 'G' 'W' 'L' 'G' 'W' 'L' 'W%'\n  nan 'G' 'W' 'L' 'G' 'W' 'L' 'G' 'W' 'L' 2010]]\n"
    }
   ],
   "source": [
    "#seeing how far in titles that are not values go into the dataframe before removing\n",
    "print(df_coaches.iloc[0:2].values)"
   ]
  },
  {
   "cell_type": "markdown",
   "metadata": {},
   "source": [
    "###   Labels\n",
    "The coaching table needs to be transformed. There is data with two distinctions:\n",
    "- Regular and playoff seasons -> key will be (R, P) e.g. Regular season wins = R-Wins\n",
    "- Current and franchise count seasons -> (C, F)  e.g. Current season, regular season wins = C-Wins\n",
    "\n",
    "Key:\n",
    "- Current season, regular season = **CR**  \n",
    "- Current season, playoffs = **CP**  \n",
    "- Franchise, regular season = **FR**  \n",
    "- Franchise, playoff = **FP**  \n",
    "- Career regular season (experience) = **Car** \n",
    "- Career playoffs = **Car.P**\n",
    "\n",
    "Index made below is based on header deciphered seen above"
   ]
  },
  {
   "cell_type": "code",
   "execution_count": 35,
   "metadata": {},
   "outputs": [],
   "source": [
    "#renaming remaining useful columns after review and key definitions\n",
    "cols = ['Coach', 'F-Seasons', 'Car-Seasons', 'CR-G', 'CR-W', 'CR-L', 'FR-G', 'FR-W', 'FR-L', 'Car-G', 'Car-W', 'Car-L', 'Car-W%', 'CP-G', 'CP-W', 'CP-L', 'FP-G', 'FP-W', 'FP-L', 'Car.P-G', 'Car.P-W', 'Car.P-L']"
   ]
  },
  {
   "cell_type": "code",
   "execution_count": 38,
   "metadata": {},
   "outputs": [
    {
     "output_type": "execute_result",
     "data": {
      "text/plain": "(332, 23)"
     },
     "metadata": {},
     "execution_count": 38
    }
   ],
   "source": [
    "#get coaching data and transform each season's table before appending\n",
    "df_coaches = pd.DataFrame()\n",
    "for i in range(2010, 2020):\n",
    "    coaches = 'https://www.basketball-reference.com/leagues/NBA_'+str(i)+'_coaches.html#NBA_coaches::none'\n",
    "    df_coach = pd.read_html(coaches, header=0)[0]\n",
    "    #remove empty columns (html tag extra columns carried over)\n",
    "    del df_coach['Unnamed: 1'], df_coach['Unnamed: 2'], df_coach['Unnamed: 5'], df_coach['Unnamed: 16']\n",
    "    #rename columns and delete rows with names in them before appending to larger dataframe\n",
    "    df_coach.columns = cols \n",
    "    df_coach = df_coach[2:]     \n",
    "    df_coach['Year'] = i\n",
    "    df_coaches = pd.concat([df_coaches, df_coach], ignore_index=True)\n",
    "\n",
    "df_coaches.shape"
   ]
  },
  {
   "cell_type": "code",
   "execution_count": 39,
   "metadata": {},
   "outputs": [
    {
     "output_type": "execute_result",
     "data": {
      "text/plain": "             Coach F-Seasons Car-Seasons CR-G CR-W CR-L FR-G FR-W FR-L Car-G  \\\n0     Mike Woodson         6           6   82   53   29  492  206  286   492   \n1       Doc Rivers         6          11   82   50   32  492  280  212   831   \n2      Larry Brown         2          29   82   44   38  164   79   85  2310   \n3  Vinny Del Negro         2           2   82   41   41  164   82   82   164   \n4       Mike Brown         5           5   82   61   21  410  272  138   410   \n\n   ... CP-G CP-W CP-L FP-G FP-W FP-L Car.P-G Car.P-W Car.P-L  Year  \n0  ...   11    4    7   29   11   18      29      11      18  2010  \n1  ...   24   15    9   71   41   30      86      46      40  2010  \n2  ...    4    0    4    4    0    4     235     120     115  2010  \n3  ...    5    1    4   12    4    8      12       4       8  2010  \n4  ...   11    6    5   71   42   29      71      42      29  2010  \n\n[5 rows x 23 columns]",
      "text/html": "<div>\n<style scoped>\n    .dataframe tbody tr th:only-of-type {\n        vertical-align: middle;\n    }\n\n    .dataframe tbody tr th {\n        vertical-align: top;\n    }\n\n    .dataframe thead th {\n        text-align: right;\n    }\n</style>\n<table border=\"1\" class=\"dataframe\">\n  <thead>\n    <tr style=\"text-align: right;\">\n      <th></th>\n      <th>Coach</th>\n      <th>F-Seasons</th>\n      <th>Car-Seasons</th>\n      <th>CR-G</th>\n      <th>CR-W</th>\n      <th>CR-L</th>\n      <th>FR-G</th>\n      <th>FR-W</th>\n      <th>FR-L</th>\n      <th>Car-G</th>\n      <th>...</th>\n      <th>CP-G</th>\n      <th>CP-W</th>\n      <th>CP-L</th>\n      <th>FP-G</th>\n      <th>FP-W</th>\n      <th>FP-L</th>\n      <th>Car.P-G</th>\n      <th>Car.P-W</th>\n      <th>Car.P-L</th>\n      <th>Year</th>\n    </tr>\n  </thead>\n  <tbody>\n    <tr>\n      <th>0</th>\n      <td>Mike Woodson</td>\n      <td>6</td>\n      <td>6</td>\n      <td>82</td>\n      <td>53</td>\n      <td>29</td>\n      <td>492</td>\n      <td>206</td>\n      <td>286</td>\n      <td>492</td>\n      <td>...</td>\n      <td>11</td>\n      <td>4</td>\n      <td>7</td>\n      <td>29</td>\n      <td>11</td>\n      <td>18</td>\n      <td>29</td>\n      <td>11</td>\n      <td>18</td>\n      <td>2010</td>\n    </tr>\n    <tr>\n      <th>1</th>\n      <td>Doc Rivers</td>\n      <td>6</td>\n      <td>11</td>\n      <td>82</td>\n      <td>50</td>\n      <td>32</td>\n      <td>492</td>\n      <td>280</td>\n      <td>212</td>\n      <td>831</td>\n      <td>...</td>\n      <td>24</td>\n      <td>15</td>\n      <td>9</td>\n      <td>71</td>\n      <td>41</td>\n      <td>30</td>\n      <td>86</td>\n      <td>46</td>\n      <td>40</td>\n      <td>2010</td>\n    </tr>\n    <tr>\n      <th>2</th>\n      <td>Larry Brown</td>\n      <td>2</td>\n      <td>29</td>\n      <td>82</td>\n      <td>44</td>\n      <td>38</td>\n      <td>164</td>\n      <td>79</td>\n      <td>85</td>\n      <td>2310</td>\n      <td>...</td>\n      <td>4</td>\n      <td>0</td>\n      <td>4</td>\n      <td>4</td>\n      <td>0</td>\n      <td>4</td>\n      <td>235</td>\n      <td>120</td>\n      <td>115</td>\n      <td>2010</td>\n    </tr>\n    <tr>\n      <th>3</th>\n      <td>Vinny Del Negro</td>\n      <td>2</td>\n      <td>2</td>\n      <td>82</td>\n      <td>41</td>\n      <td>41</td>\n      <td>164</td>\n      <td>82</td>\n      <td>82</td>\n      <td>164</td>\n      <td>...</td>\n      <td>5</td>\n      <td>1</td>\n      <td>4</td>\n      <td>12</td>\n      <td>4</td>\n      <td>8</td>\n      <td>12</td>\n      <td>4</td>\n      <td>8</td>\n      <td>2010</td>\n    </tr>\n    <tr>\n      <th>4</th>\n      <td>Mike Brown</td>\n      <td>5</td>\n      <td>5</td>\n      <td>82</td>\n      <td>61</td>\n      <td>21</td>\n      <td>410</td>\n      <td>272</td>\n      <td>138</td>\n      <td>410</td>\n      <td>...</td>\n      <td>11</td>\n      <td>6</td>\n      <td>5</td>\n      <td>71</td>\n      <td>42</td>\n      <td>29</td>\n      <td>71</td>\n      <td>42</td>\n      <td>29</td>\n      <td>2010</td>\n    </tr>\n  </tbody>\n</table>\n<p>5 rows × 23 columns</p>\n</div>"
     },
     "metadata": {},
     "execution_count": 39
    }
   ],
   "source": [
    "df_coaches.head()"
   ]
  },
  {
   "cell_type": "code",
   "execution_count": 59,
   "metadata": {},
   "outputs": [
    {
     "output_type": "execute_result",
     "data": {
      "text/plain": "   Year               Champion              Runner-Up   Finals MVP  \\\n0  2019        Toronto Raptors  Golden State Warriors   K. Leonard   \n1  2018  Golden State Warriors    Cleveland Cavaliers    K. Durant   \n2  2017  Golden State Warriors    Cleveland Cavaliers    K. Durant   \n3  2016    Cleveland Cavaliers  Golden State Warriors     L. James   \n4  2015  Golden State Warriors    Cleveland Cavaliers  A. Iguodala   \n\n              Points         Rebounds             Assists        Win Shares  \n0   K. Leonard (732)   D. Green (223)      D. Green (187)  K. Leonard (4.9)  \n1     L. James (748)   D. Green (222)      L. James (198)    L. James (5.2)  \n2     L. James (591)    K. Love (191)      L. James (141)    L. James (4.3)  \n3  K. Thompson (582)   D. Green (228)  R. Westbrook (198)    L. James (4.7)  \n4     L. James (601)  D. Howard (238)      L. James (169)    S. Curry (3.9)  ",
      "text/html": "<div>\n<style scoped>\n    .dataframe tbody tr th:only-of-type {\n        vertical-align: middle;\n    }\n\n    .dataframe tbody tr th {\n        vertical-align: top;\n    }\n\n    .dataframe thead th {\n        text-align: right;\n    }\n</style>\n<table border=\"1\" class=\"dataframe\">\n  <thead>\n    <tr style=\"text-align: right;\">\n      <th></th>\n      <th>Year</th>\n      <th>Champion</th>\n      <th>Runner-Up</th>\n      <th>Finals MVP</th>\n      <th>Points</th>\n      <th>Rebounds</th>\n      <th>Assists</th>\n      <th>Win Shares</th>\n    </tr>\n  </thead>\n  <tbody>\n    <tr>\n      <th>0</th>\n      <td>2019</td>\n      <td>Toronto Raptors</td>\n      <td>Golden State Warriors</td>\n      <td>K. Leonard</td>\n      <td>K. Leonard (732)</td>\n      <td>D. Green (223)</td>\n      <td>D. Green (187)</td>\n      <td>K. Leonard (4.9)</td>\n    </tr>\n    <tr>\n      <th>1</th>\n      <td>2018</td>\n      <td>Golden State Warriors</td>\n      <td>Cleveland Cavaliers</td>\n      <td>K. Durant</td>\n      <td>L. James (748)</td>\n      <td>D. Green (222)</td>\n      <td>L. James (198)</td>\n      <td>L. James (5.2)</td>\n    </tr>\n    <tr>\n      <th>2</th>\n      <td>2017</td>\n      <td>Golden State Warriors</td>\n      <td>Cleveland Cavaliers</td>\n      <td>K. Durant</td>\n      <td>L. James (591)</td>\n      <td>K. Love (191)</td>\n      <td>L. James (141)</td>\n      <td>L. James (4.3)</td>\n    </tr>\n    <tr>\n      <th>3</th>\n      <td>2016</td>\n      <td>Cleveland Cavaliers</td>\n      <td>Golden State Warriors</td>\n      <td>L. James</td>\n      <td>K. Thompson (582)</td>\n      <td>D. Green (228)</td>\n      <td>R. Westbrook (198)</td>\n      <td>L. James (4.7)</td>\n    </tr>\n    <tr>\n      <th>4</th>\n      <td>2015</td>\n      <td>Golden State Warriors</td>\n      <td>Cleveland Cavaliers</td>\n      <td>A. Iguodala</td>\n      <td>L. James (601)</td>\n      <td>D. Howard (238)</td>\n      <td>L. James (169)</td>\n      <td>S. Curry (3.9)</td>\n    </tr>\n  </tbody>\n</table>\n</div>"
     },
     "metadata": {},
     "execution_count": 59
    }
   ],
   "source": [
    "#Champions table\n",
    "champions['Year'] = champions['Year'].apply(lambda x: int(x)) #years into integers\n",
    "del champions['Lg'] #delete league name col\n",
    "champions.head()"
   ]
  },
  {
   "cell_type": "code",
   "execution_count": 78,
   "metadata": {},
   "outputs": [],
   "source": [
    "#extract top values from points, rebounds, assists, and win shares\n",
    "def extract_values(text):\n",
    "    value = text.split('(')[1]\n",
    "    value = value.split(')')[0]\n",
    "    try: fin_value = int(value)\n",
    "    except: fin_value = float(value)\n",
    "    return fin_value"
   ]
  },
  {
   "cell_type": "code",
   "execution_count": 81,
   "metadata": {},
   "outputs": [],
   "source": [
    "#rename columns\n",
    "champions = champions.rename(columns = {'Points':'Top Scorer', 'Rebounds':'Top Rebr', 'Assists':'Top Asst', \n",
    "'Win Shares': 'WS Lead'})\n",
    "#extract top performer values\n",
    "champions['Points'] = champions['Top Scorer'].apply(lambda x: extract_values(x))\n",
    "champions['Rebounds'] = champions['Top Rebr'].apply(lambda x: extract_values(x))\n",
    "champions['Assists'] = champions['Top Asst'].apply(lambda x: extract_values(x))\n",
    "champions['Win Shares'] = champions['WS Lead'].apply(lambda x: extract_values(x))"
   ]
  },
  {
   "cell_type": "code",
   "execution_count": 83,
   "metadata": {},
   "outputs": [
    {
     "output_type": "execute_result",
     "data": {
      "text/plain": "   Year               Champion              Runner-Up   Finals MVP  \\\n0  2019        Toronto Raptors  Golden State Warriors   K. Leonard   \n1  2018  Golden State Warriors    Cleveland Cavaliers    K. Durant   \n2  2017  Golden State Warriors    Cleveland Cavaliers    K. Durant   \n3  2016    Cleveland Cavaliers  Golden State Warriors     L. James   \n4  2015  Golden State Warriors    Cleveland Cavaliers  A. Iguodala   \n\n          Top Scorer         Top Rebr            Top Asst           WS Lead  \\\n0   K. Leonard (732)   D. Green (223)      D. Green (187)  K. Leonard (4.9)   \n1     L. James (748)   D. Green (222)      L. James (198)    L. James (5.2)   \n2     L. James (591)    K. Love (191)      L. James (141)    L. James (4.3)   \n3  K. Thompson (582)   D. Green (228)  R. Westbrook (198)    L. James (4.7)   \n4     L. James (601)  D. Howard (238)      L. James (169)    S. Curry (3.9)   \n\n   Points  Rebounds  Assists  Win Shares  \n0     732       223      187         4.9  \n1     748       222      198         5.2  \n2     591       191      141         4.3  \n3     582       228      198         4.7  \n4     601       238      169         3.9  ",
      "text/html": "<div>\n<style scoped>\n    .dataframe tbody tr th:only-of-type {\n        vertical-align: middle;\n    }\n\n    .dataframe tbody tr th {\n        vertical-align: top;\n    }\n\n    .dataframe thead th {\n        text-align: right;\n    }\n</style>\n<table border=\"1\" class=\"dataframe\">\n  <thead>\n    <tr style=\"text-align: right;\">\n      <th></th>\n      <th>Year</th>\n      <th>Champion</th>\n      <th>Runner-Up</th>\n      <th>Finals MVP</th>\n      <th>Top Scorer</th>\n      <th>Top Rebr</th>\n      <th>Top Asst</th>\n      <th>WS Lead</th>\n      <th>Points</th>\n      <th>Rebounds</th>\n      <th>Assists</th>\n      <th>Win Shares</th>\n    </tr>\n  </thead>\n  <tbody>\n    <tr>\n      <th>0</th>\n      <td>2019</td>\n      <td>Toronto Raptors</td>\n      <td>Golden State Warriors</td>\n      <td>K. Leonard</td>\n      <td>K. Leonard (732)</td>\n      <td>D. Green (223)</td>\n      <td>D. Green (187)</td>\n      <td>K. Leonard (4.9)</td>\n      <td>732</td>\n      <td>223</td>\n      <td>187</td>\n      <td>4.9</td>\n    </tr>\n    <tr>\n      <th>1</th>\n      <td>2018</td>\n      <td>Golden State Warriors</td>\n      <td>Cleveland Cavaliers</td>\n      <td>K. Durant</td>\n      <td>L. James (748)</td>\n      <td>D. Green (222)</td>\n      <td>L. James (198)</td>\n      <td>L. James (5.2)</td>\n      <td>748</td>\n      <td>222</td>\n      <td>198</td>\n      <td>5.2</td>\n    </tr>\n    <tr>\n      <th>2</th>\n      <td>2017</td>\n      <td>Golden State Warriors</td>\n      <td>Cleveland Cavaliers</td>\n      <td>K. Durant</td>\n      <td>L. James (591)</td>\n      <td>K. Love (191)</td>\n      <td>L. James (141)</td>\n      <td>L. James (4.3)</td>\n      <td>591</td>\n      <td>191</td>\n      <td>141</td>\n      <td>4.3</td>\n    </tr>\n    <tr>\n      <th>3</th>\n      <td>2016</td>\n      <td>Cleveland Cavaliers</td>\n      <td>Golden State Warriors</td>\n      <td>L. James</td>\n      <td>K. Thompson (582)</td>\n      <td>D. Green (228)</td>\n      <td>R. Westbrook (198)</td>\n      <td>L. James (4.7)</td>\n      <td>582</td>\n      <td>228</td>\n      <td>198</td>\n      <td>4.7</td>\n    </tr>\n    <tr>\n      <th>4</th>\n      <td>2015</td>\n      <td>Golden State Warriors</td>\n      <td>Cleveland Cavaliers</td>\n      <td>A. Iguodala</td>\n      <td>L. James (601)</td>\n      <td>D. Howard (238)</td>\n      <td>L. James (169)</td>\n      <td>S. Curry (3.9)</td>\n      <td>601</td>\n      <td>238</td>\n      <td>169</td>\n      <td>3.9</td>\n    </tr>\n  </tbody>\n</table>\n</div>"
     },
     "metadata": {},
     "execution_count": 83
    }
   ],
   "source": [
    "champions.head()"
   ]
  },
  {
   "cell_type": "code",
   "execution_count": null,
   "metadata": {},
   "outputs": [],
   "source": []
  }
 ],
 "metadata": {
  "language_info": {
   "codemirror_mode": {
    "name": "ipython",
    "version": 3
   },
   "file_extension": ".py",
   "mimetype": "text/x-python",
   "name": "python",
   "nbconvert_exporter": "python",
   "pygments_lexer": "ipython3",
   "version": 3
  },
  "orig_nbformat": 2,
  "kernelspec": {
   "name": "python_defaultSpec_1594593666030",
   "display_name": "Python 3.7.6 64-bit"
  }
 },
 "nbformat": 4,
 "nbformat_minor": 2
}