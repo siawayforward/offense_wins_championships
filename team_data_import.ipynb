{
 "metadata": {
  "language_info": {
   "codemirror_mode": {
    "name": "ipython",
    "version": 3
   },
   "file_extension": ".py",
   "mimetype": "text/x-python",
   "name": "python",
   "nbconvert_exporter": "python",
   "pygments_lexer": "ipython3",
   "version": "3.7.6-final"
  },
  "orig_nbformat": 2,
  "kernelspec": {
   "name": "python_defaultSpec_1598493838656",
   "display_name": "Python 3.7.6 64-bit"
  }
 },
 "nbformat": 4,
 "nbformat_minor": 2,
 "cells": [
  {
   "cell_type": "code",
   "execution_count": 1,
   "metadata": {},
   "outputs": [],
   "source": [
    "#modules\n",
    "import pandas as pd\n",
    "import numpy as np\n",
    "from selenium import webdriver\n",
    "from bs4 import BeautifulSoup as bs\n",
    "import requests"
   ]
  },
  {
   "cell_type": "markdown",
   "metadata": {},
   "source": [
    "### Teams Data\n",
    "This will ultimately be the main focus dataset. We want to review team seasonal averages, but we have player data to see how positions affect different team metrics. We extract this for the last ten seasons (2010-2019) from the official [NBA website](https://stats.nba.com/teams/traditional/?Season=2019-20&SeasonType=Regular%20Season). Unlike the other data from Sports Reference, it was easier to scrape the NBA website because the SR data for season average is stored as HTML comments. It is a fun extraction challenge, but for another day."
   ]
  },
  {
   "cell_type": "code",
   "execution_count": 6,
   "metadata": {
    "tags": []
   },
   "outputs": [
    {
     "output_type": "stream",
     "name": "stdout",
     "text": "['Unnamed: 0' 'TEAM' 'GP' 'W' 'L' 'WIN%' 'MIN' 'PTS' 'FGM' 'FGA' 'FG%'\n '3PM' '3PA' '3P%' 'FTM' 'FTA' 'FT%' 'OREB' 'DREB' 'REB' 'AST' 'TOV' 'STL'\n 'BLK' 'BLKA' 'PF' 'PFD' '+/-' 'GP RANK' 'W RANK' 'L RANK' 'WIN% RANK'\n 'MIN RANK' 'PTS RANK' 'FGM RANK' 'FGA RANK' 'FG% RANK' '3PM RANK'\n '3PA RANK' '3P% RANK' 'FTM RANK' 'FTA RANK' 'FT% RANK' 'OREB RANK'\n 'DREB RANK' 'REB RANK' 'AST RANK' 'TOV RANK' 'STL RANK' 'BLK RANK'\n 'BLKA RANK' 'PF RANK' 'PFD RANK' '+/- RANK']\n\n"
    },
    {
     "output_type": "execute_result",
     "data": {
      "text/plain": "   Unnamed: 0                   TEAM  GP   W   L   WIN%   MIN    PTS   FGM  \\\n0           1          Chicago Bulls  66  50  16  0.758  48.3   96.3  37.4   \n1           1      San Antonio Spurs  66  50  16  0.758  48.3  103.7  39.6   \n2           3  Oklahoma City Thunder  66  47  19  0.712  48.5  103.1  37.3   \n3           4             Miami Heat  66  46  20  0.697  48.6   98.5  37.1   \n4           5         Indiana Pacers  66  42  24  0.636  48.5   97.7  35.7   \n\n    FGA  ...  DREB RANK  REB RANK  AST RANK  TOV RANK  STL RANK  BLK RANK  \\\n0  82.8  ...        NaN       NaN       NaN       NaN       NaN       NaN   \n1  82.8  ...        NaN       NaN       NaN       NaN       NaN       NaN   \n2  79.2  ...        NaN       NaN       NaN       NaN       NaN       NaN   \n3  79.0  ...        NaN       NaN       NaN       NaN       NaN       NaN   \n4  81.4  ...        NaN       NaN       NaN       NaN       NaN       NaN   \n\n   BLKA RANK  PF RANK  PFD RANK  +/- RANK  \n0        NaN      NaN       NaN       NaN  \n1        NaN      NaN       NaN       NaN  \n2        NaN      NaN       NaN       NaN  \n3        NaN      NaN       NaN       NaN  \n4        NaN      NaN       NaN       NaN  \n\n[5 rows x 54 columns]",
      "text/html": "<div>\n<style scoped>\n    .dataframe tbody tr th:only-of-type {\n        vertical-align: middle;\n    }\n\n    .dataframe tbody tr th {\n        vertical-align: top;\n    }\n\n    .dataframe thead th {\n        text-align: right;\n    }\n</style>\n<table border=\"1\" class=\"dataframe\">\n  <thead>\n    <tr style=\"text-align: right;\">\n      <th></th>\n      <th>Unnamed: 0</th>\n      <th>TEAM</th>\n      <th>GP</th>\n      <th>W</th>\n      <th>L</th>\n      <th>WIN%</th>\n      <th>MIN</th>\n      <th>PTS</th>\n      <th>FGM</th>\n      <th>FGA</th>\n      <th>...</th>\n      <th>DREB RANK</th>\n      <th>REB RANK</th>\n      <th>AST RANK</th>\n      <th>TOV RANK</th>\n      <th>STL RANK</th>\n      <th>BLK RANK</th>\n      <th>BLKA RANK</th>\n      <th>PF RANK</th>\n      <th>PFD RANK</th>\n      <th>+/- RANK</th>\n    </tr>\n  </thead>\n  <tbody>\n    <tr>\n      <th>0</th>\n      <td>1</td>\n      <td>Chicago Bulls</td>\n      <td>66</td>\n      <td>50</td>\n      <td>16</td>\n      <td>0.758</td>\n      <td>48.3</td>\n      <td>96.3</td>\n      <td>37.4</td>\n      <td>82.8</td>\n      <td>...</td>\n      <td>NaN</td>\n      <td>NaN</td>\n      <td>NaN</td>\n      <td>NaN</td>\n      <td>NaN</td>\n      <td>NaN</td>\n      <td>NaN</td>\n      <td>NaN</td>\n      <td>NaN</td>\n      <td>NaN</td>\n    </tr>\n    <tr>\n      <th>1</th>\n      <td>1</td>\n      <td>San Antonio Spurs</td>\n      <td>66</td>\n      <td>50</td>\n      <td>16</td>\n      <td>0.758</td>\n      <td>48.3</td>\n      <td>103.7</td>\n      <td>39.6</td>\n      <td>82.8</td>\n      <td>...</td>\n      <td>NaN</td>\n      <td>NaN</td>\n      <td>NaN</td>\n      <td>NaN</td>\n      <td>NaN</td>\n      <td>NaN</td>\n      <td>NaN</td>\n      <td>NaN</td>\n      <td>NaN</td>\n      <td>NaN</td>\n    </tr>\n    <tr>\n      <th>2</th>\n      <td>3</td>\n      <td>Oklahoma City Thunder</td>\n      <td>66</td>\n      <td>47</td>\n      <td>19</td>\n      <td>0.712</td>\n      <td>48.5</td>\n      <td>103.1</td>\n      <td>37.3</td>\n      <td>79.2</td>\n      <td>...</td>\n      <td>NaN</td>\n      <td>NaN</td>\n      <td>NaN</td>\n      <td>NaN</td>\n      <td>NaN</td>\n      <td>NaN</td>\n      <td>NaN</td>\n      <td>NaN</td>\n      <td>NaN</td>\n      <td>NaN</td>\n    </tr>\n    <tr>\n      <th>3</th>\n      <td>4</td>\n      <td>Miami Heat</td>\n      <td>66</td>\n      <td>46</td>\n      <td>20</td>\n      <td>0.697</td>\n      <td>48.6</td>\n      <td>98.5</td>\n      <td>37.1</td>\n      <td>79.0</td>\n      <td>...</td>\n      <td>NaN</td>\n      <td>NaN</td>\n      <td>NaN</td>\n      <td>NaN</td>\n      <td>NaN</td>\n      <td>NaN</td>\n      <td>NaN</td>\n      <td>NaN</td>\n      <td>NaN</td>\n      <td>NaN</td>\n    </tr>\n    <tr>\n      <th>4</th>\n      <td>5</td>\n      <td>Indiana Pacers</td>\n      <td>66</td>\n      <td>42</td>\n      <td>24</td>\n      <td>0.636</td>\n      <td>48.5</td>\n      <td>97.7</td>\n      <td>35.7</td>\n      <td>81.4</td>\n      <td>...</td>\n      <td>NaN</td>\n      <td>NaN</td>\n      <td>NaN</td>\n      <td>NaN</td>\n      <td>NaN</td>\n      <td>NaN</td>\n      <td>NaN</td>\n      <td>NaN</td>\n      <td>NaN</td>\n      <td>NaN</td>\n    </tr>\n  </tbody>\n</table>\n<p>5 rows × 54 columns</p>\n</div>"
     },
     "metadata": {},
     "execution_count": 6
    }
   ],
   "source": [
    "seas = '2011-12'\n",
    "team_URL = 'https://stats.nba.com/teams/traditional/?Season=' +seas+ '&SeasonType=Regular%20Season'\n",
    "#webdriver and go to site and get dynamic table\n",
    "dr = webdriver.Chrome(executable_path=r'C:/bin/chromedriver.exe')\n",
    "dr.get(team_URL)\n",
    "table = dr.find_element_by_xpath('//div[@class=\"nba-stat-table\"]//div[1]//table').get_attribute('outerHTML')\n",
    "dr.close()\n",
    "#read table\n",
    "raw_table = pd.read_html(table)[0]\n",
    "print(raw_table.columns.values)\n",
    "print()\n",
    "raw_table.head()"
   ]
  },
  {
   "cell_type": "code",
   "execution_count": 11,
   "metadata": {
    "tags": []
   },
   "outputs": [
    {
     "output_type": "stream",
     "name": "stdout",
     "text": "['Unnamed: 0' 'TEAM' 'GP' 'W' 'L' 'MIN' 'OppFGM' 'OppFGA' 'OppFG%'\n 'Opp3PM' 'Opp3PA' 'Opp3P%' 'OppFTM' 'OppFTA' 'OppFT%' 'OppOREB' 'OppDREB'\n 'OppREB' 'OppAST' 'OppTOV' 'OppSTL' 'OppBLK' 'OppBLKA' 'OppPF' 'OppPFD'\n 'OppPTS' '+/-' 'GP RANK' 'W RANK' 'L RANK' 'MIN RANK' 'OppFGM RANK'\n 'OppFGA RANK' 'OppFG% RANK' 'Opp3PM RANK' 'Opp3PA RANK' 'Opp3P% RANK'\n 'OppFTM RANK' 'OppFTA RANK' 'OppFT% RANK' 'OppOREB RANK' 'OppDREB RANK'\n 'OppREB RANK' 'OppAST RANK' 'OppTOV RANK' 'OppSTL RANK' 'OppBLK RANK'\n 'OppBLKA RANK' 'OppPF RANK' 'OppPFD RANK' 'OppPTS RANK' '+/- RANK']\n\n"
    },
    {
     "output_type": "execute_result",
     "data": {
      "text/plain": "   Unnamed: 0                   TEAM  GP   W   L   MIN  OppFGM  OppFGA  \\\n0           1          Chicago Bulls  66  50  16  48.3    34.6    82.1   \n1           1      San Antonio Spurs  66  50  16  48.3    38.1    84.2   \n2           3  Oklahoma City Thunder  66  47  19  48.5    36.4    85.3   \n3           4             Miami Heat  66  46  20  48.6    34.6    79.8   \n4           5         Indiana Pacers  66  42  24  48.5    34.9    80.4   \n\n   OppFG%  Opp3PM  ...  OppREB RANK  OppAST RANK  OppTOV RANK  OppSTL RANK  \\\n0    42.1     4.6  ...          NaN          NaN          NaN          NaN   \n1    45.2     6.2  ...          NaN          NaN          NaN          NaN   \n2    42.7     6.4  ...          NaN          NaN          NaN          NaN   \n3    43.4     7.3  ...          NaN          NaN          NaN          NaN   \n4    43.5     6.7  ...          NaN          NaN          NaN          NaN   \n\n   OppBLK RANK  OppBLKA RANK  OppPF RANK  OppPFD RANK  OppPTS RANK  +/- RANK  \n0          NaN           NaN         NaN          NaN          NaN       NaN  \n1          NaN           NaN         NaN          NaN          NaN       NaN  \n2          NaN           NaN         NaN          NaN          NaN       NaN  \n3          NaN           NaN         NaN          NaN          NaN       NaN  \n4          NaN           NaN         NaN          NaN          NaN       NaN  \n\n[5 rows x 52 columns]",
      "text/html": "<div>\n<style scoped>\n    .dataframe tbody tr th:only-of-type {\n        vertical-align: middle;\n    }\n\n    .dataframe tbody tr th {\n        vertical-align: top;\n    }\n\n    .dataframe thead th {\n        text-align: right;\n    }\n</style>\n<table border=\"1\" class=\"dataframe\">\n  <thead>\n    <tr style=\"text-align: right;\">\n      <th></th>\n      <th>Unnamed: 0</th>\n      <th>TEAM</th>\n      <th>GP</th>\n      <th>W</th>\n      <th>L</th>\n      <th>MIN</th>\n      <th>OppFGM</th>\n      <th>OppFGA</th>\n      <th>OppFG%</th>\n      <th>Opp3PM</th>\n      <th>...</th>\n      <th>OppREB RANK</th>\n      <th>OppAST RANK</th>\n      <th>OppTOV RANK</th>\n      <th>OppSTL RANK</th>\n      <th>OppBLK RANK</th>\n      <th>OppBLKA RANK</th>\n      <th>OppPF RANK</th>\n      <th>OppPFD RANK</th>\n      <th>OppPTS RANK</th>\n      <th>+/- RANK</th>\n    </tr>\n  </thead>\n  <tbody>\n    <tr>\n      <th>0</th>\n      <td>1</td>\n      <td>Chicago Bulls</td>\n      <td>66</td>\n      <td>50</td>\n      <td>16</td>\n      <td>48.3</td>\n      <td>34.6</td>\n      <td>82.1</td>\n      <td>42.1</td>\n      <td>4.6</td>\n      <td>...</td>\n      <td>NaN</td>\n      <td>NaN</td>\n      <td>NaN</td>\n      <td>NaN</td>\n      <td>NaN</td>\n      <td>NaN</td>\n      <td>NaN</td>\n      <td>NaN</td>\n      <td>NaN</td>\n      <td>NaN</td>\n    </tr>\n    <tr>\n      <th>1</th>\n      <td>1</td>\n      <td>San Antonio Spurs</td>\n      <td>66</td>\n      <td>50</td>\n      <td>16</td>\n      <td>48.3</td>\n      <td>38.1</td>\n      <td>84.2</td>\n      <td>45.2</td>\n      <td>6.2</td>\n      <td>...</td>\n      <td>NaN</td>\n      <td>NaN</td>\n      <td>NaN</td>\n      <td>NaN</td>\n      <td>NaN</td>\n      <td>NaN</td>\n      <td>NaN</td>\n      <td>NaN</td>\n      <td>NaN</td>\n      <td>NaN</td>\n    </tr>\n    <tr>\n      <th>2</th>\n      <td>3</td>\n      <td>Oklahoma City Thunder</td>\n      <td>66</td>\n      <td>47</td>\n      <td>19</td>\n      <td>48.5</td>\n      <td>36.4</td>\n      <td>85.3</td>\n      <td>42.7</td>\n      <td>6.4</td>\n      <td>...</td>\n      <td>NaN</td>\n      <td>NaN</td>\n      <td>NaN</td>\n      <td>NaN</td>\n      <td>NaN</td>\n      <td>NaN</td>\n      <td>NaN</td>\n      <td>NaN</td>\n      <td>NaN</td>\n      <td>NaN</td>\n    </tr>\n    <tr>\n      <th>3</th>\n      <td>4</td>\n      <td>Miami Heat</td>\n      <td>66</td>\n      <td>46</td>\n      <td>20</td>\n      <td>48.6</td>\n      <td>34.6</td>\n      <td>79.8</td>\n      <td>43.4</td>\n      <td>7.3</td>\n      <td>...</td>\n      <td>NaN</td>\n      <td>NaN</td>\n      <td>NaN</td>\n      <td>NaN</td>\n      <td>NaN</td>\n      <td>NaN</td>\n      <td>NaN</td>\n      <td>NaN</td>\n      <td>NaN</td>\n      <td>NaN</td>\n    </tr>\n    <tr>\n      <th>4</th>\n      <td>5</td>\n      <td>Indiana Pacers</td>\n      <td>66</td>\n      <td>42</td>\n      <td>24</td>\n      <td>48.5</td>\n      <td>34.9</td>\n      <td>80.4</td>\n      <td>43.5</td>\n      <td>6.7</td>\n      <td>...</td>\n      <td>NaN</td>\n      <td>NaN</td>\n      <td>NaN</td>\n      <td>NaN</td>\n      <td>NaN</td>\n      <td>NaN</td>\n      <td>NaN</td>\n      <td>NaN</td>\n      <td>NaN</td>\n      <td>NaN</td>\n    </tr>\n  </tbody>\n</table>\n<p>5 rows × 52 columns</p>\n</div>"
     },
     "metadata": {},
     "execution_count": 11
    }
   ],
   "source": [
    "seas = '2011-12'\n",
    "team_URL = 'https://stats.nba.com/teams/opponent/?Season=' +seas+ '&SeasonType=Regular%20Season'\n",
    "#webdriver and go to site and get dynamic table\n",
    "dr = webdriver.Chrome(executable_path=r'C:/bin/chromedriver.exe')\n",
    "dr.get(team_URL)\n",
    "table = dr.find_element_by_xpath('//div[@class=\"nba-stat-table\"]//div[1]//table').get_attribute('outerHTML')\n",
    "dr.close()\n",
    "#read table\n",
    "opp_raw_table = pd.read_html(table)[0]\n",
    "print(opp_raw_table.columns.values)\n",
    "print()\n",
    "opp_raw_table.head()"
   ]
  },
  {
   "cell_type": "markdown",
   "metadata": {},
   "source": [
    "We only need the data columns because the rank columns are dynamic and if we ever need to determine this, we would be able to do so by sorting specific columns"
   ]
  },
  {
   "cell_type": "code",
   "execution_count": 12,
   "metadata": {},
   "outputs": [
    {
     "output_type": "execute_result",
     "data": {
      "text/plain": "                    TEAM  GP   W   L   WIN%   MIN    PTS   FGM   FGA   FG%  \\\n0          Chicago Bulls  66  50  16  0.758  48.3   96.3  37.4  82.8  45.2   \n1      San Antonio Spurs  66  50  16  0.758  48.3  103.7  39.6  82.8  47.8   \n2  Oklahoma City Thunder  66  47  19  0.712  48.5  103.1  37.3  79.2  47.1   \n3             Miami Heat  66  46  20  0.697  48.6   98.5  37.1  79.0  46.9   \n4         Indiana Pacers  66  42  24  0.636  48.5   97.7  35.7  81.4  43.8   \n\n   ...  OppDREB  OppREB  OppAST  OppTOV  OppSTL  OppBLK  OppBLKA  OppPF  \\\n0  ...     28.6    40.0    18.9    13.3     7.4     5.2      5.9   17.7   \n1  ...     30.9    41.2    19.6    13.7     7.4     5.0      4.4   18.8   \n2  ...     28.6    41.3    19.9    14.2     8.2     4.9      8.2   20.0   \n3  ...     28.7    39.8    19.7    16.8     8.3     4.2      5.4   20.5   \n4  ...     30.3    42.3    19.6    14.9     6.6     6.0      5.4   21.6   \n\n   OppPFD  OppPTS  \n0    17.3    88.2  \n1    17.3    96.5  \n2    20.5    96.9  \n3    19.4    92.5  \n4    21.7    94.4  \n\n[5 rows x 47 columns]",
      "text/html": "<div>\n<style scoped>\n    .dataframe tbody tr th:only-of-type {\n        vertical-align: middle;\n    }\n\n    .dataframe tbody tr th {\n        vertical-align: top;\n    }\n\n    .dataframe thead th {\n        text-align: right;\n    }\n</style>\n<table border=\"1\" class=\"dataframe\">\n  <thead>\n    <tr style=\"text-align: right;\">\n      <th></th>\n      <th>TEAM</th>\n      <th>GP</th>\n      <th>W</th>\n      <th>L</th>\n      <th>WIN%</th>\n      <th>MIN</th>\n      <th>PTS</th>\n      <th>FGM</th>\n      <th>FGA</th>\n      <th>FG%</th>\n      <th>...</th>\n      <th>OppDREB</th>\n      <th>OppREB</th>\n      <th>OppAST</th>\n      <th>OppTOV</th>\n      <th>OppSTL</th>\n      <th>OppBLK</th>\n      <th>OppBLKA</th>\n      <th>OppPF</th>\n      <th>OppPFD</th>\n      <th>OppPTS</th>\n    </tr>\n  </thead>\n  <tbody>\n    <tr>\n      <th>0</th>\n      <td>Chicago Bulls</td>\n      <td>66</td>\n      <td>50</td>\n      <td>16</td>\n      <td>0.758</td>\n      <td>48.3</td>\n      <td>96.3</td>\n      <td>37.4</td>\n      <td>82.8</td>\n      <td>45.2</td>\n      <td>...</td>\n      <td>28.6</td>\n      <td>40.0</td>\n      <td>18.9</td>\n      <td>13.3</td>\n      <td>7.4</td>\n      <td>5.2</td>\n      <td>5.9</td>\n      <td>17.7</td>\n      <td>17.3</td>\n      <td>88.2</td>\n    </tr>\n    <tr>\n      <th>1</th>\n      <td>San Antonio Spurs</td>\n      <td>66</td>\n      <td>50</td>\n      <td>16</td>\n      <td>0.758</td>\n      <td>48.3</td>\n      <td>103.7</td>\n      <td>39.6</td>\n      <td>82.8</td>\n      <td>47.8</td>\n      <td>...</td>\n      <td>30.9</td>\n      <td>41.2</td>\n      <td>19.6</td>\n      <td>13.7</td>\n      <td>7.4</td>\n      <td>5.0</td>\n      <td>4.4</td>\n      <td>18.8</td>\n      <td>17.3</td>\n      <td>96.5</td>\n    </tr>\n    <tr>\n      <th>2</th>\n      <td>Oklahoma City Thunder</td>\n      <td>66</td>\n      <td>47</td>\n      <td>19</td>\n      <td>0.712</td>\n      <td>48.5</td>\n      <td>103.1</td>\n      <td>37.3</td>\n      <td>79.2</td>\n      <td>47.1</td>\n      <td>...</td>\n      <td>28.6</td>\n      <td>41.3</td>\n      <td>19.9</td>\n      <td>14.2</td>\n      <td>8.2</td>\n      <td>4.9</td>\n      <td>8.2</td>\n      <td>20.0</td>\n      <td>20.5</td>\n      <td>96.9</td>\n    </tr>\n    <tr>\n      <th>3</th>\n      <td>Miami Heat</td>\n      <td>66</td>\n      <td>46</td>\n      <td>20</td>\n      <td>0.697</td>\n      <td>48.6</td>\n      <td>98.5</td>\n      <td>37.1</td>\n      <td>79.0</td>\n      <td>46.9</td>\n      <td>...</td>\n      <td>28.7</td>\n      <td>39.8</td>\n      <td>19.7</td>\n      <td>16.8</td>\n      <td>8.3</td>\n      <td>4.2</td>\n      <td>5.4</td>\n      <td>20.5</td>\n      <td>19.4</td>\n      <td>92.5</td>\n    </tr>\n    <tr>\n      <th>4</th>\n      <td>Indiana Pacers</td>\n      <td>66</td>\n      <td>42</td>\n      <td>24</td>\n      <td>0.636</td>\n      <td>48.5</td>\n      <td>97.7</td>\n      <td>35.7</td>\n      <td>81.4</td>\n      <td>43.8</td>\n      <td>...</td>\n      <td>30.3</td>\n      <td>42.3</td>\n      <td>19.6</td>\n      <td>14.9</td>\n      <td>6.6</td>\n      <td>6.0</td>\n      <td>5.4</td>\n      <td>21.6</td>\n      <td>21.7</td>\n      <td>94.4</td>\n    </tr>\n  </tbody>\n</table>\n<p>5 rows × 47 columns</p>\n</div>"
     },
     "metadata": {},
     "execution_count": 12
    }
   ],
   "source": [
    "raw_data.columns\n",
    "data = raw_data[['TEAM', 'GP', 'W', 'L', 'WIN%', 'MIN', 'PTS', 'FGM',\n",
    "       'FGA', 'FG%', '3PM', '3PA', '3P%', 'FTM', 'FTA', 'FT%', 'OREB', 'DREB',\n",
    "       'REB', 'AST', 'TOV', 'STL', 'BLK', 'BLKA', 'PF', 'PFD', '+/-']]\n",
    "opp_data = opp_raw_table[['TEAM', 'OppFGM', 'OppFGA', 'OppFG%', 'Opp3PM', 'Opp3PA', 'Opp3P%',                  'OppFTM', 'OppFTA', 'OppFT%', 'OppOREB', 'OppDREB', 'OppREB', 'OppAST', 'OppTOV',                   'OppSTL', 'OppBLK', 'OppBLKA', 'OppPF', 'OppPFD', 'OppPTS']]\n",
    "data = pd.merge(data, opp_data, on=['TEAM'])\n",
    "data.head()"
   ]
  },
  {
   "cell_type": "markdown",
   "metadata": {},
   "source": [
    "Putting it all together, we need to:\n",
    "- Extract information (for team and opponent team season averages)\n",
    "- Only include columns of interest\n",
    "- Add in the year for which the season applies\n",
    "- Append values into a single dataframe\n",
    "- Add in end of season champion and runner-up indicators"
   ]
  },
  {
   "cell_type": "code",
   "execution_count": 17,
   "metadata": {},
   "outputs": [],
   "source": [
    "def get_data_from_site(URL):\n",
    "    #access web driver and access page content\n",
    "    dr = webdriver.Chrome(executable_path=r'C:/bin/chromedriver.exe')\n",
    "    dr.get(URL)\n",
    "    table = dr.find_element_by_xpath\\\n",
    "            ('//div[@class=\"nba-stat-table\"]//div[1]//table').get_attribute('outerHTML')\n",
    "    raw_table = pd.read_html(table)[0]\n",
    "    dr.close()\n",
    "    return raw_table\n",
    "\n",
    "def get_data(season, team_URL, opponent_URL):\n",
    "    #get the data metrics for the team and opponent season averages into a dataframe\n",
    "    #team average stats\n",
    "    raw_df = get_data_from_site(team_URL)\n",
    "    data = raw_df[['TEAM', 'GP', 'W', 'L', 'WIN%', 'MIN', 'PTS', 'FGM', 'FGA', 'FG%', '3PM', '3PA',                   '3P%', 'FTM', 'FTA', 'FT%', 'OREB', 'DREB', 'REB', 'AST', 'TOV', 'STL', 'BLK',                     'BLKA', 'PF', 'PFD', '+/-']]\n",
    "    #opponent average stats\n",
    "    opp_raw = get_data_from_site(opponent_URL)\n",
    "    opp_data = opp_raw[['TEAM', 'OppFGM', 'OppFGA', 'OppFG%', 'Opp3PM', 'Opp3PA', 'Opp3P%',                  'OppFTM', 'OppFTA', 'OppFT%', 'OppOREB', 'OppDREB', 'OppREB', 'OppAST', 'OppTOV',                  'OppSTL', 'OppBLK', 'OppBLKA', 'OppPF', 'OppPFD', 'OppPTS']]\n",
    "    #merge two tables and add the year for the team stats\n",
    "    data = pd.merge(data, opp_data, on=['TEAM'])\n",
    "    data['Year'] = int(i)\n",
    "    return data"
   ]
  },
  {
   "cell_type": "code",
   "execution_count": 18,
   "metadata": {
    "tags": []
   },
   "outputs": [],
   "source": [
    "df_team = pd.DataFrame()\n",
    "#get each year's data\n",
    "for i in range(2010,2020):\n",
    "    seas = str(i-1)+'-'+str(i)[2:]\n",
    "    URL = 'https://stats.nba.com/teams/traditional/?Season=' +seas+ '&SeasonType=Regular%20Season'\n",
    "    o_URL = 'https://stats.nba.com/teams/opponent/?Season='+ seas+ '&SeasonType=Regular%20Season'\n",
    "    df_team = pd.concat([df_team, get_data(seas, URL, o_URL)], ignore_index=True)"
   ]
  },
  {
   "cell_type": "code",
   "execution_count": 19,
   "metadata": {},
   "outputs": [
    {
     "output_type": "execute_result",
     "data": {
      "text/plain": "                  TEAM  GP   W   L   WIN%   MIN    PTS   FGM   FGA   FG%  ...  \\\n0  Cleveland Cavaliers  82  61  21  0.744  48.2  102.1  37.8  77.9  48.5  ...   \n1        Orlando Magic  82  59  23  0.720  48.1  102.8  36.6  78.0  47.0  ...   \n2   Los Angeles Lakers  82  57  25  0.695  48.4  101.7  38.3  83.8  45.7  ...   \n3     Dallas Mavericks  82  55  27  0.671  48.5  102.0  38.3  82.4  46.4  ...   \n4         Phoenix Suns  82  54  28  0.659  48.1  110.2  40.7  82.8  49.2  ...   \n\n   OppREB  OppAST  OppTOV  OppSTL  OppBLK  OppBLKA  OppPF  OppPFD  OppPTS  \\\n0    38.5    20.3    12.7     6.6     4.0      5.2   20.8    19.4    95.6   \n1    40.0    18.9    12.8     6.7     3.5      5.6   22.2    19.9    95.3   \n2    42.2    21.9    14.1     7.0     4.4      4.9   21.2    19.4    97.0   \n3    42.9    20.2    14.6     6.9     4.1      5.5   20.1    19.1    99.3   \n4    42.3    20.8    13.0     7.9     4.5      5.1   21.8    20.9   105.3   \n\n   Year  \n0  2010  \n1  2010  \n2  2010  \n3  2010  \n4  2010  \n\n[5 rows x 48 columns]",
      "text/html": "<div>\n<style scoped>\n    .dataframe tbody tr th:only-of-type {\n        vertical-align: middle;\n    }\n\n    .dataframe tbody tr th {\n        vertical-align: top;\n    }\n\n    .dataframe thead th {\n        text-align: right;\n    }\n</style>\n<table border=\"1\" class=\"dataframe\">\n  <thead>\n    <tr style=\"text-align: right;\">\n      <th></th>\n      <th>TEAM</th>\n      <th>GP</th>\n      <th>W</th>\n      <th>L</th>\n      <th>WIN%</th>\n      <th>MIN</th>\n      <th>PTS</th>\n      <th>FGM</th>\n      <th>FGA</th>\n      <th>FG%</th>\n      <th>...</th>\n      <th>OppREB</th>\n      <th>OppAST</th>\n      <th>OppTOV</th>\n      <th>OppSTL</th>\n      <th>OppBLK</th>\n      <th>OppBLKA</th>\n      <th>OppPF</th>\n      <th>OppPFD</th>\n      <th>OppPTS</th>\n      <th>Year</th>\n    </tr>\n  </thead>\n  <tbody>\n    <tr>\n      <th>0</th>\n      <td>Cleveland Cavaliers</td>\n      <td>82</td>\n      <td>61</td>\n      <td>21</td>\n      <td>0.744</td>\n      <td>48.2</td>\n      <td>102.1</td>\n      <td>37.8</td>\n      <td>77.9</td>\n      <td>48.5</td>\n      <td>...</td>\n      <td>38.5</td>\n      <td>20.3</td>\n      <td>12.7</td>\n      <td>6.6</td>\n      <td>4.0</td>\n      <td>5.2</td>\n      <td>20.8</td>\n      <td>19.4</td>\n      <td>95.6</td>\n      <td>2010</td>\n    </tr>\n    <tr>\n      <th>1</th>\n      <td>Orlando Magic</td>\n      <td>82</td>\n      <td>59</td>\n      <td>23</td>\n      <td>0.720</td>\n      <td>48.1</td>\n      <td>102.8</td>\n      <td>36.6</td>\n      <td>78.0</td>\n      <td>47.0</td>\n      <td>...</td>\n      <td>40.0</td>\n      <td>18.9</td>\n      <td>12.8</td>\n      <td>6.7</td>\n      <td>3.5</td>\n      <td>5.6</td>\n      <td>22.2</td>\n      <td>19.9</td>\n      <td>95.3</td>\n      <td>2010</td>\n    </tr>\n    <tr>\n      <th>2</th>\n      <td>Los Angeles Lakers</td>\n      <td>82</td>\n      <td>57</td>\n      <td>25</td>\n      <td>0.695</td>\n      <td>48.4</td>\n      <td>101.7</td>\n      <td>38.3</td>\n      <td>83.8</td>\n      <td>45.7</td>\n      <td>...</td>\n      <td>42.2</td>\n      <td>21.9</td>\n      <td>14.1</td>\n      <td>7.0</td>\n      <td>4.4</td>\n      <td>4.9</td>\n      <td>21.2</td>\n      <td>19.4</td>\n      <td>97.0</td>\n      <td>2010</td>\n    </tr>\n    <tr>\n      <th>3</th>\n      <td>Dallas Mavericks</td>\n      <td>82</td>\n      <td>55</td>\n      <td>27</td>\n      <td>0.671</td>\n      <td>48.5</td>\n      <td>102.0</td>\n      <td>38.3</td>\n      <td>82.4</td>\n      <td>46.4</td>\n      <td>...</td>\n      <td>42.9</td>\n      <td>20.2</td>\n      <td>14.6</td>\n      <td>6.9</td>\n      <td>4.1</td>\n      <td>5.5</td>\n      <td>20.1</td>\n      <td>19.1</td>\n      <td>99.3</td>\n      <td>2010</td>\n    </tr>\n    <tr>\n      <th>4</th>\n      <td>Phoenix Suns</td>\n      <td>82</td>\n      <td>54</td>\n      <td>28</td>\n      <td>0.659</td>\n      <td>48.1</td>\n      <td>110.2</td>\n      <td>40.7</td>\n      <td>82.8</td>\n      <td>49.2</td>\n      <td>...</td>\n      <td>42.3</td>\n      <td>20.8</td>\n      <td>13.0</td>\n      <td>7.9</td>\n      <td>4.5</td>\n      <td>5.1</td>\n      <td>21.8</td>\n      <td>20.9</td>\n      <td>105.3</td>\n      <td>2010</td>\n    </tr>\n  </tbody>\n</table>\n<p>5 rows × 48 columns</p>\n</div>"
     },
     "metadata": {},
     "execution_count": 19
    }
   ],
   "source": [
    "df_team.head()"
   ]
  },
  {
   "cell_type": "code",
   "execution_count": 20,
   "metadata": {},
   "outputs": [],
   "source": [
    "#standardize names\n",
    "df_team[df_team['TEAM']=='LA Clippers']['TEAM'] = 'Los Angeles Clippers'"
   ]
  },
  {
   "cell_type": "code",
   "execution_count": 21,
   "metadata": {},
   "outputs": [
    {
     "output_type": "execute_result",
     "data": {
      "text/plain": "TEAM        object\nGP           int64\nW            int64\nL            int64\nWIN%       float64\nMIN        float64\nPTS        float64\nFGM        float64\nFGA        float64\nFG%        float64\n3PM        float64\n3PA        float64\n3P%        float64\nFTM        float64\nFTA        float64\nFT%        float64\nOREB       float64\nDREB       float64\nREB        float64\nAST        float64\nTOV        float64\nSTL        float64\nBLK        float64\nBLKA       float64\nPF         float64\nPFD        float64\n+/-        float64\nOppFGM     float64\nOppFGA     float64\nOppFG%     float64\nOpp3PM     float64\nOpp3PA     float64\nOpp3P%     float64\nOppFTM     float64\nOppFTA     float64\nOppFT%     float64\nOppOREB    float64\nOppDREB    float64\nOppREB     float64\nOppAST     float64\nOppTOV     float64\nOppSTL     float64\nOppBLK     float64\nOppBLKA    float64\nOppPF      float64\nOppPFD     float64\nOppPTS     float64\nYear         int64\ndtype: object"
     },
     "metadata": {},
     "execution_count": 21
    }
   ],
   "source": [
    "df_team.dtypes"
   ]
  },
  {
   "cell_type": "markdown",
   "metadata": {},
   "source": [
    "Adding champion and runner-up indicators for the seasons. Also note again that 2011-12 was a lockout shortened season. Note that the champions file has abbreviations and team names, while this data has only fully spelled out names. We need to merge the championship status using these columns."
   ]
  },
  {
   "cell_type": "code",
   "execution_count": 22,
   "metadata": {},
   "outputs": [
    {
     "output_type": "execute_result",
     "data": {
      "text/plain": "   Year               Champion              Runner-Up   Finals MVP  \\\n0  2019        Toronto Raptors  Golden State Warriors   K. Leonard   \n1  2018  Golden State Warriors    Cleveland Cavaliers    K. Durant   \n2  2017  Golden State Warriors    Cleveland Cavaliers    K. Durant   \n3  2016    Cleveland Cavaliers  Golden State Warriors     L. James   \n4  2015  Golden State Warriors    Cleveland Cavaliers  A. Iguodala   \n\n          Top Scorer         Top Rebr            Top Asst           WS Lead  \\\n0   K. Leonard (732)   D. Green (223)      D. Green (187)  K. Leonard (4.9)   \n1     L. James (748)   D. Green (222)      L. James (198)    L. James (5.2)   \n2     L. James (591)    K. Love (191)      L. James (141)    L. James (4.3)   \n3  K. Thompson (582)   D. Green (228)  R. Westbrook (198)    L. James (4.7)   \n4     L. James (601)  D. Howard (238)      L. James (169)    S. Curry (3.9)   \n\n   Points  Rebounds  Assists  Win Shares Champ-Abbr Runner-Up-Abbr  \n0     732       223      187         4.9        TOR            GSW  \n1     748       222      198         5.2        GSW            CLE  \n2     591       191      141         4.3        GSW            CLE  \n3     582       228      198         4.7        CLE            GSW  \n4     601       238      169         3.9        GSW            CLE  ",
      "text/html": "<div>\n<style scoped>\n    .dataframe tbody tr th:only-of-type {\n        vertical-align: middle;\n    }\n\n    .dataframe tbody tr th {\n        vertical-align: top;\n    }\n\n    .dataframe thead th {\n        text-align: right;\n    }\n</style>\n<table border=\"1\" class=\"dataframe\">\n  <thead>\n    <tr style=\"text-align: right;\">\n      <th></th>\n      <th>Year</th>\n      <th>Champion</th>\n      <th>Runner-Up</th>\n      <th>Finals MVP</th>\n      <th>Top Scorer</th>\n      <th>Top Rebr</th>\n      <th>Top Asst</th>\n      <th>WS Lead</th>\n      <th>Points</th>\n      <th>Rebounds</th>\n      <th>Assists</th>\n      <th>Win Shares</th>\n      <th>Champ-Abbr</th>\n      <th>Runner-Up-Abbr</th>\n    </tr>\n  </thead>\n  <tbody>\n    <tr>\n      <th>0</th>\n      <td>2019</td>\n      <td>Toronto Raptors</td>\n      <td>Golden State Warriors</td>\n      <td>K. Leonard</td>\n      <td>K. Leonard (732)</td>\n      <td>D. Green (223)</td>\n      <td>D. Green (187)</td>\n      <td>K. Leonard (4.9)</td>\n      <td>732</td>\n      <td>223</td>\n      <td>187</td>\n      <td>4.9</td>\n      <td>TOR</td>\n      <td>GSW</td>\n    </tr>\n    <tr>\n      <th>1</th>\n      <td>2018</td>\n      <td>Golden State Warriors</td>\n      <td>Cleveland Cavaliers</td>\n      <td>K. Durant</td>\n      <td>L. James (748)</td>\n      <td>D. Green (222)</td>\n      <td>L. James (198)</td>\n      <td>L. James (5.2)</td>\n      <td>748</td>\n      <td>222</td>\n      <td>198</td>\n      <td>5.2</td>\n      <td>GSW</td>\n      <td>CLE</td>\n    </tr>\n    <tr>\n      <th>2</th>\n      <td>2017</td>\n      <td>Golden State Warriors</td>\n      <td>Cleveland Cavaliers</td>\n      <td>K. Durant</td>\n      <td>L. James (591)</td>\n      <td>K. Love (191)</td>\n      <td>L. James (141)</td>\n      <td>L. James (4.3)</td>\n      <td>591</td>\n      <td>191</td>\n      <td>141</td>\n      <td>4.3</td>\n      <td>GSW</td>\n      <td>CLE</td>\n    </tr>\n    <tr>\n      <th>3</th>\n      <td>2016</td>\n      <td>Cleveland Cavaliers</td>\n      <td>Golden State Warriors</td>\n      <td>L. James</td>\n      <td>K. Thompson (582)</td>\n      <td>D. Green (228)</td>\n      <td>R. Westbrook (198)</td>\n      <td>L. James (4.7)</td>\n      <td>582</td>\n      <td>228</td>\n      <td>198</td>\n      <td>4.7</td>\n      <td>CLE</td>\n      <td>GSW</td>\n    </tr>\n    <tr>\n      <th>4</th>\n      <td>2015</td>\n      <td>Golden State Warriors</td>\n      <td>Cleveland Cavaliers</td>\n      <td>A. Iguodala</td>\n      <td>L. James (601)</td>\n      <td>D. Howard (238)</td>\n      <td>L. James (169)</td>\n      <td>S. Curry (3.9)</td>\n      <td>601</td>\n      <td>238</td>\n      <td>169</td>\n      <td>3.9</td>\n      <td>GSW</td>\n      <td>CLE</td>\n    </tr>\n  </tbody>\n</table>\n</div>"
     },
     "metadata": {},
     "execution_count": 22
    }
   ],
   "source": [
    "#get champions data\n",
    "champions = pd.read_csv('champions.csv', index_col='Unnamed: 0')\n",
    "champions.head()"
   ]
  },
  {
   "cell_type": "code",
   "execution_count": 23,
   "metadata": {},
   "outputs": [],
   "source": [
    "#new columns to check merge for\n",
    "df_team['Champ'] = 0\n",
    "df_team['Runner-Up'] = 0\n",
    "\n",
    "#check team status\n",
    "for champ, ru, year in zip(champions.Champion.values, champions['Runner-Up'].values, champions.Year.values):\n",
    "    df_team['Champ'][(df_team['TEAM'] == champ) & (df_team['Year']== year)] = 1\n",
    "    df_team['Runner-Up'][(df_team['TEAM']== ru) & (df_team['Year']== year)] = 1"
   ]
  },
  {
   "cell_type": "code",
   "execution_count": 24,
   "metadata": {},
   "outputs": [],
   "source": [
    "#update team so that it is abbreviations and not long names\n",
    "#we only want the most recent abbreviations so exclude the bottom six which were replaced \n",
    "team_names = pd.read_csv('team_names.csv', index_col='Unnamed: 0')[:-6]\n",
    "team_names = team_names.rename(columns={'Franchise':'TEAM'}) #update name to be able to merge\n",
    "df_team = pd.merge(df_team, team_names, on='TEAM')\n",
    "df_team = df_team.rename(columns={'Key':'Tm'})"
   ]
  },
  {
   "cell_type": "code",
   "execution_count": 25,
   "metadata": {},
   "outputs": [
    {
     "output_type": "execute_result",
     "data": {
      "text/plain": "                      TEAM  GP   W   L   WIN%   MIN    PTS   FGM   FGA   FG%  \\\n231  Golden State Warriors  82  67  15  0.817  48.1  110.0  41.6  87.0  47.8   \n5      Cleveland Cavaliers  82  53  29  0.646  48.2  103.1  37.7  82.2  45.8   \n6      Cleveland Cavaliers  82  57  25  0.695  48.4  104.3  38.7  84.0  46.0   \n232  Golden State Warriors  82  73   9  0.890  48.5  114.9  42.5  87.3  48.7   \n233  Golden State Warriors  82  67  15  0.817  48.2  115.9  43.1  87.1  49.5   \n7      Cleveland Cavaliers  82  51  31  0.622  48.5  110.3  39.9  84.9  47.0   \n234  Golden State Warriors  82  58  24  0.707  48.1  113.5  42.8  85.1  50.3   \n8      Cleveland Cavaliers  82  50  32  0.610  48.1  110.9  40.4  84.8  47.6   \n179        Toronto Raptors  82  58  24  0.707  48.5  114.4  42.2  89.1  47.4   \n235  Golden State Warriors  82  57  25  0.695  48.3  117.7  44.0  89.8  49.1   \n\n     ...  OppSTL  OppBLK  OppBLKA  OppPF  OppPFD  OppPTS  Year  Champ  \\\n231  ...     8.3     3.6      6.0   18.8    19.9    99.9  2015      1   \n5    ...     7.8     4.5      4.1   20.5    18.4    98.7  2015      0   \n6    ...     7.2     4.4      3.9   20.6    20.3    98.3  2016      1   \n232  ...     8.7     4.1      6.1   19.8    20.7   104.1  2016      0   \n233  ...     8.6     3.8      6.8   19.4    19.3   104.3  2017      1   \n7    ...     7.3     4.3      4.0   20.6    18.1   107.2  2017      0   \n234  ...     8.7     3.7      7.5   18.5    19.6   107.5  2018      1   \n8    ...     7.5     4.1      3.8   20.7    18.6   109.9  2018      0   \n179  ...     7.6     4.5      5.3   20.5    21.0   108.4  2019      1   \n235  ...     7.7     3.6      6.4   19.5    21.4   111.2  2019      0   \n\n     Runner-Up   Tm  \n231          0  GSW  \n5            1  CLE  \n6            0  CLE  \n232          1  GSW  \n233          0  GSW  \n7            1  CLE  \n234          0  GSW  \n8            1  CLE  \n179          0  TOR  \n235          1  GSW  \n\n[10 rows x 51 columns]",
      "text/html": "<div>\n<style scoped>\n    .dataframe tbody tr th:only-of-type {\n        vertical-align: middle;\n    }\n\n    .dataframe tbody tr th {\n        vertical-align: top;\n    }\n\n    .dataframe thead th {\n        text-align: right;\n    }\n</style>\n<table border=\"1\" class=\"dataframe\">\n  <thead>\n    <tr style=\"text-align: right;\">\n      <th></th>\n      <th>TEAM</th>\n      <th>GP</th>\n      <th>W</th>\n      <th>L</th>\n      <th>WIN%</th>\n      <th>MIN</th>\n      <th>PTS</th>\n      <th>FGM</th>\n      <th>FGA</th>\n      <th>FG%</th>\n      <th>...</th>\n      <th>OppSTL</th>\n      <th>OppBLK</th>\n      <th>OppBLKA</th>\n      <th>OppPF</th>\n      <th>OppPFD</th>\n      <th>OppPTS</th>\n      <th>Year</th>\n      <th>Champ</th>\n      <th>Runner-Up</th>\n      <th>Tm</th>\n    </tr>\n  </thead>\n  <tbody>\n    <tr>\n      <th>231</th>\n      <td>Golden State Warriors</td>\n      <td>82</td>\n      <td>67</td>\n      <td>15</td>\n      <td>0.817</td>\n      <td>48.1</td>\n      <td>110.0</td>\n      <td>41.6</td>\n      <td>87.0</td>\n      <td>47.8</td>\n      <td>...</td>\n      <td>8.3</td>\n      <td>3.6</td>\n      <td>6.0</td>\n      <td>18.8</td>\n      <td>19.9</td>\n      <td>99.9</td>\n      <td>2015</td>\n      <td>1</td>\n      <td>0</td>\n      <td>GSW</td>\n    </tr>\n    <tr>\n      <th>5</th>\n      <td>Cleveland Cavaliers</td>\n      <td>82</td>\n      <td>53</td>\n      <td>29</td>\n      <td>0.646</td>\n      <td>48.2</td>\n      <td>103.1</td>\n      <td>37.7</td>\n      <td>82.2</td>\n      <td>45.8</td>\n      <td>...</td>\n      <td>7.8</td>\n      <td>4.5</td>\n      <td>4.1</td>\n      <td>20.5</td>\n      <td>18.4</td>\n      <td>98.7</td>\n      <td>2015</td>\n      <td>0</td>\n      <td>1</td>\n      <td>CLE</td>\n    </tr>\n    <tr>\n      <th>6</th>\n      <td>Cleveland Cavaliers</td>\n      <td>82</td>\n      <td>57</td>\n      <td>25</td>\n      <td>0.695</td>\n      <td>48.4</td>\n      <td>104.3</td>\n      <td>38.7</td>\n      <td>84.0</td>\n      <td>46.0</td>\n      <td>...</td>\n      <td>7.2</td>\n      <td>4.4</td>\n      <td>3.9</td>\n      <td>20.6</td>\n      <td>20.3</td>\n      <td>98.3</td>\n      <td>2016</td>\n      <td>1</td>\n      <td>0</td>\n      <td>CLE</td>\n    </tr>\n    <tr>\n      <th>232</th>\n      <td>Golden State Warriors</td>\n      <td>82</td>\n      <td>73</td>\n      <td>9</td>\n      <td>0.890</td>\n      <td>48.5</td>\n      <td>114.9</td>\n      <td>42.5</td>\n      <td>87.3</td>\n      <td>48.7</td>\n      <td>...</td>\n      <td>8.7</td>\n      <td>4.1</td>\n      <td>6.1</td>\n      <td>19.8</td>\n      <td>20.7</td>\n      <td>104.1</td>\n      <td>2016</td>\n      <td>0</td>\n      <td>1</td>\n      <td>GSW</td>\n    </tr>\n    <tr>\n      <th>233</th>\n      <td>Golden State Warriors</td>\n      <td>82</td>\n      <td>67</td>\n      <td>15</td>\n      <td>0.817</td>\n      <td>48.2</td>\n      <td>115.9</td>\n      <td>43.1</td>\n      <td>87.1</td>\n      <td>49.5</td>\n      <td>...</td>\n      <td>8.6</td>\n      <td>3.8</td>\n      <td>6.8</td>\n      <td>19.4</td>\n      <td>19.3</td>\n      <td>104.3</td>\n      <td>2017</td>\n      <td>1</td>\n      <td>0</td>\n      <td>GSW</td>\n    </tr>\n    <tr>\n      <th>7</th>\n      <td>Cleveland Cavaliers</td>\n      <td>82</td>\n      <td>51</td>\n      <td>31</td>\n      <td>0.622</td>\n      <td>48.5</td>\n      <td>110.3</td>\n      <td>39.9</td>\n      <td>84.9</td>\n      <td>47.0</td>\n      <td>...</td>\n      <td>7.3</td>\n      <td>4.3</td>\n      <td>4.0</td>\n      <td>20.6</td>\n      <td>18.1</td>\n      <td>107.2</td>\n      <td>2017</td>\n      <td>0</td>\n      <td>1</td>\n      <td>CLE</td>\n    </tr>\n    <tr>\n      <th>234</th>\n      <td>Golden State Warriors</td>\n      <td>82</td>\n      <td>58</td>\n      <td>24</td>\n      <td>0.707</td>\n      <td>48.1</td>\n      <td>113.5</td>\n      <td>42.8</td>\n      <td>85.1</td>\n      <td>50.3</td>\n      <td>...</td>\n      <td>8.7</td>\n      <td>3.7</td>\n      <td>7.5</td>\n      <td>18.5</td>\n      <td>19.6</td>\n      <td>107.5</td>\n      <td>2018</td>\n      <td>1</td>\n      <td>0</td>\n      <td>GSW</td>\n    </tr>\n    <tr>\n      <th>8</th>\n      <td>Cleveland Cavaliers</td>\n      <td>82</td>\n      <td>50</td>\n      <td>32</td>\n      <td>0.610</td>\n      <td>48.1</td>\n      <td>110.9</td>\n      <td>40.4</td>\n      <td>84.8</td>\n      <td>47.6</td>\n      <td>...</td>\n      <td>7.5</td>\n      <td>4.1</td>\n      <td>3.8</td>\n      <td>20.7</td>\n      <td>18.6</td>\n      <td>109.9</td>\n      <td>2018</td>\n      <td>0</td>\n      <td>1</td>\n      <td>CLE</td>\n    </tr>\n    <tr>\n      <th>179</th>\n      <td>Toronto Raptors</td>\n      <td>82</td>\n      <td>58</td>\n      <td>24</td>\n      <td>0.707</td>\n      <td>48.5</td>\n      <td>114.4</td>\n      <td>42.2</td>\n      <td>89.1</td>\n      <td>47.4</td>\n      <td>...</td>\n      <td>7.6</td>\n      <td>4.5</td>\n      <td>5.3</td>\n      <td>20.5</td>\n      <td>21.0</td>\n      <td>108.4</td>\n      <td>2019</td>\n      <td>1</td>\n      <td>0</td>\n      <td>TOR</td>\n    </tr>\n    <tr>\n      <th>235</th>\n      <td>Golden State Warriors</td>\n      <td>82</td>\n      <td>57</td>\n      <td>25</td>\n      <td>0.695</td>\n      <td>48.3</td>\n      <td>117.7</td>\n      <td>44.0</td>\n      <td>89.8</td>\n      <td>49.1</td>\n      <td>...</td>\n      <td>7.7</td>\n      <td>3.6</td>\n      <td>6.4</td>\n      <td>19.5</td>\n      <td>21.4</td>\n      <td>111.2</td>\n      <td>2019</td>\n      <td>0</td>\n      <td>1</td>\n      <td>GSW</td>\n    </tr>\n  </tbody>\n</table>\n<p>10 rows × 51 columns</p>\n</div>"
     },
     "metadata": {},
     "execution_count": 25
    }
   ],
   "source": [
    "#checking merge happened correctly by looking at the last few years\n",
    "check = df_team[(df_team['Champ']==1) | (df_team['Runner-Up']==1)]\n",
    "check.sort_values(by=['Year', 'Runner-Up'])[10:]"
   ]
  },
  {
   "cell_type": "markdown",
   "metadata": {},
   "source": [
    "All champions and the outcomes have been incorporated correctly. This dataset will be saved and used for analysis in EDA and modeling"
   ]
  },
  {
   "cell_type": "code",
   "execution_count": 26,
   "metadata": {},
   "outputs": [],
   "source": [
    "#save to file\n",
    "df_team.to_csv('teams.csv')"
   ]
  }
 ]
}