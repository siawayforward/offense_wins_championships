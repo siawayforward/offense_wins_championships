{
 "metadata": {
  "language_info": {
   "codemirror_mode": {
    "name": "ipython",
    "version": 3
   },
   "file_extension": ".py",
   "mimetype": "text/x-python",
   "name": "python",
   "nbconvert_exporter": "python",
   "pygments_lexer": "ipython3",
   "version": "3.7.6-final"
  },
  "orig_nbformat": 2,
  "kernelspec": {
   "name": "python_defaultSpec_1598371663465",
   "display_name": "Python 3.7.6 64-bit"
  }
 },
 "nbformat": 4,
 "nbformat_minor": 2,
 "cells": [
  {
   "cell_type": "code",
   "execution_count": 21,
   "metadata": {},
   "outputs": [],
   "source": [
    "#modules\n",
    "import pandas as pd\n",
    "import numpy as np\n",
    "from selenium import webdriver\n",
    "from bs4 import BeautifulSoup as bs\n",
    "import requests"
   ]
  },
  {
   "cell_type": "markdown",
   "metadata": {},
   "source": [
    "### Teams Data\n",
    "This will ultimately be the main focus dataset. We want to review team seasonal averages, but we have player data to see how positions affect different team metrics. We extract this for the last ten seasons (2010-2019) from the official [NBA website](https://stats.nba.com/teams/traditional/?Season=2019-20&SeasonType=Regular%20Season). Unlike the other data from Sports Reference, it was easier to scrape the NBA website because the SR data for season average is stored as HTML comments. It is a fun extraction challenge, but for another day."
   ]
  },
  {
   "cell_type": "code",
   "execution_count": 44,
   "metadata": {
    "tags": []
   },
   "outputs": [
    {
     "output_type": "execute_result",
     "data": {
      "text/plain": "   Unnamed: 0                   TEAM  GP   W   L   WIN%   MIN    PTS   FGM  \\\n0           1        Milwaukee Bucks  82  60  22  0.732  48.2  118.1  43.4   \n1           2        Toronto Raptors  82  58  24  0.707  48.5  114.4  42.2   \n2           3  Golden State Warriors  82  57  25  0.695  48.3  117.7  44.0   \n3           4         Denver Nuggets  82  54  28  0.659  48.1  110.7  41.9   \n4           5        Houston Rockets  82  53  29  0.646  48.4  113.9  39.2   \n\n    FGA  ...  DREB RANK  REB RANK  AST RANK  TOV RANK  STL RANK  BLK RANK  \\\n0  91.1  ...        NaN       NaN       NaN       NaN       NaN       NaN   \n1  89.1  ...        NaN       NaN       NaN       NaN       NaN       NaN   \n2  89.8  ...        NaN       NaN       NaN       NaN       NaN       NaN   \n3  90.0  ...        NaN       NaN       NaN       NaN       NaN       NaN   \n4  87.4  ...        NaN       NaN       NaN       NaN       NaN       NaN   \n\n   BLKA RANK  PF RANK  PFD RANK  +/- RANK  \n0        NaN      NaN       NaN       NaN  \n1        NaN      NaN       NaN       NaN  \n2        NaN      NaN       NaN       NaN  \n3        NaN      NaN       NaN       NaN  \n4        NaN      NaN       NaN       NaN  \n\n[5 rows x 54 columns]",
      "text/html": "<div>\n<style scoped>\n    .dataframe tbody tr th:only-of-type {\n        vertical-align: middle;\n    }\n\n    .dataframe tbody tr th {\n        vertical-align: top;\n    }\n\n    .dataframe thead th {\n        text-align: right;\n    }\n</style>\n<table border=\"1\" class=\"dataframe\">\n  <thead>\n    <tr style=\"text-align: right;\">\n      <th></th>\n      <th>Unnamed: 0</th>\n      <th>TEAM</th>\n      <th>GP</th>\n      <th>W</th>\n      <th>L</th>\n      <th>WIN%</th>\n      <th>MIN</th>\n      <th>PTS</th>\n      <th>FGM</th>\n      <th>FGA</th>\n      <th>...</th>\n      <th>DREB RANK</th>\n      <th>REB RANK</th>\n      <th>AST RANK</th>\n      <th>TOV RANK</th>\n      <th>STL RANK</th>\n      <th>BLK RANK</th>\n      <th>BLKA RANK</th>\n      <th>PF RANK</th>\n      <th>PFD RANK</th>\n      <th>+/- RANK</th>\n    </tr>\n  </thead>\n  <tbody>\n    <tr>\n      <th>0</th>\n      <td>1</td>\n      <td>Milwaukee Bucks</td>\n      <td>82</td>\n      <td>60</td>\n      <td>22</td>\n      <td>0.732</td>\n      <td>48.2</td>\n      <td>118.1</td>\n      <td>43.4</td>\n      <td>91.1</td>\n      <td>...</td>\n      <td>NaN</td>\n      <td>NaN</td>\n      <td>NaN</td>\n      <td>NaN</td>\n      <td>NaN</td>\n      <td>NaN</td>\n      <td>NaN</td>\n      <td>NaN</td>\n      <td>NaN</td>\n      <td>NaN</td>\n    </tr>\n    <tr>\n      <th>1</th>\n      <td>2</td>\n      <td>Toronto Raptors</td>\n      <td>82</td>\n      <td>58</td>\n      <td>24</td>\n      <td>0.707</td>\n      <td>48.5</td>\n      <td>114.4</td>\n      <td>42.2</td>\n      <td>89.1</td>\n      <td>...</td>\n      <td>NaN</td>\n      <td>NaN</td>\n      <td>NaN</td>\n      <td>NaN</td>\n      <td>NaN</td>\n      <td>NaN</td>\n      <td>NaN</td>\n      <td>NaN</td>\n      <td>NaN</td>\n      <td>NaN</td>\n    </tr>\n    <tr>\n      <th>2</th>\n      <td>3</td>\n      <td>Golden State Warriors</td>\n      <td>82</td>\n      <td>57</td>\n      <td>25</td>\n      <td>0.695</td>\n      <td>48.3</td>\n      <td>117.7</td>\n      <td>44.0</td>\n      <td>89.8</td>\n      <td>...</td>\n      <td>NaN</td>\n      <td>NaN</td>\n      <td>NaN</td>\n      <td>NaN</td>\n      <td>NaN</td>\n      <td>NaN</td>\n      <td>NaN</td>\n      <td>NaN</td>\n      <td>NaN</td>\n      <td>NaN</td>\n    </tr>\n    <tr>\n      <th>3</th>\n      <td>4</td>\n      <td>Denver Nuggets</td>\n      <td>82</td>\n      <td>54</td>\n      <td>28</td>\n      <td>0.659</td>\n      <td>48.1</td>\n      <td>110.7</td>\n      <td>41.9</td>\n      <td>90.0</td>\n      <td>...</td>\n      <td>NaN</td>\n      <td>NaN</td>\n      <td>NaN</td>\n      <td>NaN</td>\n      <td>NaN</td>\n      <td>NaN</td>\n      <td>NaN</td>\n      <td>NaN</td>\n      <td>NaN</td>\n      <td>NaN</td>\n    </tr>\n    <tr>\n      <th>4</th>\n      <td>5</td>\n      <td>Houston Rockets</td>\n      <td>82</td>\n      <td>53</td>\n      <td>29</td>\n      <td>0.646</td>\n      <td>48.4</td>\n      <td>113.9</td>\n      <td>39.2</td>\n      <td>87.4</td>\n      <td>...</td>\n      <td>NaN</td>\n      <td>NaN</td>\n      <td>NaN</td>\n      <td>NaN</td>\n      <td>NaN</td>\n      <td>NaN</td>\n      <td>NaN</td>\n      <td>NaN</td>\n      <td>NaN</td>\n      <td>NaN</td>\n    </tr>\n  </tbody>\n</table>\n<p>5 rows × 54 columns</p>\n</div>"
     },
     "metadata": {},
     "execution_count": 44
    }
   ],
   "source": [
    "seas = '2011-12'\n",
    "team_URL = 'https://stats.nba.com/teams/traditional/?Season=' +seas+ '&SeasonType=Regular%20Season'\n",
    "#webdriver and go to site and get dynamic table\n",
    "dr = webdriver.Chrome(executable_path=r'C:/bin/chromedriver.exe')\n",
    "dr.get(team_URL)\n",
    "table = dr.find_element_by_xpath('//div[@class=\"nba-stat-table\"]//div[1]//table').get_attribute('outerHTML')\n",
    "#read table\n",
    "raw_table = pd.read_html(table)[0]\n",
    "raw_table.head()"
   ]
  },
  {
   "cell_type": "code",
   "execution_count": 66,
   "metadata": {},
   "outputs": [
    {
     "output_type": "execute_result",
     "data": {
      "text/plain": "    Unnamed: 0                    TEAM  GP   W   L   WIN%   MIN    PTS   FGM  \\\n0            1         Milwaukee Bucks  82  60  22  0.732  48.2  118.1  43.4   \n1            2         Toronto Raptors  82  58  24  0.707  48.5  114.4  42.2   \n2            3   Golden State Warriors  82  57  25  0.695  48.3  117.7  44.0   \n3            4          Denver Nuggets  82  54  28  0.659  48.1  110.7  41.9   \n4            5         Houston Rockets  82  53  29  0.646  48.4  113.9  39.2   \n5            5  Portland Trail Blazers  82  53  29  0.646  48.4  114.7  42.3   \n6            7      Philadelphia 76ers  82  51  31  0.622  48.3  115.2  41.5   \n7            8               Utah Jazz  82  50  32  0.610  48.2  111.7  40.4   \n8            9          Boston Celtics  82  49  33  0.598  48.2  112.4  42.1   \n9            9   Oklahoma City Thunder  82  49  33  0.598  48.4  114.5  42.6   \n10          11          Indiana Pacers  82  48  34  0.585  48.1  108.0  41.3   \n11          11             LA Clippers  82  48  34  0.585  48.4  115.1  41.3   \n12          11       San Antonio Spurs  82  48  34  0.585  48.3  111.7  42.3   \n13          14           Brooklyn Nets  82  42  40  0.512  48.7  112.2  40.3   \n14          14           Orlando Magic  82  42  40  0.512  48.2  107.3  40.4   \n15          16         Detroit Pistons  82  41  41  0.500  48.4  107.0  38.8   \n16          17       Charlotte Hornets  82  39  43  0.476  48.4  110.7  40.2   \n17          17              Miami Heat  82  39  43  0.476  48.1  105.7  39.6   \n18          17        Sacramento Kings  82  39  43  0.476  48.1  114.2  43.2   \n19          20      Los Angeles Lakers  82  37  45  0.451  48.2  111.8  42.6   \n20          21  Minnesota Timberwolves  82  36  46  0.439  48.4  112.5  41.6   \n21          22        Dallas Mavericks  82  33  49  0.402  48.2  108.9  38.8   \n22          22       Memphis Grizzlies  82  33  49  0.402  48.5  103.5  38.0   \n23          22    New Orleans Pelicans  82  33  49  0.402  48.2  115.4  43.7   \n24          25      Washington Wizards  82  32  50  0.390  48.6  114.0  42.1   \n25          26           Atlanta Hawks  82  29  53  0.354  48.4  113.3  41.4   \n26          27           Chicago Bulls  82  22  60  0.268  48.5  104.9  39.8   \n27          28     Cleveland Cavaliers  82  19  63  0.232  48.2  104.5  38.9   \n28          28            Phoenix Suns  82  19  63  0.232  48.5  107.5  40.1   \n29          30         New York Knicks  82  17  65  0.207  48.2  104.6  38.2   \n\n     FGA  ...  DREB RANK  REB RANK  AST RANK  TOV RANK  STL RANK  BLK RANK  \\\n0   91.1  ...        NaN       NaN       NaN       NaN       NaN       NaN   \n1   89.1  ...        NaN       NaN       NaN       NaN       NaN       NaN   \n2   89.8  ...        NaN       NaN       NaN       NaN       NaN       NaN   \n3   90.0  ...        NaN       NaN       NaN       NaN       NaN       NaN   \n4   87.4  ...        NaN       NaN       NaN       NaN       NaN       NaN   \n5   90.6  ...        NaN       NaN       NaN       NaN       NaN       NaN   \n6   88.2  ...        NaN       NaN       NaN       NaN       NaN       NaN   \n7   86.4  ...        NaN       NaN       NaN       NaN       NaN       NaN   \n8   90.5  ...        NaN       NaN       NaN       NaN       NaN       NaN   \n9   94.0  ...        NaN       NaN       NaN       NaN       NaN       NaN   \n10  87.0  ...        NaN       NaN       NaN       NaN       NaN       NaN   \n11  87.5  ...        NaN       NaN       NaN       NaN       NaN       NaN   \n12  88.4  ...        NaN       NaN       NaN       NaN       NaN       NaN   \n13  89.7  ...        NaN       NaN       NaN       NaN       NaN       NaN   \n14  89.1  ...        NaN       NaN       NaN       NaN       NaN       NaN   \n15  88.3  ...        NaN       NaN       NaN       NaN       NaN       NaN   \n16  89.8  ...        NaN       NaN       NaN       NaN       NaN       NaN   \n17  88.0  ...        NaN       NaN       NaN       NaN       NaN       NaN   \n18  93.1  ...        NaN       NaN       NaN       NaN       NaN       NaN   \n19  90.5  ...        NaN       NaN       NaN       NaN       NaN       NaN   \n20  91.3  ...        NaN       NaN       NaN       NaN       NaN       NaN   \n21  86.9  ...        NaN       NaN       NaN       NaN       NaN       NaN   \n22  84.4  ...        NaN       NaN       NaN       NaN       NaN       NaN   \n23  92.2  ...        NaN       NaN       NaN       NaN       NaN       NaN   \n24  90.1  ...        NaN       NaN       NaN       NaN       NaN       NaN   \n25  91.8  ...        NaN       NaN       NaN       NaN       NaN       NaN   \n26  87.9  ...        NaN       NaN       NaN       NaN       NaN       NaN   \n27  87.6  ...        NaN       NaN       NaN       NaN       NaN       NaN   \n28  87.4  ...        NaN       NaN       NaN       NaN       NaN       NaN   \n29  88.3  ...        NaN       NaN       NaN       NaN       NaN       NaN   \n\n    BLKA RANK  PF RANK  PFD RANK  +/- RANK  \n0         NaN      NaN       NaN       NaN  \n1         NaN      NaN       NaN       NaN  \n2         NaN      NaN       NaN       NaN  \n3         NaN      NaN       NaN       NaN  \n4         NaN      NaN       NaN       NaN  \n5         NaN      NaN       NaN       NaN  \n6         NaN      NaN       NaN       NaN  \n7         NaN      NaN       NaN       NaN  \n8         NaN      NaN       NaN       NaN  \n9         NaN      NaN       NaN       NaN  \n10        NaN      NaN       NaN       NaN  \n11        NaN      NaN       NaN       NaN  \n12        NaN      NaN       NaN       NaN  \n13        NaN      NaN       NaN       NaN  \n14        NaN      NaN       NaN       NaN  \n15        NaN      NaN       NaN       NaN  \n16        NaN      NaN       NaN       NaN  \n17        NaN      NaN       NaN       NaN  \n18        NaN      NaN       NaN       NaN  \n19        NaN      NaN       NaN       NaN  \n20        NaN      NaN       NaN       NaN  \n21        NaN      NaN       NaN       NaN  \n22        NaN      NaN       NaN       NaN  \n23        NaN      NaN       NaN       NaN  \n24        NaN      NaN       NaN       NaN  \n25        NaN      NaN       NaN       NaN  \n26        NaN      NaN       NaN       NaN  \n27        NaN      NaN       NaN       NaN  \n28        NaN      NaN       NaN       NaN  \n29        NaN      NaN       NaN       NaN  \n\n[30 rows x 54 columns]",
      "text/html": "<div>\n<style scoped>\n    .dataframe tbody tr th:only-of-type {\n        vertical-align: middle;\n    }\n\n    .dataframe tbody tr th {\n        vertical-align: top;\n    }\n\n    .dataframe thead th {\n        text-align: right;\n    }\n</style>\n<table border=\"1\" class=\"dataframe\">\n  <thead>\n    <tr style=\"text-align: right;\">\n      <th></th>\n      <th>Unnamed: 0</th>\n      <th>TEAM</th>\n      <th>GP</th>\n      <th>W</th>\n      <th>L</th>\n      <th>WIN%</th>\n      <th>MIN</th>\n      <th>PTS</th>\n      <th>FGM</th>\n      <th>FGA</th>\n      <th>...</th>\n      <th>DREB RANK</th>\n      <th>REB RANK</th>\n      <th>AST RANK</th>\n      <th>TOV RANK</th>\n      <th>STL RANK</th>\n      <th>BLK RANK</th>\n      <th>BLKA RANK</th>\n      <th>PF RANK</th>\n      <th>PFD RANK</th>\n      <th>+/- RANK</th>\n    </tr>\n  </thead>\n  <tbody>\n    <tr>\n      <th>0</th>\n      <td>1</td>\n      <td>Milwaukee Bucks</td>\n      <td>82</td>\n      <td>60</td>\n      <td>22</td>\n      <td>0.732</td>\n      <td>48.2</td>\n      <td>118.1</td>\n      <td>43.4</td>\n      <td>91.1</td>\n      <td>...</td>\n      <td>NaN</td>\n      <td>NaN</td>\n      <td>NaN</td>\n      <td>NaN</td>\n      <td>NaN</td>\n      <td>NaN</td>\n      <td>NaN</td>\n      <td>NaN</td>\n      <td>NaN</td>\n      <td>NaN</td>\n    </tr>\n    <tr>\n      <th>1</th>\n      <td>2</td>\n      <td>Toronto Raptors</td>\n      <td>82</td>\n      <td>58</td>\n      <td>24</td>\n      <td>0.707</td>\n      <td>48.5</td>\n      <td>114.4</td>\n      <td>42.2</td>\n      <td>89.1</td>\n      <td>...</td>\n      <td>NaN</td>\n      <td>NaN</td>\n      <td>NaN</td>\n      <td>NaN</td>\n      <td>NaN</td>\n      <td>NaN</td>\n      <td>NaN</td>\n      <td>NaN</td>\n      <td>NaN</td>\n      <td>NaN</td>\n    </tr>\n    <tr>\n      <th>2</th>\n      <td>3</td>\n      <td>Golden State Warriors</td>\n      <td>82</td>\n      <td>57</td>\n      <td>25</td>\n      <td>0.695</td>\n      <td>48.3</td>\n      <td>117.7</td>\n      <td>44.0</td>\n      <td>89.8</td>\n      <td>...</td>\n      <td>NaN</td>\n      <td>NaN</td>\n      <td>NaN</td>\n      <td>NaN</td>\n      <td>NaN</td>\n      <td>NaN</td>\n      <td>NaN</td>\n      <td>NaN</td>\n      <td>NaN</td>\n      <td>NaN</td>\n    </tr>\n    <tr>\n      <th>3</th>\n      <td>4</td>\n      <td>Denver Nuggets</td>\n      <td>82</td>\n      <td>54</td>\n      <td>28</td>\n      <td>0.659</td>\n      <td>48.1</td>\n      <td>110.7</td>\n      <td>41.9</td>\n      <td>90.0</td>\n      <td>...</td>\n      <td>NaN</td>\n      <td>NaN</td>\n      <td>NaN</td>\n      <td>NaN</td>\n      <td>NaN</td>\n      <td>NaN</td>\n      <td>NaN</td>\n      <td>NaN</td>\n      <td>NaN</td>\n      <td>NaN</td>\n    </tr>\n    <tr>\n      <th>4</th>\n      <td>5</td>\n      <td>Houston Rockets</td>\n      <td>82</td>\n      <td>53</td>\n      <td>29</td>\n      <td>0.646</td>\n      <td>48.4</td>\n      <td>113.9</td>\n      <td>39.2</td>\n      <td>87.4</td>\n      <td>...</td>\n      <td>NaN</td>\n      <td>NaN</td>\n      <td>NaN</td>\n      <td>NaN</td>\n      <td>NaN</td>\n      <td>NaN</td>\n      <td>NaN</td>\n      <td>NaN</td>\n      <td>NaN</td>\n      <td>NaN</td>\n    </tr>\n    <tr>\n      <th>5</th>\n      <td>5</td>\n      <td>Portland Trail Blazers</td>\n      <td>82</td>\n      <td>53</td>\n      <td>29</td>\n      <td>0.646</td>\n      <td>48.4</td>\n      <td>114.7</td>\n      <td>42.3</td>\n      <td>90.6</td>\n      <td>...</td>\n      <td>NaN</td>\n      <td>NaN</td>\n      <td>NaN</td>\n      <td>NaN</td>\n      <td>NaN</td>\n      <td>NaN</td>\n      <td>NaN</td>\n      <td>NaN</td>\n      <td>NaN</td>\n      <td>NaN</td>\n    </tr>\n    <tr>\n      <th>6</th>\n      <td>7</td>\n      <td>Philadelphia 76ers</td>\n      <td>82</td>\n      <td>51</td>\n      <td>31</td>\n      <td>0.622</td>\n      <td>48.3</td>\n      <td>115.2</td>\n      <td>41.5</td>\n      <td>88.2</td>\n      <td>...</td>\n      <td>NaN</td>\n      <td>NaN</td>\n      <td>NaN</td>\n      <td>NaN</td>\n      <td>NaN</td>\n      <td>NaN</td>\n      <td>NaN</td>\n      <td>NaN</td>\n      <td>NaN</td>\n      <td>NaN</td>\n    </tr>\n    <tr>\n      <th>7</th>\n      <td>8</td>\n      <td>Utah Jazz</td>\n      <td>82</td>\n      <td>50</td>\n      <td>32</td>\n      <td>0.610</td>\n      <td>48.2</td>\n      <td>111.7</td>\n      <td>40.4</td>\n      <td>86.4</td>\n      <td>...</td>\n      <td>NaN</td>\n      <td>NaN</td>\n      <td>NaN</td>\n      <td>NaN</td>\n      <td>NaN</td>\n      <td>NaN</td>\n      <td>NaN</td>\n      <td>NaN</td>\n      <td>NaN</td>\n      <td>NaN</td>\n    </tr>\n    <tr>\n      <th>8</th>\n      <td>9</td>\n      <td>Boston Celtics</td>\n      <td>82</td>\n      <td>49</td>\n      <td>33</td>\n      <td>0.598</td>\n      <td>48.2</td>\n      <td>112.4</td>\n      <td>42.1</td>\n      <td>90.5</td>\n      <td>...</td>\n      <td>NaN</td>\n      <td>NaN</td>\n      <td>NaN</td>\n      <td>NaN</td>\n      <td>NaN</td>\n      <td>NaN</td>\n      <td>NaN</td>\n      <td>NaN</td>\n      <td>NaN</td>\n      <td>NaN</td>\n    </tr>\n    <tr>\n      <th>9</th>\n      <td>9</td>\n      <td>Oklahoma City Thunder</td>\n      <td>82</td>\n      <td>49</td>\n      <td>33</td>\n      <td>0.598</td>\n      <td>48.4</td>\n      <td>114.5</td>\n      <td>42.6</td>\n      <td>94.0</td>\n      <td>...</td>\n      <td>NaN</td>\n      <td>NaN</td>\n      <td>NaN</td>\n      <td>NaN</td>\n      <td>NaN</td>\n      <td>NaN</td>\n      <td>NaN</td>\n      <td>NaN</td>\n      <td>NaN</td>\n      <td>NaN</td>\n    </tr>\n    <tr>\n      <th>10</th>\n      <td>11</td>\n      <td>Indiana Pacers</td>\n      <td>82</td>\n      <td>48</td>\n      <td>34</td>\n      <td>0.585</td>\n      <td>48.1</td>\n      <td>108.0</td>\n      <td>41.3</td>\n      <td>87.0</td>\n      <td>...</td>\n      <td>NaN</td>\n      <td>NaN</td>\n      <td>NaN</td>\n      <td>NaN</td>\n      <td>NaN</td>\n      <td>NaN</td>\n      <td>NaN</td>\n      <td>NaN</td>\n      <td>NaN</td>\n      <td>NaN</td>\n    </tr>\n    <tr>\n      <th>11</th>\n      <td>11</td>\n      <td>LA Clippers</td>\n      <td>82</td>\n      <td>48</td>\n      <td>34</td>\n      <td>0.585</td>\n      <td>48.4</td>\n      <td>115.1</td>\n      <td>41.3</td>\n      <td>87.5</td>\n      <td>...</td>\n      <td>NaN</td>\n      <td>NaN</td>\n      <td>NaN</td>\n      <td>NaN</td>\n      <td>NaN</td>\n      <td>NaN</td>\n      <td>NaN</td>\n      <td>NaN</td>\n      <td>NaN</td>\n      <td>NaN</td>\n    </tr>\n    <tr>\n      <th>12</th>\n      <td>11</td>\n      <td>San Antonio Spurs</td>\n      <td>82</td>\n      <td>48</td>\n      <td>34</td>\n      <td>0.585</td>\n      <td>48.3</td>\n      <td>111.7</td>\n      <td>42.3</td>\n      <td>88.4</td>\n      <td>...</td>\n      <td>NaN</td>\n      <td>NaN</td>\n      <td>NaN</td>\n      <td>NaN</td>\n      <td>NaN</td>\n      <td>NaN</td>\n      <td>NaN</td>\n      <td>NaN</td>\n      <td>NaN</td>\n      <td>NaN</td>\n    </tr>\n    <tr>\n      <th>13</th>\n      <td>14</td>\n      <td>Brooklyn Nets</td>\n      <td>82</td>\n      <td>42</td>\n      <td>40</td>\n      <td>0.512</td>\n      <td>48.7</td>\n      <td>112.2</td>\n      <td>40.3</td>\n      <td>89.7</td>\n      <td>...</td>\n      <td>NaN</td>\n      <td>NaN</td>\n      <td>NaN</td>\n      <td>NaN</td>\n      <td>NaN</td>\n      <td>NaN</td>\n      <td>NaN</td>\n      <td>NaN</td>\n      <td>NaN</td>\n      <td>NaN</td>\n    </tr>\n    <tr>\n      <th>14</th>\n      <td>14</td>\n      <td>Orlando Magic</td>\n      <td>82</td>\n      <td>42</td>\n      <td>40</td>\n      <td>0.512</td>\n      <td>48.2</td>\n      <td>107.3</td>\n      <td>40.4</td>\n      <td>89.1</td>\n      <td>...</td>\n      <td>NaN</td>\n      <td>NaN</td>\n      <td>NaN</td>\n      <td>NaN</td>\n      <td>NaN</td>\n      <td>NaN</td>\n      <td>NaN</td>\n      <td>NaN</td>\n      <td>NaN</td>\n      <td>NaN</td>\n    </tr>\n    <tr>\n      <th>15</th>\n      <td>16</td>\n      <td>Detroit Pistons</td>\n      <td>82</td>\n      <td>41</td>\n      <td>41</td>\n      <td>0.500</td>\n      <td>48.4</td>\n      <td>107.0</td>\n      <td>38.8</td>\n      <td>88.3</td>\n      <td>...</td>\n      <td>NaN</td>\n      <td>NaN</td>\n      <td>NaN</td>\n      <td>NaN</td>\n      <td>NaN</td>\n      <td>NaN</td>\n      <td>NaN</td>\n      <td>NaN</td>\n      <td>NaN</td>\n      <td>NaN</td>\n    </tr>\n    <tr>\n      <th>16</th>\n      <td>17</td>\n      <td>Charlotte Hornets</td>\n      <td>82</td>\n      <td>39</td>\n      <td>43</td>\n      <td>0.476</td>\n      <td>48.4</td>\n      <td>110.7</td>\n      <td>40.2</td>\n      <td>89.8</td>\n      <td>...</td>\n      <td>NaN</td>\n      <td>NaN</td>\n      <td>NaN</td>\n      <td>NaN</td>\n      <td>NaN</td>\n      <td>NaN</td>\n      <td>NaN</td>\n      <td>NaN</td>\n      <td>NaN</td>\n      <td>NaN</td>\n    </tr>\n    <tr>\n      <th>17</th>\n      <td>17</td>\n      <td>Miami Heat</td>\n      <td>82</td>\n      <td>39</td>\n      <td>43</td>\n      <td>0.476</td>\n      <td>48.1</td>\n      <td>105.7</td>\n      <td>39.6</td>\n      <td>88.0</td>\n      <td>...</td>\n      <td>NaN</td>\n      <td>NaN</td>\n      <td>NaN</td>\n      <td>NaN</td>\n      <td>NaN</td>\n      <td>NaN</td>\n      <td>NaN</td>\n      <td>NaN</td>\n      <td>NaN</td>\n      <td>NaN</td>\n    </tr>\n    <tr>\n      <th>18</th>\n      <td>17</td>\n      <td>Sacramento Kings</td>\n      <td>82</td>\n      <td>39</td>\n      <td>43</td>\n      <td>0.476</td>\n      <td>48.1</td>\n      <td>114.2</td>\n      <td>43.2</td>\n      <td>93.1</td>\n      <td>...</td>\n      <td>NaN</td>\n      <td>NaN</td>\n      <td>NaN</td>\n      <td>NaN</td>\n      <td>NaN</td>\n      <td>NaN</td>\n      <td>NaN</td>\n      <td>NaN</td>\n      <td>NaN</td>\n      <td>NaN</td>\n    </tr>\n    <tr>\n      <th>19</th>\n      <td>20</td>\n      <td>Los Angeles Lakers</td>\n      <td>82</td>\n      <td>37</td>\n      <td>45</td>\n      <td>0.451</td>\n      <td>48.2</td>\n      <td>111.8</td>\n      <td>42.6</td>\n      <td>90.5</td>\n      <td>...</td>\n      <td>NaN</td>\n      <td>NaN</td>\n      <td>NaN</td>\n      <td>NaN</td>\n      <td>NaN</td>\n      <td>NaN</td>\n      <td>NaN</td>\n      <td>NaN</td>\n      <td>NaN</td>\n      <td>NaN</td>\n    </tr>\n    <tr>\n      <th>20</th>\n      <td>21</td>\n      <td>Minnesota Timberwolves</td>\n      <td>82</td>\n      <td>36</td>\n      <td>46</td>\n      <td>0.439</td>\n      <td>48.4</td>\n      <td>112.5</td>\n      <td>41.6</td>\n      <td>91.3</td>\n      <td>...</td>\n      <td>NaN</td>\n      <td>NaN</td>\n      <td>NaN</td>\n      <td>NaN</td>\n      <td>NaN</td>\n      <td>NaN</td>\n      <td>NaN</td>\n      <td>NaN</td>\n      <td>NaN</td>\n      <td>NaN</td>\n    </tr>\n    <tr>\n      <th>21</th>\n      <td>22</td>\n      <td>Dallas Mavericks</td>\n      <td>82</td>\n      <td>33</td>\n      <td>49</td>\n      <td>0.402</td>\n      <td>48.2</td>\n      <td>108.9</td>\n      <td>38.8</td>\n      <td>86.9</td>\n      <td>...</td>\n      <td>NaN</td>\n      <td>NaN</td>\n      <td>NaN</td>\n      <td>NaN</td>\n      <td>NaN</td>\n      <td>NaN</td>\n      <td>NaN</td>\n      <td>NaN</td>\n      <td>NaN</td>\n      <td>NaN</td>\n    </tr>\n    <tr>\n      <th>22</th>\n      <td>22</td>\n      <td>Memphis Grizzlies</td>\n      <td>82</td>\n      <td>33</td>\n      <td>49</td>\n      <td>0.402</td>\n      <td>48.5</td>\n      <td>103.5</td>\n      <td>38.0</td>\n      <td>84.4</td>\n      <td>...</td>\n      <td>NaN</td>\n      <td>NaN</td>\n      <td>NaN</td>\n      <td>NaN</td>\n      <td>NaN</td>\n      <td>NaN</td>\n      <td>NaN</td>\n      <td>NaN</td>\n      <td>NaN</td>\n      <td>NaN</td>\n    </tr>\n    <tr>\n      <th>23</th>\n      <td>22</td>\n      <td>New Orleans Pelicans</td>\n      <td>82</td>\n      <td>33</td>\n      <td>49</td>\n      <td>0.402</td>\n      <td>48.2</td>\n      <td>115.4</td>\n      <td>43.7</td>\n      <td>92.2</td>\n      <td>...</td>\n      <td>NaN</td>\n      <td>NaN</td>\n      <td>NaN</td>\n      <td>NaN</td>\n      <td>NaN</td>\n      <td>NaN</td>\n      <td>NaN</td>\n      <td>NaN</td>\n      <td>NaN</td>\n      <td>NaN</td>\n    </tr>\n    <tr>\n      <th>24</th>\n      <td>25</td>\n      <td>Washington Wizards</td>\n      <td>82</td>\n      <td>32</td>\n      <td>50</td>\n      <td>0.390</td>\n      <td>48.6</td>\n      <td>114.0</td>\n      <td>42.1</td>\n      <td>90.1</td>\n      <td>...</td>\n      <td>NaN</td>\n      <td>NaN</td>\n      <td>NaN</td>\n      <td>NaN</td>\n      <td>NaN</td>\n      <td>NaN</td>\n      <td>NaN</td>\n      <td>NaN</td>\n      <td>NaN</td>\n      <td>NaN</td>\n    </tr>\n    <tr>\n      <th>25</th>\n      <td>26</td>\n      <td>Atlanta Hawks</td>\n      <td>82</td>\n      <td>29</td>\n      <td>53</td>\n      <td>0.354</td>\n      <td>48.4</td>\n      <td>113.3</td>\n      <td>41.4</td>\n      <td>91.8</td>\n      <td>...</td>\n      <td>NaN</td>\n      <td>NaN</td>\n      <td>NaN</td>\n      <td>NaN</td>\n      <td>NaN</td>\n      <td>NaN</td>\n      <td>NaN</td>\n      <td>NaN</td>\n      <td>NaN</td>\n      <td>NaN</td>\n    </tr>\n    <tr>\n      <th>26</th>\n      <td>27</td>\n      <td>Chicago Bulls</td>\n      <td>82</td>\n      <td>22</td>\n      <td>60</td>\n      <td>0.268</td>\n      <td>48.5</td>\n      <td>104.9</td>\n      <td>39.8</td>\n      <td>87.9</td>\n      <td>...</td>\n      <td>NaN</td>\n      <td>NaN</td>\n      <td>NaN</td>\n      <td>NaN</td>\n      <td>NaN</td>\n      <td>NaN</td>\n      <td>NaN</td>\n      <td>NaN</td>\n      <td>NaN</td>\n      <td>NaN</td>\n    </tr>\n    <tr>\n      <th>27</th>\n      <td>28</td>\n      <td>Cleveland Cavaliers</td>\n      <td>82</td>\n      <td>19</td>\n      <td>63</td>\n      <td>0.232</td>\n      <td>48.2</td>\n      <td>104.5</td>\n      <td>38.9</td>\n      <td>87.6</td>\n      <td>...</td>\n      <td>NaN</td>\n      <td>NaN</td>\n      <td>NaN</td>\n      <td>NaN</td>\n      <td>NaN</td>\n      <td>NaN</td>\n      <td>NaN</td>\n      <td>NaN</td>\n      <td>NaN</td>\n      <td>NaN</td>\n    </tr>\n    <tr>\n      <th>28</th>\n      <td>28</td>\n      <td>Phoenix Suns</td>\n      <td>82</td>\n      <td>19</td>\n      <td>63</td>\n      <td>0.232</td>\n      <td>48.5</td>\n      <td>107.5</td>\n      <td>40.1</td>\n      <td>87.4</td>\n      <td>...</td>\n      <td>NaN</td>\n      <td>NaN</td>\n      <td>NaN</td>\n      <td>NaN</td>\n      <td>NaN</td>\n      <td>NaN</td>\n      <td>NaN</td>\n      <td>NaN</td>\n      <td>NaN</td>\n      <td>NaN</td>\n    </tr>\n    <tr>\n      <th>29</th>\n      <td>30</td>\n      <td>New York Knicks</td>\n      <td>82</td>\n      <td>17</td>\n      <td>65</td>\n      <td>0.207</td>\n      <td>48.2</td>\n      <td>104.6</td>\n      <td>38.2</td>\n      <td>88.3</td>\n      <td>...</td>\n      <td>NaN</td>\n      <td>NaN</td>\n      <td>NaN</td>\n      <td>NaN</td>\n      <td>NaN</td>\n      <td>NaN</td>\n      <td>NaN</td>\n      <td>NaN</td>\n      <td>NaN</td>\n      <td>NaN</td>\n    </tr>\n  </tbody>\n</table>\n<p>30 rows × 54 columns</p>\n</div>"
     },
     "metadata": {},
     "execution_count": 66
    }
   ],
   "source": [
    "#make a copy before cleaning, raw_table does not appear if I try to use it\n",
    "raw_data = raw_table.copy()"
   ]
  },
  {
   "cell_type": "markdown",
   "metadata": {},
   "source": [
    "We only need the data columns because the rank columns are dynamic and if we ever need to determine this, we would be able to do so by sorting specific columns"
   ]
  },
  {
   "cell_type": "code",
   "execution_count": 76,
   "metadata": {},
   "outputs": [
    {
     "output_type": "execute_result",
     "data": {
      "text/plain": "                    TEAM  GP   W   L   WIN%   MIN    PTS   FGM   FGA   FG%  \\\n0        Milwaukee Bucks  82  60  22  0.732  48.2  118.1  43.4  91.1  47.6   \n1        Toronto Raptors  82  58  24  0.707  48.5  114.4  42.2  89.1  47.4   \n2  Golden State Warriors  82  57  25  0.695  48.3  117.7  44.0  89.8  49.1   \n3         Denver Nuggets  82  54  28  0.659  48.1  110.7  41.9  90.0  46.6   \n4        Houston Rockets  82  53  29  0.646  48.4  113.9  39.2  87.4  44.9   \n\n   ...  DREB   REB   AST   TOV  STL  BLK  BLKA    PF   PFD  +/-  \n0  ...  40.4  49.7  26.0  13.9  7.5  5.9   4.8  19.6  20.2  8.9  \n1  ...  35.6  45.2  25.4  14.0  8.3  5.3   4.5  21.0  20.5  6.1  \n2  ...  36.5  46.2  29.4  14.3  7.6  6.4   3.6  21.4  19.5  6.5  \n3  ...  34.5  46.4  27.4  13.4  7.7  4.4   5.0  20.0  20.4  4.0  \n4  ...  31.9  42.1  21.2  13.3  8.5  4.9   4.5  22.0  20.0  4.8  \n\n[5 rows x 27 columns]",
      "text/html": "<div>\n<style scoped>\n    .dataframe tbody tr th:only-of-type {\n        vertical-align: middle;\n    }\n\n    .dataframe tbody tr th {\n        vertical-align: top;\n    }\n\n    .dataframe thead th {\n        text-align: right;\n    }\n</style>\n<table border=\"1\" class=\"dataframe\">\n  <thead>\n    <tr style=\"text-align: right;\">\n      <th></th>\n      <th>TEAM</th>\n      <th>GP</th>\n      <th>W</th>\n      <th>L</th>\n      <th>WIN%</th>\n      <th>MIN</th>\n      <th>PTS</th>\n      <th>FGM</th>\n      <th>FGA</th>\n      <th>FG%</th>\n      <th>...</th>\n      <th>DREB</th>\n      <th>REB</th>\n      <th>AST</th>\n      <th>TOV</th>\n      <th>STL</th>\n      <th>BLK</th>\n      <th>BLKA</th>\n      <th>PF</th>\n      <th>PFD</th>\n      <th>+/-</th>\n    </tr>\n  </thead>\n  <tbody>\n    <tr>\n      <th>0</th>\n      <td>Milwaukee Bucks</td>\n      <td>82</td>\n      <td>60</td>\n      <td>22</td>\n      <td>0.732</td>\n      <td>48.2</td>\n      <td>118.1</td>\n      <td>43.4</td>\n      <td>91.1</td>\n      <td>47.6</td>\n      <td>...</td>\n      <td>40.4</td>\n      <td>49.7</td>\n      <td>26.0</td>\n      <td>13.9</td>\n      <td>7.5</td>\n      <td>5.9</td>\n      <td>4.8</td>\n      <td>19.6</td>\n      <td>20.2</td>\n      <td>8.9</td>\n    </tr>\n    <tr>\n      <th>1</th>\n      <td>Toronto Raptors</td>\n      <td>82</td>\n      <td>58</td>\n      <td>24</td>\n      <td>0.707</td>\n      <td>48.5</td>\n      <td>114.4</td>\n      <td>42.2</td>\n      <td>89.1</td>\n      <td>47.4</td>\n      <td>...</td>\n      <td>35.6</td>\n      <td>45.2</td>\n      <td>25.4</td>\n      <td>14.0</td>\n      <td>8.3</td>\n      <td>5.3</td>\n      <td>4.5</td>\n      <td>21.0</td>\n      <td>20.5</td>\n      <td>6.1</td>\n    </tr>\n    <tr>\n      <th>2</th>\n      <td>Golden State Warriors</td>\n      <td>82</td>\n      <td>57</td>\n      <td>25</td>\n      <td>0.695</td>\n      <td>48.3</td>\n      <td>117.7</td>\n      <td>44.0</td>\n      <td>89.8</td>\n      <td>49.1</td>\n      <td>...</td>\n      <td>36.5</td>\n      <td>46.2</td>\n      <td>29.4</td>\n      <td>14.3</td>\n      <td>7.6</td>\n      <td>6.4</td>\n      <td>3.6</td>\n      <td>21.4</td>\n      <td>19.5</td>\n      <td>6.5</td>\n    </tr>\n    <tr>\n      <th>3</th>\n      <td>Denver Nuggets</td>\n      <td>82</td>\n      <td>54</td>\n      <td>28</td>\n      <td>0.659</td>\n      <td>48.1</td>\n      <td>110.7</td>\n      <td>41.9</td>\n      <td>90.0</td>\n      <td>46.6</td>\n      <td>...</td>\n      <td>34.5</td>\n      <td>46.4</td>\n      <td>27.4</td>\n      <td>13.4</td>\n      <td>7.7</td>\n      <td>4.4</td>\n      <td>5.0</td>\n      <td>20.0</td>\n      <td>20.4</td>\n      <td>4.0</td>\n    </tr>\n    <tr>\n      <th>4</th>\n      <td>Houston Rockets</td>\n      <td>82</td>\n      <td>53</td>\n      <td>29</td>\n      <td>0.646</td>\n      <td>48.4</td>\n      <td>113.9</td>\n      <td>39.2</td>\n      <td>87.4</td>\n      <td>44.9</td>\n      <td>...</td>\n      <td>31.9</td>\n      <td>42.1</td>\n      <td>21.2</td>\n      <td>13.3</td>\n      <td>8.5</td>\n      <td>4.9</td>\n      <td>4.5</td>\n      <td>22.0</td>\n      <td>20.0</td>\n      <td>4.8</td>\n    </tr>\n  </tbody>\n</table>\n<p>5 rows × 27 columns</p>\n</div>"
     },
     "metadata": {},
     "execution_count": 76
    }
   ],
   "source": [
    "raw_data.columns\n",
    "data = raw_data[['TEAM', 'GP', 'W', 'L', 'WIN%', 'MIN', 'PTS', 'FGM',\n",
    "       'FGA', 'FG%', '3PM', '3PA', '3P%', 'FTM', 'FTA', 'FT%', 'OREB', 'DREB',\n",
    "       'REB', 'AST', 'TOV', 'STL', 'BLK', 'BLKA', 'PF', 'PFD', '+/-']]\n",
    "data.head()"
   ]
  },
  {
   "cell_type": "markdown",
   "metadata": {},
   "source": [
    "Putting it all together, we need to:\n",
    "- Extract information\n",
    "- Only include columns of interest\n",
    "- Add in the year for which the season applies\n",
    "- Append values into a single dataframe\n",
    "- Add in end of season champion and runner-up indicators"
   ]
  },
  {
   "cell_type": "code",
   "execution_count": 138,
   "metadata": {},
   "outputs": [],
   "source": [
    "def get_data(season, URL):\n",
    "    #access web driver and access page content\n",
    "    dr = webdriver.Chrome(executable_path=r'C:/bin/chromedriver.exe')\n",
    "    dr.get(URL)\n",
    "    table = dr.find_element_by_xpath('//div[@class=\"nba-stat-table\"]//div[1]//table').get_attribute('outerHTML')\n",
    "    #get the data metrics for the team into a dataframe\n",
    "    raw_df = pd.read_html(table)[0]\n",
    "    data = raw_df[['TEAM', 'GP', 'W', 'L', 'WIN%', 'MIN', 'PTS', 'FGM', 'FGA', 'FG%', '3PM', '3PA', '3P%', \n",
    "        'FTM', 'FTA', 'FT%', 'OREB', 'DREB', 'REB', 'AST', 'TOV', 'STL', 'BLK', 'BLKA', 'PF', 'PFD', '+/-']]\n",
    "    data['Year'] = int(i)\n",
    "    dr.close()\n",
    "    return data"
   ]
  },
  {
   "cell_type": "code",
   "execution_count": 139,
   "metadata": {
    "tags": []
   },
   "outputs": [],
   "source": [
    "df_team = pd.DataFrame()\n",
    "#get each year's data\n",
    "for i in range(2010,2020):\n",
    "    seas = str(i-1)+'-'+str(i)[2:]\n",
    "    teams_URL = 'https://stats.nba.com/teams/traditional/?Season=' +seas+ '&SeasonType=Regular%20Season'\n",
    "    df_team = pd.concat([df_team, get_data(seas, teams_URL)], ignore_index=True)"
   ]
  },
  {
   "cell_type": "code",
   "execution_count": 140,
   "metadata": {},
   "outputs": [
    {
     "output_type": "execute_result",
     "data": {
      "text/plain": "                  TEAM  GP   W   L   WIN%   MIN    PTS   FGM   FGA   FG%  ...  \\\n0  Cleveland Cavaliers  82  61  21  0.744  48.2  102.1  37.8  77.9  48.5  ...   \n1        Orlando Magic  82  59  23  0.720  48.1  102.8  36.6  78.0  47.0  ...   \n2   Los Angeles Lakers  82  57  25  0.695  48.4  101.7  38.3  83.8  45.7  ...   \n3     Dallas Mavericks  82  55  27  0.671  48.5  102.0  38.3  82.4  46.4  ...   \n4         Phoenix Suns  82  54  28  0.659  48.1  110.2  40.7  82.8  49.2  ...   \n\n    REB   AST   TOV  STL  BLK  BLKA    PF   PFD  +/-  Year  \n0  42.5  22.4  13.9  6.9  5.2   4.0  19.4  20.8  6.5  2010  \n1  43.2  19.7  14.1  6.2  5.6   3.5  19.9  22.2  7.5  2010  \n2  44.3  21.1  13.4  7.5  4.9   4.4  19.4  21.2  4.7  2010  \n3  41.7  23.4  12.9  7.6  5.5   4.1  19.1  20.1  2.7  2010  \n4  43.0  23.3  14.8  5.8  5.1   4.5  20.9  21.8  4.9  2010  \n\n[5 rows x 28 columns]",
      "text/html": "<div>\n<style scoped>\n    .dataframe tbody tr th:only-of-type {\n        vertical-align: middle;\n    }\n\n    .dataframe tbody tr th {\n        vertical-align: top;\n    }\n\n    .dataframe thead th {\n        text-align: right;\n    }\n</style>\n<table border=\"1\" class=\"dataframe\">\n  <thead>\n    <tr style=\"text-align: right;\">\n      <th></th>\n      <th>TEAM</th>\n      <th>GP</th>\n      <th>W</th>\n      <th>L</th>\n      <th>WIN%</th>\n      <th>MIN</th>\n      <th>PTS</th>\n      <th>FGM</th>\n      <th>FGA</th>\n      <th>FG%</th>\n      <th>...</th>\n      <th>REB</th>\n      <th>AST</th>\n      <th>TOV</th>\n      <th>STL</th>\n      <th>BLK</th>\n      <th>BLKA</th>\n      <th>PF</th>\n      <th>PFD</th>\n      <th>+/-</th>\n      <th>Year</th>\n    </tr>\n  </thead>\n  <tbody>\n    <tr>\n      <th>0</th>\n      <td>Cleveland Cavaliers</td>\n      <td>82</td>\n      <td>61</td>\n      <td>21</td>\n      <td>0.744</td>\n      <td>48.2</td>\n      <td>102.1</td>\n      <td>37.8</td>\n      <td>77.9</td>\n      <td>48.5</td>\n      <td>...</td>\n      <td>42.5</td>\n      <td>22.4</td>\n      <td>13.9</td>\n      <td>6.9</td>\n      <td>5.2</td>\n      <td>4.0</td>\n      <td>19.4</td>\n      <td>20.8</td>\n      <td>6.5</td>\n      <td>2010</td>\n    </tr>\n    <tr>\n      <th>1</th>\n      <td>Orlando Magic</td>\n      <td>82</td>\n      <td>59</td>\n      <td>23</td>\n      <td>0.720</td>\n      <td>48.1</td>\n      <td>102.8</td>\n      <td>36.6</td>\n      <td>78.0</td>\n      <td>47.0</td>\n      <td>...</td>\n      <td>43.2</td>\n      <td>19.7</td>\n      <td>14.1</td>\n      <td>6.2</td>\n      <td>5.6</td>\n      <td>3.5</td>\n      <td>19.9</td>\n      <td>22.2</td>\n      <td>7.5</td>\n      <td>2010</td>\n    </tr>\n    <tr>\n      <th>2</th>\n      <td>Los Angeles Lakers</td>\n      <td>82</td>\n      <td>57</td>\n      <td>25</td>\n      <td>0.695</td>\n      <td>48.4</td>\n      <td>101.7</td>\n      <td>38.3</td>\n      <td>83.8</td>\n      <td>45.7</td>\n      <td>...</td>\n      <td>44.3</td>\n      <td>21.1</td>\n      <td>13.4</td>\n      <td>7.5</td>\n      <td>4.9</td>\n      <td>4.4</td>\n      <td>19.4</td>\n      <td>21.2</td>\n      <td>4.7</td>\n      <td>2010</td>\n    </tr>\n    <tr>\n      <th>3</th>\n      <td>Dallas Mavericks</td>\n      <td>82</td>\n      <td>55</td>\n      <td>27</td>\n      <td>0.671</td>\n      <td>48.5</td>\n      <td>102.0</td>\n      <td>38.3</td>\n      <td>82.4</td>\n      <td>46.4</td>\n      <td>...</td>\n      <td>41.7</td>\n      <td>23.4</td>\n      <td>12.9</td>\n      <td>7.6</td>\n      <td>5.5</td>\n      <td>4.1</td>\n      <td>19.1</td>\n      <td>20.1</td>\n      <td>2.7</td>\n      <td>2010</td>\n    </tr>\n    <tr>\n      <th>4</th>\n      <td>Phoenix Suns</td>\n      <td>82</td>\n      <td>54</td>\n      <td>28</td>\n      <td>0.659</td>\n      <td>48.1</td>\n      <td>110.2</td>\n      <td>40.7</td>\n      <td>82.8</td>\n      <td>49.2</td>\n      <td>...</td>\n      <td>43.0</td>\n      <td>23.3</td>\n      <td>14.8</td>\n      <td>5.8</td>\n      <td>5.1</td>\n      <td>4.5</td>\n      <td>20.9</td>\n      <td>21.8</td>\n      <td>4.9</td>\n      <td>2010</td>\n    </tr>\n  </tbody>\n</table>\n<p>5 rows × 28 columns</p>\n</div>"
     },
     "metadata": {},
     "execution_count": 140
    }
   ],
   "source": [
    "df_team.head()"
   ]
  },
  {
   "cell_type": "code",
   "execution_count": 144,
   "metadata": {},
   "outputs": [],
   "source": [
    "#standardize names\n",
    "df_team[df_team['TEAM']=='LA Clippers']['TEAM'] = 'Los Angeles Clippers'"
   ]
  },
  {
   "cell_type": "code",
   "execution_count": 145,
   "metadata": {},
   "outputs": [
    {
     "output_type": "execute_result",
     "data": {
      "text/plain": "TEAM     object\nGP        int64\nW         int64\nL         int64\nWIN%    float64\nMIN     float64\nPTS     float64\nFGM     float64\nFGA     float64\nFG%     float64\n3PM     float64\n3PA     float64\n3P%     float64\nFTM     float64\nFTA     float64\nFT%     float64\nOREB    float64\nDREB    float64\nREB     float64\nAST     float64\nTOV     float64\nSTL     float64\nBLK     float64\nBLKA    float64\nPF      float64\nPFD     float64\n+/-     float64\nYear      int64\ndtype: object"
     },
     "metadata": {},
     "execution_count": 145
    }
   ],
   "source": [
    "df_team.dtypes"
   ]
  },
  {
   "cell_type": "markdown",
   "metadata": {},
   "source": [
    "Adding champion and runner-up indicators for the seasons. Also note again that 2011-12 was a lockout shortened season. Note that the champions file has abbreviations and team names, while this data has only fully spelled out names. We need to merge the championship status using these columns."
   ]
  },
  {
   "cell_type": "code",
   "execution_count": 146,
   "metadata": {},
   "outputs": [
    {
     "output_type": "execute_result",
     "data": {
      "text/plain": "   Year               Champion              Runner-Up   Finals MVP  \\\n0  2019        Toronto Raptors  Golden State Warriors   K. Leonard   \n1  2018  Golden State Warriors    Cleveland Cavaliers    K. Durant   \n2  2017  Golden State Warriors    Cleveland Cavaliers    K. Durant   \n3  2016    Cleveland Cavaliers  Golden State Warriors     L. James   \n4  2015  Golden State Warriors    Cleveland Cavaliers  A. Iguodala   \n\n          Top Scorer         Top Rebr            Top Asst           WS Lead  \\\n0   K. Leonard (732)   D. Green (223)      D. Green (187)  K. Leonard (4.9)   \n1     L. James (748)   D. Green (222)      L. James (198)    L. James (5.2)   \n2     L. James (591)    K. Love (191)      L. James (141)    L. James (4.3)   \n3  K. Thompson (582)   D. Green (228)  R. Westbrook (198)    L. James (4.7)   \n4     L. James (601)  D. Howard (238)      L. James (169)    S. Curry (3.9)   \n\n   Points  Rebounds  Assists  Win Shares Champ-Abbr Runner-Up-Abbr  \n0     732       223      187         4.9        TOR            GSW  \n1     748       222      198         5.2        GSW            CLE  \n2     591       191      141         4.3        GSW            CLE  \n3     582       228      198         4.7        CLE            GSW  \n4     601       238      169         3.9        GSW            CLE  ",
      "text/html": "<div>\n<style scoped>\n    .dataframe tbody tr th:only-of-type {\n        vertical-align: middle;\n    }\n\n    .dataframe tbody tr th {\n        vertical-align: top;\n    }\n\n    .dataframe thead th {\n        text-align: right;\n    }\n</style>\n<table border=\"1\" class=\"dataframe\">\n  <thead>\n    <tr style=\"text-align: right;\">\n      <th></th>\n      <th>Year</th>\n      <th>Champion</th>\n      <th>Runner-Up</th>\n      <th>Finals MVP</th>\n      <th>Top Scorer</th>\n      <th>Top Rebr</th>\n      <th>Top Asst</th>\n      <th>WS Lead</th>\n      <th>Points</th>\n      <th>Rebounds</th>\n      <th>Assists</th>\n      <th>Win Shares</th>\n      <th>Champ-Abbr</th>\n      <th>Runner-Up-Abbr</th>\n    </tr>\n  </thead>\n  <tbody>\n    <tr>\n      <th>0</th>\n      <td>2019</td>\n      <td>Toronto Raptors</td>\n      <td>Golden State Warriors</td>\n      <td>K. Leonard</td>\n      <td>K. Leonard (732)</td>\n      <td>D. Green (223)</td>\n      <td>D. Green (187)</td>\n      <td>K. Leonard (4.9)</td>\n      <td>732</td>\n      <td>223</td>\n      <td>187</td>\n      <td>4.9</td>\n      <td>TOR</td>\n      <td>GSW</td>\n    </tr>\n    <tr>\n      <th>1</th>\n      <td>2018</td>\n      <td>Golden State Warriors</td>\n      <td>Cleveland Cavaliers</td>\n      <td>K. Durant</td>\n      <td>L. James (748)</td>\n      <td>D. Green (222)</td>\n      <td>L. James (198)</td>\n      <td>L. James (5.2)</td>\n      <td>748</td>\n      <td>222</td>\n      <td>198</td>\n      <td>5.2</td>\n      <td>GSW</td>\n      <td>CLE</td>\n    </tr>\n    <tr>\n      <th>2</th>\n      <td>2017</td>\n      <td>Golden State Warriors</td>\n      <td>Cleveland Cavaliers</td>\n      <td>K. Durant</td>\n      <td>L. James (591)</td>\n      <td>K. Love (191)</td>\n      <td>L. James (141)</td>\n      <td>L. James (4.3)</td>\n      <td>591</td>\n      <td>191</td>\n      <td>141</td>\n      <td>4.3</td>\n      <td>GSW</td>\n      <td>CLE</td>\n    </tr>\n    <tr>\n      <th>3</th>\n      <td>2016</td>\n      <td>Cleveland Cavaliers</td>\n      <td>Golden State Warriors</td>\n      <td>L. James</td>\n      <td>K. Thompson (582)</td>\n      <td>D. Green (228)</td>\n      <td>R. Westbrook (198)</td>\n      <td>L. James (4.7)</td>\n      <td>582</td>\n      <td>228</td>\n      <td>198</td>\n      <td>4.7</td>\n      <td>CLE</td>\n      <td>GSW</td>\n    </tr>\n    <tr>\n      <th>4</th>\n      <td>2015</td>\n      <td>Golden State Warriors</td>\n      <td>Cleveland Cavaliers</td>\n      <td>A. Iguodala</td>\n      <td>L. James (601)</td>\n      <td>D. Howard (238)</td>\n      <td>L. James (169)</td>\n      <td>S. Curry (3.9)</td>\n      <td>601</td>\n      <td>238</td>\n      <td>169</td>\n      <td>3.9</td>\n      <td>GSW</td>\n      <td>CLE</td>\n    </tr>\n  </tbody>\n</table>\n</div>"
     },
     "metadata": {},
     "execution_count": 146
    }
   ],
   "source": [
    "#get champions data\n",
    "champions = pd.read_csv('champions.csv', index_col='Unnamed: 0')\n",
    "champions.head()"
   ]
  },
  {
   "cell_type": "code",
   "execution_count": 174,
   "metadata": {},
   "outputs": [],
   "source": [
    "#new columns to check merge for\n",
    "df_team['Champ'] = 0\n",
    "df_team['Runner-Up'] = 0\n",
    "\n",
    "#check team status\n",
    "for champ, ru, year in zip(champions.Champion.values, champions['Runner-Up'].values, champions.Year.values):\n",
    "    df_team['Champ'][(df_team['TEAM'] == champ) & (df_team['Year']== year)] = 1\n",
    "    df_team['Runner-Up'][(df_team['TEAM']== ru) & (df_team['Year']== year)] = 1"
   ]
  },
  {
   "cell_type": "code",
   "execution_count": 178,
   "metadata": {},
   "outputs": [],
   "source": [
    "#update team so that it is abbreviations and not long names\n",
    "#we only want the most recent abbreviations so exclude the bottom six which were replaced \n",
    "team_names = pd.read_csv('team_names.csv', index_col='Unnamed: 0')[:-6]\n",
    "team_names = team_names.rename(columns={'Franchise':'TEAM'}) #update name to be able to merge\n",
    "df_team = pd.merge(df_team, team_names, on='TEAM')\n",
    "df_team = df_team.rename(columns={'Key':'Tm'})"
   ]
  },
  {
   "cell_type": "code",
   "execution_count": 188,
   "metadata": {},
   "outputs": [
    {
     "output_type": "execute_result",
     "data": {
      "text/plain": "                      TEAM  GP   W   L   WIN%   MIN    PTS   FGM   FGA   FG%  \\\n301  Golden State Warriors  82  67  15  0.817  48.1  110.0  41.6  87.0  47.8   \n5      Cleveland Cavaliers  82  53  29  0.646  48.2  103.1  37.7  82.2  45.8   \n6      Cleveland Cavaliers  82  57  25  0.695  48.4  104.3  38.7  84.0  46.0   \n302  Golden State Warriors  82  73   9  0.890  48.5  114.9  42.5  87.3  48.7   \n303  Golden State Warriors  82  67  15  0.817  48.2  115.9  43.1  87.1  49.5   \n7      Cleveland Cavaliers  82  51  31  0.622  48.5  110.3  39.9  84.9  47.0   \n304  Golden State Warriors  82  58  24  0.707  48.1  113.5  42.8  85.1  50.3   \n8      Cleveland Cavaliers  82  50  32  0.610  48.1  110.9  40.4  84.8  47.6   \n249        Toronto Raptors  82  58  24  0.707  48.5  114.4  42.2  89.1  47.4   \n305  Golden State Warriors  82  57  25  0.695  48.3  117.7  44.0  89.8  49.1   \n\n     ...  STL  BLK  BLKA    PF   PFD   +/-  Year  Champ  Runner-Up   Tm  \n301  ...  9.3  6.0   3.6  19.9  18.8  10.1  2015      1          0  GSW  \n5    ...  7.4  4.1   4.5  18.4  20.5   4.5  2015      0          1  CLE  \n6    ...  6.7  3.9   4.4  20.3  20.6   6.0  2016      1          0  CLE  \n302  ...  8.4  6.1   4.1  20.7  19.8  10.8  2016      0          1  GSW  \n303  ...  9.6  6.8   3.8  19.3  19.4  11.6  2017      1          0  GSW  \n7    ...  6.6  4.0   4.3  18.1  20.6   3.2  2017      0          1  CLE  \n304  ...  8.0  7.5   3.7  19.6  18.5   6.0  2018      1          0  GSW  \n8    ...  7.1  3.8   4.1  18.6  20.7   0.9  2018      0          1  CLE  \n249  ...  8.3  5.3   4.5  21.0  20.5   6.1  2019      1          0  TOR  \n305  ...  7.6  6.4   3.6  21.4  19.5   6.5  2019      0          1  GSW  \n\n[10 rows x 31 columns]",
      "text/html": "<div>\n<style scoped>\n    .dataframe tbody tr th:only-of-type {\n        vertical-align: middle;\n    }\n\n    .dataframe tbody tr th {\n        vertical-align: top;\n    }\n\n    .dataframe thead th {\n        text-align: right;\n    }\n</style>\n<table border=\"1\" class=\"dataframe\">\n  <thead>\n    <tr style=\"text-align: right;\">\n      <th></th>\n      <th>TEAM</th>\n      <th>GP</th>\n      <th>W</th>\n      <th>L</th>\n      <th>WIN%</th>\n      <th>MIN</th>\n      <th>PTS</th>\n      <th>FGM</th>\n      <th>FGA</th>\n      <th>FG%</th>\n      <th>...</th>\n      <th>STL</th>\n      <th>BLK</th>\n      <th>BLKA</th>\n      <th>PF</th>\n      <th>PFD</th>\n      <th>+/-</th>\n      <th>Year</th>\n      <th>Champ</th>\n      <th>Runner-Up</th>\n      <th>Tm</th>\n    </tr>\n  </thead>\n  <tbody>\n    <tr>\n      <th>301</th>\n      <td>Golden State Warriors</td>\n      <td>82</td>\n      <td>67</td>\n      <td>15</td>\n      <td>0.817</td>\n      <td>48.1</td>\n      <td>110.0</td>\n      <td>41.6</td>\n      <td>87.0</td>\n      <td>47.8</td>\n      <td>...</td>\n      <td>9.3</td>\n      <td>6.0</td>\n      <td>3.6</td>\n      <td>19.9</td>\n      <td>18.8</td>\n      <td>10.1</td>\n      <td>2015</td>\n      <td>1</td>\n      <td>0</td>\n      <td>GSW</td>\n    </tr>\n    <tr>\n      <th>5</th>\n      <td>Cleveland Cavaliers</td>\n      <td>82</td>\n      <td>53</td>\n      <td>29</td>\n      <td>0.646</td>\n      <td>48.2</td>\n      <td>103.1</td>\n      <td>37.7</td>\n      <td>82.2</td>\n      <td>45.8</td>\n      <td>...</td>\n      <td>7.4</td>\n      <td>4.1</td>\n      <td>4.5</td>\n      <td>18.4</td>\n      <td>20.5</td>\n      <td>4.5</td>\n      <td>2015</td>\n      <td>0</td>\n      <td>1</td>\n      <td>CLE</td>\n    </tr>\n    <tr>\n      <th>6</th>\n      <td>Cleveland Cavaliers</td>\n      <td>82</td>\n      <td>57</td>\n      <td>25</td>\n      <td>0.695</td>\n      <td>48.4</td>\n      <td>104.3</td>\n      <td>38.7</td>\n      <td>84.0</td>\n      <td>46.0</td>\n      <td>...</td>\n      <td>6.7</td>\n      <td>3.9</td>\n      <td>4.4</td>\n      <td>20.3</td>\n      <td>20.6</td>\n      <td>6.0</td>\n      <td>2016</td>\n      <td>1</td>\n      <td>0</td>\n      <td>CLE</td>\n    </tr>\n    <tr>\n      <th>302</th>\n      <td>Golden State Warriors</td>\n      <td>82</td>\n      <td>73</td>\n      <td>9</td>\n      <td>0.890</td>\n      <td>48.5</td>\n      <td>114.9</td>\n      <td>42.5</td>\n      <td>87.3</td>\n      <td>48.7</td>\n      <td>...</td>\n      <td>8.4</td>\n      <td>6.1</td>\n      <td>4.1</td>\n      <td>20.7</td>\n      <td>19.8</td>\n      <td>10.8</td>\n      <td>2016</td>\n      <td>0</td>\n      <td>1</td>\n      <td>GSW</td>\n    </tr>\n    <tr>\n      <th>303</th>\n      <td>Golden State Warriors</td>\n      <td>82</td>\n      <td>67</td>\n      <td>15</td>\n      <td>0.817</td>\n      <td>48.2</td>\n      <td>115.9</td>\n      <td>43.1</td>\n      <td>87.1</td>\n      <td>49.5</td>\n      <td>...</td>\n      <td>9.6</td>\n      <td>6.8</td>\n      <td>3.8</td>\n      <td>19.3</td>\n      <td>19.4</td>\n      <td>11.6</td>\n      <td>2017</td>\n      <td>1</td>\n      <td>0</td>\n      <td>GSW</td>\n    </tr>\n    <tr>\n      <th>7</th>\n      <td>Cleveland Cavaliers</td>\n      <td>82</td>\n      <td>51</td>\n      <td>31</td>\n      <td>0.622</td>\n      <td>48.5</td>\n      <td>110.3</td>\n      <td>39.9</td>\n      <td>84.9</td>\n      <td>47.0</td>\n      <td>...</td>\n      <td>6.6</td>\n      <td>4.0</td>\n      <td>4.3</td>\n      <td>18.1</td>\n      <td>20.6</td>\n      <td>3.2</td>\n      <td>2017</td>\n      <td>0</td>\n      <td>1</td>\n      <td>CLE</td>\n    </tr>\n    <tr>\n      <th>304</th>\n      <td>Golden State Warriors</td>\n      <td>82</td>\n      <td>58</td>\n      <td>24</td>\n      <td>0.707</td>\n      <td>48.1</td>\n      <td>113.5</td>\n      <td>42.8</td>\n      <td>85.1</td>\n      <td>50.3</td>\n      <td>...</td>\n      <td>8.0</td>\n      <td>7.5</td>\n      <td>3.7</td>\n      <td>19.6</td>\n      <td>18.5</td>\n      <td>6.0</td>\n      <td>2018</td>\n      <td>1</td>\n      <td>0</td>\n      <td>GSW</td>\n    </tr>\n    <tr>\n      <th>8</th>\n      <td>Cleveland Cavaliers</td>\n      <td>82</td>\n      <td>50</td>\n      <td>32</td>\n      <td>0.610</td>\n      <td>48.1</td>\n      <td>110.9</td>\n      <td>40.4</td>\n      <td>84.8</td>\n      <td>47.6</td>\n      <td>...</td>\n      <td>7.1</td>\n      <td>3.8</td>\n      <td>4.1</td>\n      <td>18.6</td>\n      <td>20.7</td>\n      <td>0.9</td>\n      <td>2018</td>\n      <td>0</td>\n      <td>1</td>\n      <td>CLE</td>\n    </tr>\n    <tr>\n      <th>249</th>\n      <td>Toronto Raptors</td>\n      <td>82</td>\n      <td>58</td>\n      <td>24</td>\n      <td>0.707</td>\n      <td>48.5</td>\n      <td>114.4</td>\n      <td>42.2</td>\n      <td>89.1</td>\n      <td>47.4</td>\n      <td>...</td>\n      <td>8.3</td>\n      <td>5.3</td>\n      <td>4.5</td>\n      <td>21.0</td>\n      <td>20.5</td>\n      <td>6.1</td>\n      <td>2019</td>\n      <td>1</td>\n      <td>0</td>\n      <td>TOR</td>\n    </tr>\n    <tr>\n      <th>305</th>\n      <td>Golden State Warriors</td>\n      <td>82</td>\n      <td>57</td>\n      <td>25</td>\n      <td>0.695</td>\n      <td>48.3</td>\n      <td>117.7</td>\n      <td>44.0</td>\n      <td>89.8</td>\n      <td>49.1</td>\n      <td>...</td>\n      <td>7.6</td>\n      <td>6.4</td>\n      <td>3.6</td>\n      <td>21.4</td>\n      <td>19.5</td>\n      <td>6.5</td>\n      <td>2019</td>\n      <td>0</td>\n      <td>1</td>\n      <td>GSW</td>\n    </tr>\n  </tbody>\n</table>\n<p>10 rows × 31 columns</p>\n</div>"
     },
     "metadata": {},
     "execution_count": 188
    }
   ],
   "source": [
    "#checking merge happened correctly by looking at the last few years\n",
    "check = df_team[(df_team['Champ']==1) | (df_team['Runner-Up']==1)]\n",
    "check.sort_values(by=['Year', 'Runner-Up'])[10:]"
   ]
  },
  {
   "cell_type": "markdown",
   "metadata": {},
   "source": [
    "All champions and the outcomes have been incorporated correctly. This dataset will be saved and used for analysis in EDA and modeling"
   ]
  },
  {
   "cell_type": "code",
   "execution_count": 189,
   "metadata": {},
   "outputs": [],
   "source": [
    "#save to file\n",
    "df_team.to_csv('teams.csv')"
   ]
  }
 ]
}