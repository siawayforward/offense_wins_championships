{
 "metadata": {
  "language_info": {
   "codemirror_mode": {
    "name": "ipython",
    "version": 3
   },
   "file_extension": ".py",
   "mimetype": "text/x-python",
   "name": "python",
   "nbconvert_exporter": "python",
   "pygments_lexer": "ipython3",
   "version": "3.7.6-final"
  },
  "orig_nbformat": 2,
  "kernelspec": {
   "name": "python_defaultSpec_1597945466473",
   "display_name": "Python 3.7.6 64-bit"
  }
 },
 "nbformat": 4,
 "nbformat_minor": 2,
 "cells": [
  {
   "cell_type": "code",
   "execution_count": 16,
   "metadata": {},
   "outputs": [],
   "source": [
    "#modules\n",
    "import pandas as pd\n",
    "import numpy as np\n",
    "from bs4 import BeautifulSoup as bs\n",
    "import requests"
   ]
  },
  {
   "cell_type": "markdown",
   "metadata": {},
   "source": [
    "### Teams Data\n",
    "This will ultimately be the main focus dataset. We want to review team seasonal averages, but we have player data to see how positions affect different team metrics. We extract this for the last ten seasons (2010-2019) from the Sports Reference site."
   ]
  },
  {
   "cell_type": "code",
   "execution_count": 114,
   "metadata": {
    "tags": []
   },
   "outputs": [
    {
     "output_type": "execute_result",
     "data": {
      "text/plain": "<div class=\"placeholder\"></div>"
     },
     "metadata": {},
     "execution_count": 114
    }
   ],
   "source": [
    "df_team = pd.DataFrame()\n",
    "team_URL = 'https://www.basketball-reference.com/leagues/NBA_2019.html#team-stats-per_game::none'\n",
    "#get page content\n",
    "page = requests.get(team_URL)\n",
    "soup = bs(page.content, 'lxml')\n",
    "soup.find('div', class_ ='placeholder')\n",
    "#<div class=\"overthrow table_container\" id=\"div_team-stats-per_game\">\n",
    "#<table class=\"sortable stats_table now_sortable\" id=\"team-stats-per_game\" \n",
    "#class=\"sortable stats_table now_sortable sticky_table re2 le1\" id=\"team-stats-per_game\"\n",
    "#dir(soup)"
   ]
  },
  {
   "cell_type": "code",
   "execution_count": null,
   "metadata": {},
   "outputs": [],
   "source": [
    "data = []\n",
    "for tr in rows:\n",
    "    td = tr.find_all('td') #get all values of a column\n",
    "    col = [tr.text for tr in td] #save values\n",
    "    data.append(col)"
   ]
  },
  {
   "cell_type": "markdown",
   "metadata": {},
   "source": [
    "Html elements for page\n",
    "URL = https://www.basketball-reference.com/leagues/NBA_2019.html#team-stats-per_game::none\n",
    "- Per game table: id = team-stats-per_game, id= opponent-stats-per_game\n",
    "> headers: element = th (text)  \n",
    "> tbody: element = tr, index starts at 0, text contains value  \n",
    "> for each tr, td (class=right, id: data-stat)"
   ]
  },
  {
   "cell_type": "code",
   "execution_count": null,
   "metadata": {},
   "outputs": [],
   "source": []
  }
 ]
}