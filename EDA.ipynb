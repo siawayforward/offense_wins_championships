{
 "cells": [
  {
   "cell_type": "code",
   "execution_count": 31,
   "metadata": {},
   "outputs": [],
   "source": [
    "#import modules\n",
    "import pandas as pd\n",
    "import numpy as np\n",
    "import seaborn as sns\n",
    "import matplotlib.pyplot as plt"
   ]
  },
  {
   "cell_type": "code",
   "execution_count": 32,
   "metadata": {},
   "outputs": [],
   "source": [
    "#get files from cleaned data\n",
    "players = pd.read_csv('players.csv', index_col='Unnamed: 0')\n",
    "coaches = pd.read_csv('coaches.csv', index_col='Unnamed: 0')\n",
    "champions = pd.read_csv('champions.csv', index_col='Unnamed: 0')"
   ]
  },
  {
   "cell_type": "code",
   "execution_count": 33,
   "metadata": {},
   "outputs": [
    {
     "output_type": "execute_result",
     "data": {
      "text/plain": "              Player Pos Age   Tm   G  GS    MP   FG   FGA    FG%  ...  TRB  \\\n0      Arron Afflalo  SG  24  DEN  82  75  27.1  3.3   7.1  0.465  ...  3.1   \n1      Alexis Ajinça   C  21  CHA   6   0   5.0  0.8   1.7  0.500  ...  0.7   \n2  LaMarcus Aldridge  PF  24  POR  78  78  37.5  7.4  15.0  0.495  ...  8.0   \n3      Joe Alexander  SF  23  CHI   8   0   3.6  0.1   0.8  0.167  ...  0.6   \n4        Malik Allen  PF  31  DEN  51   3   8.9  0.9   2.3  0.397  ...  1.6   \n\n   AST  STL  BLK  TOV   PF   PTS  Year  Champ  Runner-Up  \n0  1.7  0.6  0.4  0.9  2.7   8.8  2010      0          0  \n1  0.0  0.2  0.2  0.3  0.8   1.7  2010      0          0  \n2  2.1  0.9  0.6  1.3  3.0  17.9  2010      0          0  \n3  0.3  0.1  0.1  0.0  1.1   0.5  2010      0          0  \n4  0.3  0.2  0.1  0.4  1.3   2.1  2010      0          0  \n\n[5 rows x 32 columns]",
      "text/html": "<div>\n<style scoped>\n    .dataframe tbody tr th:only-of-type {\n        vertical-align: middle;\n    }\n\n    .dataframe tbody tr th {\n        vertical-align: top;\n    }\n\n    .dataframe thead th {\n        text-align: right;\n    }\n</style>\n<table border=\"1\" class=\"dataframe\">\n  <thead>\n    <tr style=\"text-align: right;\">\n      <th></th>\n      <th>Player</th>\n      <th>Pos</th>\n      <th>Age</th>\n      <th>Tm</th>\n      <th>G</th>\n      <th>GS</th>\n      <th>MP</th>\n      <th>FG</th>\n      <th>FGA</th>\n      <th>FG%</th>\n      <th>...</th>\n      <th>TRB</th>\n      <th>AST</th>\n      <th>STL</th>\n      <th>BLK</th>\n      <th>TOV</th>\n      <th>PF</th>\n      <th>PTS</th>\n      <th>Year</th>\n      <th>Champ</th>\n      <th>Runner-Up</th>\n    </tr>\n  </thead>\n  <tbody>\n    <tr>\n      <th>0</th>\n      <td>Arron Afflalo</td>\n      <td>SG</td>\n      <td>24</td>\n      <td>DEN</td>\n      <td>82</td>\n      <td>75</td>\n      <td>27.1</td>\n      <td>3.3</td>\n      <td>7.1</td>\n      <td>0.465</td>\n      <td>...</td>\n      <td>3.1</td>\n      <td>1.7</td>\n      <td>0.6</td>\n      <td>0.4</td>\n      <td>0.9</td>\n      <td>2.7</td>\n      <td>8.8</td>\n      <td>2010</td>\n      <td>0</td>\n      <td>0</td>\n    </tr>\n    <tr>\n      <th>1</th>\n      <td>Alexis Ajinça</td>\n      <td>C</td>\n      <td>21</td>\n      <td>CHA</td>\n      <td>6</td>\n      <td>0</td>\n      <td>5.0</td>\n      <td>0.8</td>\n      <td>1.7</td>\n      <td>0.500</td>\n      <td>...</td>\n      <td>0.7</td>\n      <td>0.0</td>\n      <td>0.2</td>\n      <td>0.2</td>\n      <td>0.3</td>\n      <td>0.8</td>\n      <td>1.7</td>\n      <td>2010</td>\n      <td>0</td>\n      <td>0</td>\n    </tr>\n    <tr>\n      <th>2</th>\n      <td>LaMarcus Aldridge</td>\n      <td>PF</td>\n      <td>24</td>\n      <td>POR</td>\n      <td>78</td>\n      <td>78</td>\n      <td>37.5</td>\n      <td>7.4</td>\n      <td>15.0</td>\n      <td>0.495</td>\n      <td>...</td>\n      <td>8.0</td>\n      <td>2.1</td>\n      <td>0.9</td>\n      <td>0.6</td>\n      <td>1.3</td>\n      <td>3.0</td>\n      <td>17.9</td>\n      <td>2010</td>\n      <td>0</td>\n      <td>0</td>\n    </tr>\n    <tr>\n      <th>3</th>\n      <td>Joe Alexander</td>\n      <td>SF</td>\n      <td>23</td>\n      <td>CHI</td>\n      <td>8</td>\n      <td>0</td>\n      <td>3.6</td>\n      <td>0.1</td>\n      <td>0.8</td>\n      <td>0.167</td>\n      <td>...</td>\n      <td>0.6</td>\n      <td>0.3</td>\n      <td>0.1</td>\n      <td>0.1</td>\n      <td>0.0</td>\n      <td>1.1</td>\n      <td>0.5</td>\n      <td>2010</td>\n      <td>0</td>\n      <td>0</td>\n    </tr>\n    <tr>\n      <th>4</th>\n      <td>Malik Allen</td>\n      <td>PF</td>\n      <td>31</td>\n      <td>DEN</td>\n      <td>51</td>\n      <td>3</td>\n      <td>8.9</td>\n      <td>0.9</td>\n      <td>2.3</td>\n      <td>0.397</td>\n      <td>...</td>\n      <td>1.6</td>\n      <td>0.3</td>\n      <td>0.2</td>\n      <td>0.1</td>\n      <td>0.4</td>\n      <td>1.3</td>\n      <td>2.1</td>\n      <td>2010</td>\n      <td>0</td>\n      <td>0</td>\n    </tr>\n  </tbody>\n</table>\n<p>5 rows × 32 columns</p>\n</div>"
     },
     "metadata": {},
     "execution_count": 33
    }
   ],
   "source": [
    "players.head()"
   ]
  },
  {
   "cell_type": "code",
   "execution_count": 34,
   "metadata": {},
   "outputs": [
    {
     "output_type": "execute_result",
     "data": {
      "text/plain": "             Coach Team  F-Seasons  Car-Seasons  CR-G  CR-W  CR-L  FR-G  FR-W  \\\n0     Mike Woodson  ATL          6            6    82    53    29   492   206   \n1       Doc Rivers  BOS          6           11    82    50    32   492   280   \n2      Larry Brown  CHA          2           29    82    44    38   164    79   \n3  Vinny Del Negro  CHI          2            2    82    41    41   164    82   \n4       Mike Brown  CLE          5            5    82    61    21   410   272   \n\n   FR-L  ...  CP-L  FP-G  FP-W  FP-L  Car.P-G  Car.P-W  Car.P-L  Year  Champ  \\\n0   286  ...   7.0  29.0  11.0  18.0     29.0     11.0     18.0  2010      0   \n1   212  ...   9.0  71.0  41.0  30.0     86.0     46.0     40.0  2010      0   \n2    85  ...   4.0   4.0   0.0   4.0    235.0    120.0    115.0  2010      0   \n3    82  ...   4.0  12.0   4.0   8.0     12.0      4.0      8.0  2010      0   \n4   138  ...   5.0  71.0  42.0  29.0     71.0     42.0     29.0  2010      0   \n\n   Runner-Up  \n0          0  \n1          1  \n2          0  \n3          0  \n4          0  \n\n[5 rows x 26 columns]",
      "text/html": "<div>\n<style scoped>\n    .dataframe tbody tr th:only-of-type {\n        vertical-align: middle;\n    }\n\n    .dataframe tbody tr th {\n        vertical-align: top;\n    }\n\n    .dataframe thead th {\n        text-align: right;\n    }\n</style>\n<table border=\"1\" class=\"dataframe\">\n  <thead>\n    <tr style=\"text-align: right;\">\n      <th></th>\n      <th>Coach</th>\n      <th>Team</th>\n      <th>F-Seasons</th>\n      <th>Car-Seasons</th>\n      <th>CR-G</th>\n      <th>CR-W</th>\n      <th>CR-L</th>\n      <th>FR-G</th>\n      <th>FR-W</th>\n      <th>FR-L</th>\n      <th>...</th>\n      <th>CP-L</th>\n      <th>FP-G</th>\n      <th>FP-W</th>\n      <th>FP-L</th>\n      <th>Car.P-G</th>\n      <th>Car.P-W</th>\n      <th>Car.P-L</th>\n      <th>Year</th>\n      <th>Champ</th>\n      <th>Runner-Up</th>\n    </tr>\n  </thead>\n  <tbody>\n    <tr>\n      <th>0</th>\n      <td>Mike Woodson</td>\n      <td>ATL</td>\n      <td>6</td>\n      <td>6</td>\n      <td>82</td>\n      <td>53</td>\n      <td>29</td>\n      <td>492</td>\n      <td>206</td>\n      <td>286</td>\n      <td>...</td>\n      <td>7.0</td>\n      <td>29.0</td>\n      <td>11.0</td>\n      <td>18.0</td>\n      <td>29.0</td>\n      <td>11.0</td>\n      <td>18.0</td>\n      <td>2010</td>\n      <td>0</td>\n      <td>0</td>\n    </tr>\n    <tr>\n      <th>1</th>\n      <td>Doc Rivers</td>\n      <td>BOS</td>\n      <td>6</td>\n      <td>11</td>\n      <td>82</td>\n      <td>50</td>\n      <td>32</td>\n      <td>492</td>\n      <td>280</td>\n      <td>212</td>\n      <td>...</td>\n      <td>9.0</td>\n      <td>71.0</td>\n      <td>41.0</td>\n      <td>30.0</td>\n      <td>86.0</td>\n      <td>46.0</td>\n      <td>40.0</td>\n      <td>2010</td>\n      <td>0</td>\n      <td>1</td>\n    </tr>\n    <tr>\n      <th>2</th>\n      <td>Larry Brown</td>\n      <td>CHA</td>\n      <td>2</td>\n      <td>29</td>\n      <td>82</td>\n      <td>44</td>\n      <td>38</td>\n      <td>164</td>\n      <td>79</td>\n      <td>85</td>\n      <td>...</td>\n      <td>4.0</td>\n      <td>4.0</td>\n      <td>0.0</td>\n      <td>4.0</td>\n      <td>235.0</td>\n      <td>120.0</td>\n      <td>115.0</td>\n      <td>2010</td>\n      <td>0</td>\n      <td>0</td>\n    </tr>\n    <tr>\n      <th>3</th>\n      <td>Vinny Del Negro</td>\n      <td>CHI</td>\n      <td>2</td>\n      <td>2</td>\n      <td>82</td>\n      <td>41</td>\n      <td>41</td>\n      <td>164</td>\n      <td>82</td>\n      <td>82</td>\n      <td>...</td>\n      <td>4.0</td>\n      <td>12.0</td>\n      <td>4.0</td>\n      <td>8.0</td>\n      <td>12.0</td>\n      <td>4.0</td>\n      <td>8.0</td>\n      <td>2010</td>\n      <td>0</td>\n      <td>0</td>\n    </tr>\n    <tr>\n      <th>4</th>\n      <td>Mike Brown</td>\n      <td>CLE</td>\n      <td>5</td>\n      <td>5</td>\n      <td>82</td>\n      <td>61</td>\n      <td>21</td>\n      <td>410</td>\n      <td>272</td>\n      <td>138</td>\n      <td>...</td>\n      <td>5.0</td>\n      <td>71.0</td>\n      <td>42.0</td>\n      <td>29.0</td>\n      <td>71.0</td>\n      <td>42.0</td>\n      <td>29.0</td>\n      <td>2010</td>\n      <td>0</td>\n      <td>0</td>\n    </tr>\n  </tbody>\n</table>\n<p>5 rows × 26 columns</p>\n</div>"
     },
     "metadata": {},
     "execution_count": 34
    }
   ],
   "source": [
    "coaches.head()"
   ]
  },
  {
   "cell_type": "code",
   "execution_count": 35,
   "metadata": {},
   "outputs": [
    {
     "output_type": "execute_result",
     "data": {
      "text/plain": "Index(['Player', 'Pos', 'Age', 'Tm', 'G', 'GS', 'MP', 'FG', 'FGA', 'FG%', '3P',\n       '3PA', '3P%', '2P', '2PA', '2P%', 'eFG%', 'FT', 'FTA', 'FT%', 'ORB',\n       'DRB', 'TRB', 'AST', 'STL', 'BLK', 'TOV', 'PF', 'PTS', 'Year', 'Champ',\n       'Runner-Up'],\n      dtype='object')"
     },
     "metadata": {},
     "execution_count": 35
    }
   ],
   "source": [
    "#Descriptive statistics\n",
    "players.columns"
   ]
  },
  {
   "cell_type": "code",
   "execution_count": 36,
   "metadata": {},
   "outputs": [],
   "source": [
    "#list of numerical and categorical features\n",
    "p_int = []\n",
    "p_num = ['Age', 'G', 'GS', 'MP', 'FG', 'FGA', 'FG%', '3P',\n",
    "       '3PA', '3P%', '2P', '2PA', '2P%', 'eFG%', 'FT', 'FTA', 'FT%', 'ORB',\n",
    "       'DRB', 'TRB', 'AST', 'STL', 'BLK', 'TOV', 'PF', 'PTS']\n",
    "p_cat = ['Player', 'Pos', 'Tm', 'Year', 'Champ', 'Runner-Up']"
   ]
  },
  {
   "cell_type": "markdown",
   "metadata": {},
   "source": [
    "## Exploring Null Values:\n",
    "- There are players who are on the team, but haven't played games\n",
    "- There are players who won't have attempted three pointers e.g. centers, some forwards\n",
    "- Those who don't get to the free throw line"
   ]
  },
  {
   "cell_type": "code",
   "execution_count": 37,
   "metadata": {},
   "outputs": [
    {
     "output_type": "execute_result",
     "data": {
      "text/plain": "Player          0\nPos             0\nAge             0\nTm              0\nG               0\nGS              0\nMP            237\nFG            237\nFGA           237\nFG%           271\n3P            237\n3PA           237\n3P%          1026\n2P            237\n2PA           237\n2P%           309\neFG%          271\nFT            237\nFTA           237\nFT%           540\nORB           237\nDRB           237\nTRB           237\nAST           237\nSTL           237\nBLK           237\nTOV           237\nPF            237\nPTS           237\nYear            0\nChamp           0\nRunner-Up       0\ndtype: int64"
     },
     "metadata": {},
     "execution_count": 37
    }
   ],
   "source": [
    "players.isnull().sum()"
   ]
  },
  {
   "cell_type": "markdown",
   "metadata": {},
   "source": [
    "Note, the FG% and eFG% are missing 34 values --> these players did not attempt a shot, whether or not they played. Let's see if they played. Other observations:\n",
    "- 34 players didn't attempt any kind of shot because of the null eFG% and FG%\n",
    "- 789 players didn't attempt a three pointer\n",
    "- 72 players didn't attempt a two pointer\n",
    "- 303 players didn't attempt a free throw\n",
    "\n",
    "\n",
    "### What to remove?\n",
    "- We don't want to keep any players who didn't play any minutes (G == 0 or MPG == 0.0)\n",
    "- Might keep players whose average minutes are 0 because maybe they played a game or two. Have to see first."
   ]
  },
  {
   "cell_type": "code",
   "execution_count": 38,
   "metadata": {},
   "outputs": [
    {
     "output_type": "execute_result",
     "data": {
      "text/plain": "Empty DataFrame\nColumns: [Player, Pos, Age, Tm, G, GS, MP, FG, FGA, FG%, 3P, 3PA, 3P%, 2P, 2PA, 2P%, eFG%, FT, FTA, FT%, ORB, DRB, TRB, AST, STL, BLK, TOV, PF, PTS, Year, Champ, Runner-Up]\nIndex: []\n\n[0 rows x 32 columns]",
      "text/html": "<div>\n<style scoped>\n    .dataframe tbody tr th:only-of-type {\n        vertical-align: middle;\n    }\n\n    .dataframe tbody tr th {\n        vertical-align: top;\n    }\n\n    .dataframe thead th {\n        text-align: right;\n    }\n</style>\n<table border=\"1\" class=\"dataframe\">\n  <thead>\n    <tr style=\"text-align: right;\">\n      <th></th>\n      <th>Player</th>\n      <th>Pos</th>\n      <th>Age</th>\n      <th>Tm</th>\n      <th>G</th>\n      <th>GS</th>\n      <th>MP</th>\n      <th>FG</th>\n      <th>FGA</th>\n      <th>FG%</th>\n      <th>...</th>\n      <th>TRB</th>\n      <th>AST</th>\n      <th>STL</th>\n      <th>BLK</th>\n      <th>TOV</th>\n      <th>PF</th>\n      <th>PTS</th>\n      <th>Year</th>\n      <th>Champ</th>\n      <th>Runner-Up</th>\n    </tr>\n  </thead>\n  <tbody>\n  </tbody>\n</table>\n<p>0 rows × 32 columns</p>\n</div>"
     },
     "metadata": {},
     "execution_count": 38
    }
   ],
   "source": [
    "noFG = len(players[(players['FG%'].isnull()) & (players['eFG%'].isnull())])\n",
    "players[players['G'] == 1]"
   ]
  },
  {
   "cell_type": "code",
   "execution_count": null,
   "metadata": {},
   "outputs": [],
   "source": []
  }
 ],
 "metadata": {
  "language_info": {
   "codemirror_mode": {
    "name": "ipython",
    "version": 3
   },
   "file_extension": ".py",
   "mimetype": "text/x-python",
   "name": "python",
   "nbconvert_exporter": "python",
   "pygments_lexer": "ipython3",
   "version": 3
  },
  "orig_nbformat": 2,
  "kernelspec": {
   "name": "python_defaultSpec_1595259362309",
   "display_name": "Python 3.7.6 64-bit"
  }
 },
 "nbformat": 4,
 "nbformat_minor": 2
}