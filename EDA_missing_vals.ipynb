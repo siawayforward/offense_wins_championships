{
 "cells": [
  {
   "cell_type": "code",
   "execution_count": 14,
   "metadata": {},
   "outputs": [],
   "source": [
    "#import modules\n",
    "import pandas as pd\n",
    "import numpy as np\n",
    "import seaborn as sns\n",
    "import matplotlib.pyplot as plt"
   ]
  },
  {
   "cell_type": "code",
   "execution_count": 15,
   "metadata": {},
   "outputs": [],
   "source": [
    "#get files from cleaned data\n",
    "players = pd.read_csv('players.csv', index_col='Unnamed: 0')\n",
    "coaches = pd.read_csv('coaches.csv', index_col='Unnamed: 0')\n",
    "champions = pd.read_csv('champions.csv', index_col='Unnamed: 0')"
   ]
  },
  {
   "cell_type": "code",
   "execution_count": 16,
   "metadata": {
    "tags": []
   },
   "outputs": [
    {
     "output_type": "stream",
     "name": "stdout",
     "text": "(6371, 32)\n"
    },
    {
     "output_type": "execute_result",
     "data": {
      "text/plain": "              Player Pos   Age   Tm     G    GS    MP   FG   FGA    FG%  ...  \\\n0      Arron Afflalo  SG  24.0  DEN  82.0  75.0  27.1  3.3   7.1  0.465  ...   \n1      Alexis Ajinça   C  21.0  CHA   6.0   0.0   5.0  0.8   1.7  0.500  ...   \n2  LaMarcus Aldridge  PF  24.0  POR  78.0  78.0  37.5  7.4  15.0  0.495  ...   \n3      Joe Alexander  SF  23.0  CHI   8.0   0.0   3.6  0.1   0.8  0.167  ...   \n4        Malik Allen  PF  31.0  DEN  51.0   3.0   8.9  0.9   2.3  0.397  ...   \n\n   TRB  AST  STL  BLK  TOV   PF   PTS  Year  Champ  Runner-Up  \n0  3.1  1.7  0.6  0.4  0.9  2.7   8.8  2010      0          0  \n1  0.7  0.0  0.2  0.2  0.3  0.8   1.7  2010      0          0  \n2  8.0  2.1  0.9  0.6  1.3  3.0  17.9  2010      0          0  \n3  0.6  0.3  0.1  0.1  0.0  1.1   0.5  2010      0          0  \n4  1.6  0.3  0.2  0.1  0.4  1.3   2.1  2010      0          0  \n\n[5 rows x 32 columns]",
      "text/html": "<div>\n<style scoped>\n    .dataframe tbody tr th:only-of-type {\n        vertical-align: middle;\n    }\n\n    .dataframe tbody tr th {\n        vertical-align: top;\n    }\n\n    .dataframe thead th {\n        text-align: right;\n    }\n</style>\n<table border=\"1\" class=\"dataframe\">\n  <thead>\n    <tr style=\"text-align: right;\">\n      <th></th>\n      <th>Player</th>\n      <th>Pos</th>\n      <th>Age</th>\n      <th>Tm</th>\n      <th>G</th>\n      <th>GS</th>\n      <th>MP</th>\n      <th>FG</th>\n      <th>FGA</th>\n      <th>FG%</th>\n      <th>...</th>\n      <th>TRB</th>\n      <th>AST</th>\n      <th>STL</th>\n      <th>BLK</th>\n      <th>TOV</th>\n      <th>PF</th>\n      <th>PTS</th>\n      <th>Year</th>\n      <th>Champ</th>\n      <th>Runner-Up</th>\n    </tr>\n  </thead>\n  <tbody>\n    <tr>\n      <th>0</th>\n      <td>Arron Afflalo</td>\n      <td>SG</td>\n      <td>24.0</td>\n      <td>DEN</td>\n      <td>82.0</td>\n      <td>75.0</td>\n      <td>27.1</td>\n      <td>3.3</td>\n      <td>7.1</td>\n      <td>0.465</td>\n      <td>...</td>\n      <td>3.1</td>\n      <td>1.7</td>\n      <td>0.6</td>\n      <td>0.4</td>\n      <td>0.9</td>\n      <td>2.7</td>\n      <td>8.8</td>\n      <td>2010</td>\n      <td>0</td>\n      <td>0</td>\n    </tr>\n    <tr>\n      <th>1</th>\n      <td>Alexis Ajinça</td>\n      <td>C</td>\n      <td>21.0</td>\n      <td>CHA</td>\n      <td>6.0</td>\n      <td>0.0</td>\n      <td>5.0</td>\n      <td>0.8</td>\n      <td>1.7</td>\n      <td>0.500</td>\n      <td>...</td>\n      <td>0.7</td>\n      <td>0.0</td>\n      <td>0.2</td>\n      <td>0.2</td>\n      <td>0.3</td>\n      <td>0.8</td>\n      <td>1.7</td>\n      <td>2010</td>\n      <td>0</td>\n      <td>0</td>\n    </tr>\n    <tr>\n      <th>2</th>\n      <td>LaMarcus Aldridge</td>\n      <td>PF</td>\n      <td>24.0</td>\n      <td>POR</td>\n      <td>78.0</td>\n      <td>78.0</td>\n      <td>37.5</td>\n      <td>7.4</td>\n      <td>15.0</td>\n      <td>0.495</td>\n      <td>...</td>\n      <td>8.0</td>\n      <td>2.1</td>\n      <td>0.9</td>\n      <td>0.6</td>\n      <td>1.3</td>\n      <td>3.0</td>\n      <td>17.9</td>\n      <td>2010</td>\n      <td>0</td>\n      <td>0</td>\n    </tr>\n    <tr>\n      <th>3</th>\n      <td>Joe Alexander</td>\n      <td>SF</td>\n      <td>23.0</td>\n      <td>CHI</td>\n      <td>8.0</td>\n      <td>0.0</td>\n      <td>3.6</td>\n      <td>0.1</td>\n      <td>0.8</td>\n      <td>0.167</td>\n      <td>...</td>\n      <td>0.6</td>\n      <td>0.3</td>\n      <td>0.1</td>\n      <td>0.1</td>\n      <td>0.0</td>\n      <td>1.1</td>\n      <td>0.5</td>\n      <td>2010</td>\n      <td>0</td>\n      <td>0</td>\n    </tr>\n    <tr>\n      <th>4</th>\n      <td>Malik Allen</td>\n      <td>PF</td>\n      <td>31.0</td>\n      <td>DEN</td>\n      <td>51.0</td>\n      <td>3.0</td>\n      <td>8.9</td>\n      <td>0.9</td>\n      <td>2.3</td>\n      <td>0.397</td>\n      <td>...</td>\n      <td>1.6</td>\n      <td>0.3</td>\n      <td>0.2</td>\n      <td>0.1</td>\n      <td>0.4</td>\n      <td>1.3</td>\n      <td>2.1</td>\n      <td>2010</td>\n      <td>0</td>\n      <td>0</td>\n    </tr>\n  </tbody>\n</table>\n<p>5 rows × 32 columns</p>\n</div>"
     },
     "metadata": {},
     "execution_count": 16
    }
   ],
   "source": [
    "print(players.shape)\n",
    "players.head()"
   ]
  },
  {
   "cell_type": "code",
   "execution_count": 17,
   "metadata": {
    "tags": []
   },
   "outputs": [
    {
     "output_type": "stream",
     "name": "stdout",
     "text": "(332, 26)\n"
    },
    {
     "output_type": "execute_result",
     "data": {
      "text/plain": "             Coach Team  F-Seasons  Car-Seasons  CR-G  CR-W  CR-L  FR-G  FR-W  \\\n0     Mike Woodson  ATL          6            6    82    53    29   492   206   \n1       Doc Rivers  BOS          6           11    82    50    32   492   280   \n2      Larry Brown  CHA          2           29    82    44    38   164    79   \n3  Vinny Del Negro  CHI          2            2    82    41    41   164    82   \n4       Mike Brown  CLE          5            5    82    61    21   410   272   \n\n   FR-L  ...  CP-L  FP-G  FP-W  FP-L  Car.P-G  Car.P-W  Car.P-L  Year  Champ  \\\n0   286  ...   7.0  29.0  11.0  18.0     29.0     11.0     18.0  2010      0   \n1   212  ...   9.0  71.0  41.0  30.0     86.0     46.0     40.0  2010      0   \n2    85  ...   4.0   4.0   0.0   4.0    235.0    120.0    115.0  2010      0   \n3    82  ...   4.0  12.0   4.0   8.0     12.0      4.0      8.0  2010      0   \n4   138  ...   5.0  71.0  42.0  29.0     71.0     42.0     29.0  2010      0   \n\n   Runner-Up  \n0          0  \n1          1  \n2          0  \n3          0  \n4          0  \n\n[5 rows x 26 columns]",
      "text/html": "<div>\n<style scoped>\n    .dataframe tbody tr th:only-of-type {\n        vertical-align: middle;\n    }\n\n    .dataframe tbody tr th {\n        vertical-align: top;\n    }\n\n    .dataframe thead th {\n        text-align: right;\n    }\n</style>\n<table border=\"1\" class=\"dataframe\">\n  <thead>\n    <tr style=\"text-align: right;\">\n      <th></th>\n      <th>Coach</th>\n      <th>Team</th>\n      <th>F-Seasons</th>\n      <th>Car-Seasons</th>\n      <th>CR-G</th>\n      <th>CR-W</th>\n      <th>CR-L</th>\n      <th>FR-G</th>\n      <th>FR-W</th>\n      <th>FR-L</th>\n      <th>...</th>\n      <th>CP-L</th>\n      <th>FP-G</th>\n      <th>FP-W</th>\n      <th>FP-L</th>\n      <th>Car.P-G</th>\n      <th>Car.P-W</th>\n      <th>Car.P-L</th>\n      <th>Year</th>\n      <th>Champ</th>\n      <th>Runner-Up</th>\n    </tr>\n  </thead>\n  <tbody>\n    <tr>\n      <th>0</th>\n      <td>Mike Woodson</td>\n      <td>ATL</td>\n      <td>6</td>\n      <td>6</td>\n      <td>82</td>\n      <td>53</td>\n      <td>29</td>\n      <td>492</td>\n      <td>206</td>\n      <td>286</td>\n      <td>...</td>\n      <td>7.0</td>\n      <td>29.0</td>\n      <td>11.0</td>\n      <td>18.0</td>\n      <td>29.0</td>\n      <td>11.0</td>\n      <td>18.0</td>\n      <td>2010</td>\n      <td>0</td>\n      <td>0</td>\n    </tr>\n    <tr>\n      <th>1</th>\n      <td>Doc Rivers</td>\n      <td>BOS</td>\n      <td>6</td>\n      <td>11</td>\n      <td>82</td>\n      <td>50</td>\n      <td>32</td>\n      <td>492</td>\n      <td>280</td>\n      <td>212</td>\n      <td>...</td>\n      <td>9.0</td>\n      <td>71.0</td>\n      <td>41.0</td>\n      <td>30.0</td>\n      <td>86.0</td>\n      <td>46.0</td>\n      <td>40.0</td>\n      <td>2010</td>\n      <td>0</td>\n      <td>1</td>\n    </tr>\n    <tr>\n      <th>2</th>\n      <td>Larry Brown</td>\n      <td>CHA</td>\n      <td>2</td>\n      <td>29</td>\n      <td>82</td>\n      <td>44</td>\n      <td>38</td>\n      <td>164</td>\n      <td>79</td>\n      <td>85</td>\n      <td>...</td>\n      <td>4.0</td>\n      <td>4.0</td>\n      <td>0.0</td>\n      <td>4.0</td>\n      <td>235.0</td>\n      <td>120.0</td>\n      <td>115.0</td>\n      <td>2010</td>\n      <td>0</td>\n      <td>0</td>\n    </tr>\n    <tr>\n      <th>3</th>\n      <td>Vinny Del Negro</td>\n      <td>CHI</td>\n      <td>2</td>\n      <td>2</td>\n      <td>82</td>\n      <td>41</td>\n      <td>41</td>\n      <td>164</td>\n      <td>82</td>\n      <td>82</td>\n      <td>...</td>\n      <td>4.0</td>\n      <td>12.0</td>\n      <td>4.0</td>\n      <td>8.0</td>\n      <td>12.0</td>\n      <td>4.0</td>\n      <td>8.0</td>\n      <td>2010</td>\n      <td>0</td>\n      <td>0</td>\n    </tr>\n    <tr>\n      <th>4</th>\n      <td>Mike Brown</td>\n      <td>CLE</td>\n      <td>5</td>\n      <td>5</td>\n      <td>82</td>\n      <td>61</td>\n      <td>21</td>\n      <td>410</td>\n      <td>272</td>\n      <td>138</td>\n      <td>...</td>\n      <td>5.0</td>\n      <td>71.0</td>\n      <td>42.0</td>\n      <td>29.0</td>\n      <td>71.0</td>\n      <td>42.0</td>\n      <td>29.0</td>\n      <td>2010</td>\n      <td>0</td>\n      <td>0</td>\n    </tr>\n  </tbody>\n</table>\n<p>5 rows × 26 columns</p>\n</div>"
     },
     "metadata": {},
     "execution_count": 17
    }
   ],
   "source": [
    "print(coaches.shape)\n",
    "coaches.head()"
   ]
  },
  {
   "cell_type": "code",
   "execution_count": 18,
   "metadata": {},
   "outputs": [
    {
     "output_type": "execute_result",
     "data": {
      "text/plain": "Index(['Player', 'Pos', 'Age', 'Tm', 'G', 'GS', 'MP', 'FG', 'FGA', 'FG%', '3P',\n       '3PA', '3P%', '2P', '2PA', '2P%', 'eFG%', 'FT', 'FTA', 'FT%', 'ORB',\n       'DRB', 'TRB', 'AST', 'STL', 'BLK', 'TOV', 'PF', 'PTS', 'Year', 'Champ',\n       'Runner-Up'],\n      dtype='object')"
     },
     "metadata": {},
     "execution_count": 18
    }
   ],
   "source": [
    "#Descriptive statistics\n",
    "players.columns"
   ]
  },
  {
   "cell_type": "code",
   "execution_count": 19,
   "metadata": {},
   "outputs": [],
   "source": [
    "#list of numerical and categorical features\n",
    "player_num_features = ['Age', 'G', 'GS','MP', 'FG', 'FGA', 'FG%', '3P', '3PA', '3P%', '2P', '2PA',                         '2P%', 'eFG%', 'FT', 'FTA', 'FT%', 'ORB', 'DRB', 'TRB', 'AST', 'STL', 'BLK',                        'TOV', 'PF','PTS']\n",
    "player_cat_features = ['Player', 'Pos', 'Tm', 'Year', 'Champ', 'Runner-Up']"
   ]
  },
  {
   "cell_type": "markdown",
   "metadata": {},
   "source": [
    "# Players \n",
    "\n",
    "## Exploring Null Values:\n",
    "- There are players who are on the team, but haven't played games\n",
    "- Some players entered a game, but didn't record a shot (minutes played != 0)\n",
    "- There are players who won't have attempted two pointers or three pointers e.g. centers, some forwards\n",
    "- Those who don't get to the free throw line"
   ]
  },
  {
   "cell_type": "code",
   "execution_count": 20,
   "metadata": {},
   "outputs": [],
   "source": [
    "def get_null_columns(df):\n",
    "    nulls = df.isnull().sum()\n",
    "    for key, i in zip(list(nulls.keys()), nulls):\n",
    "        if i > 0: print(key, '\\t', i)"
   ]
  },
  {
   "cell_type": "code",
   "execution_count": 21,
   "metadata": {
    "tags": []
   },
   "outputs": [
    {
     "output_type": "stream",
     "name": "stdout",
     "text": "Age \t 237\nG \t 237\nGS \t 237\nMP \t 237\nFG \t 237\nFGA \t 237\nFG% \t 271\n3P \t 237\n3PA \t 237\n3P% \t 1026\n2P \t 237\n2PA \t 237\n2P% \t 309\neFG% \t 271\nFT \t 237\nFTA \t 237\nFT% \t 540\nORB \t 237\nDRB \t 237\nTRB \t 237\nAST \t 237\nSTL \t 237\nBLK \t 237\nTOV \t 237\nPF \t 237\nPTS \t 237\n"
    }
   ],
   "source": [
    "get_null_columns(players)"
   ]
  },
  {
   "cell_type": "markdown",
   "metadata": {},
   "source": [
    "Note, the FG% and eFG% are missing 34 values --> these players did not attempt a shot, whether or not they played. Let's see if they played. Other observations:\n",
    "- 237 players were rostered, but did not play any minutes of basketball for their teams\n",
    "- 271-237 players recorded game minutes, but never attempted a shot in a game \n",
    "- 1026-237 players recorded minutes, but didn't attempt a three pointer\n",
    "- 309-237 players recorded minutes, but didn't attempt a two pointer\n",
    "- 540-237 players recorded minutes, but didn't attempt a free throw\n",
    "\n",
    "\n",
    "### What to remove?\n",
    "- We don't want to keep any players who didn't play any minutes (G == 0 or MPG == 0.0)\n",
    "- Might keep players whose average minutes are 0 because maybe they played a game or two. Have to see first."
   ]
  },
  {
   "cell_type": "code",
   "execution_count": 22,
   "metadata": {
    "tags": []
   },
   "outputs": [
    {
     "output_type": "stream",
     "name": "stdout",
     "text": "Players with 0 minutes played are 3.72% of the data\nWe have gone from 6371 to 6134 observations.\n"
    }
   ],
   "source": [
    "no_min = len(players[players['MP'].isnull()])\n",
    "print('Players with 0 minutes played are {}% of the data'.format(round(no_min*100/len(players), 2)))\n",
    "\n",
    "#drop this population -> cannot extract info to answer business question\n",
    "played_minutes = players[players['MP'].isnull() == False]\n",
    "played_size = len(played_minutes)\n",
    "print('We have gone from {} to {} observations.'.format(len(players), len(played_minutes)))"
   ]
  },
  {
   "cell_type": "markdown",
   "metadata": {},
   "source": [
    "### Exploring small impact players\n",
    "Some players have minutes recorded, but they could be entering the game and not attempting shots/assists or affecting the defensive effort with rebounds/steals/blocks. Using a threshold of MP = 2.0/per game and 5 or less games to start to see if we should keep or drop these players."
   ]
  },
  {
   "cell_type": "code",
   "execution_count": 23,
   "metadata": {
    "tags": []
   },
   "outputs": [
    {
     "output_type": "stream",
     "name": "stdout",
     "text": "Players who had small impact are 0.95% of the data\n"
    },
    {
     "output_type": "execute_result",
     "data": {
      "text/plain": "             Age          G    GS         MP         FG        FGA        FG%  \\\ncount  58.000000  58.000000  58.0  58.000000  58.000000  58.000000  37.000000   \nmean   24.293103   2.258621   0.0   1.517241   0.160345   0.525862   0.312622   \nstd     2.828481   1.318696   0.0   0.539375   0.293162   0.484337   0.377660   \nmin    20.000000   1.000000   0.0   0.000000   0.000000   0.000000   0.000000   \n25%    22.250000   1.000000   0.0   1.000000   0.000000   0.000000   0.000000   \n50%    23.500000   2.000000   0.0   1.750000   0.000000   0.500000   0.000000   \n75%    25.750000   3.000000   0.0   2.000000   0.300000   1.000000   0.500000   \nmax    32.000000   6.000000   0.0   2.000000   1.000000   2.000000   1.000000   \n\n              3P        3PA        3P%  ...       FT%        ORB        DRB  \\\ncount  58.000000  58.000000  12.000000  ...  6.000000  58.000000  58.000000   \nmean    0.017241   0.108621   0.166667  ...  0.458333   0.122414   0.215517   \nstd     0.099363   0.248705   0.389249  ...  0.332290   0.308956   0.320527   \nmin     0.000000   0.000000   0.000000  ...  0.000000   0.000000   0.000000   \n25%     0.000000   0.000000   0.000000  ...  0.312500   0.000000   0.000000   \n50%     0.000000   0.000000   0.000000  ...  0.500000   0.000000   0.000000   \n75%     0.000000   0.000000   0.000000  ...  0.500000   0.000000   0.300000   \nmax     0.700000   1.000000   1.000000  ...  1.000000   1.500000   1.000000   \n\n             TRB        AST        STL        BLK        TOV         PF  \\\ncount  58.000000  58.000000  58.000000  58.000000  58.000000  58.000000   \nmean    0.336207   0.058621   0.027586   0.034483   0.103448   0.191379   \nstd     0.441567   0.140218   0.091370   0.105218   0.220816   0.462368   \nmin     0.000000   0.000000   0.000000   0.000000   0.000000   0.000000   \n25%     0.000000   0.000000   0.000000   0.000000   0.000000   0.000000   \n50%     0.000000   0.000000   0.000000   0.000000   0.000000   0.000000   \n75%     0.650000   0.000000   0.000000   0.000000   0.150000   0.000000   \nmax     1.500000   0.700000   0.400000   0.500000   1.300000   2.000000   \n\n             PTS  \ncount  58.000000  \nmean    0.372414  \nstd     0.642034  \nmin     0.000000  \n25%     0.000000  \n50%     0.000000  \n75%     0.700000  \nmax     2.000000  \n\n[8 rows x 26 columns]",
      "text/html": "<div>\n<style scoped>\n    .dataframe tbody tr th:only-of-type {\n        vertical-align: middle;\n    }\n\n    .dataframe tbody tr th {\n        vertical-align: top;\n    }\n\n    .dataframe thead th {\n        text-align: right;\n    }\n</style>\n<table border=\"1\" class=\"dataframe\">\n  <thead>\n    <tr style=\"text-align: right;\">\n      <th></th>\n      <th>Age</th>\n      <th>G</th>\n      <th>GS</th>\n      <th>MP</th>\n      <th>FG</th>\n      <th>FGA</th>\n      <th>FG%</th>\n      <th>3P</th>\n      <th>3PA</th>\n      <th>3P%</th>\n      <th>...</th>\n      <th>FT%</th>\n      <th>ORB</th>\n      <th>DRB</th>\n      <th>TRB</th>\n      <th>AST</th>\n      <th>STL</th>\n      <th>BLK</th>\n      <th>TOV</th>\n      <th>PF</th>\n      <th>PTS</th>\n    </tr>\n  </thead>\n  <tbody>\n    <tr>\n      <th>count</th>\n      <td>58.000000</td>\n      <td>58.000000</td>\n      <td>58.0</td>\n      <td>58.000000</td>\n      <td>58.000000</td>\n      <td>58.000000</td>\n      <td>37.000000</td>\n      <td>58.000000</td>\n      <td>58.000000</td>\n      <td>12.000000</td>\n      <td>...</td>\n      <td>6.000000</td>\n      <td>58.000000</td>\n      <td>58.000000</td>\n      <td>58.000000</td>\n      <td>58.000000</td>\n      <td>58.000000</td>\n      <td>58.000000</td>\n      <td>58.000000</td>\n      <td>58.000000</td>\n      <td>58.000000</td>\n    </tr>\n    <tr>\n      <th>mean</th>\n      <td>24.293103</td>\n      <td>2.258621</td>\n      <td>0.0</td>\n      <td>1.517241</td>\n      <td>0.160345</td>\n      <td>0.525862</td>\n      <td>0.312622</td>\n      <td>0.017241</td>\n      <td>0.108621</td>\n      <td>0.166667</td>\n      <td>...</td>\n      <td>0.458333</td>\n      <td>0.122414</td>\n      <td>0.215517</td>\n      <td>0.336207</td>\n      <td>0.058621</td>\n      <td>0.027586</td>\n      <td>0.034483</td>\n      <td>0.103448</td>\n      <td>0.191379</td>\n      <td>0.372414</td>\n    </tr>\n    <tr>\n      <th>std</th>\n      <td>2.828481</td>\n      <td>1.318696</td>\n      <td>0.0</td>\n      <td>0.539375</td>\n      <td>0.293162</td>\n      <td>0.484337</td>\n      <td>0.377660</td>\n      <td>0.099363</td>\n      <td>0.248705</td>\n      <td>0.389249</td>\n      <td>...</td>\n      <td>0.332290</td>\n      <td>0.308956</td>\n      <td>0.320527</td>\n      <td>0.441567</td>\n      <td>0.140218</td>\n      <td>0.091370</td>\n      <td>0.105218</td>\n      <td>0.220816</td>\n      <td>0.462368</td>\n      <td>0.642034</td>\n    </tr>\n    <tr>\n      <th>min</th>\n      <td>20.000000</td>\n      <td>1.000000</td>\n      <td>0.0</td>\n      <td>0.000000</td>\n      <td>0.000000</td>\n      <td>0.000000</td>\n      <td>0.000000</td>\n      <td>0.000000</td>\n      <td>0.000000</td>\n      <td>0.000000</td>\n      <td>...</td>\n      <td>0.000000</td>\n      <td>0.000000</td>\n      <td>0.000000</td>\n      <td>0.000000</td>\n      <td>0.000000</td>\n      <td>0.000000</td>\n      <td>0.000000</td>\n      <td>0.000000</td>\n      <td>0.000000</td>\n      <td>0.000000</td>\n    </tr>\n    <tr>\n      <th>25%</th>\n      <td>22.250000</td>\n      <td>1.000000</td>\n      <td>0.0</td>\n      <td>1.000000</td>\n      <td>0.000000</td>\n      <td>0.000000</td>\n      <td>0.000000</td>\n      <td>0.000000</td>\n      <td>0.000000</td>\n      <td>0.000000</td>\n      <td>...</td>\n      <td>0.312500</td>\n      <td>0.000000</td>\n      <td>0.000000</td>\n      <td>0.000000</td>\n      <td>0.000000</td>\n      <td>0.000000</td>\n      <td>0.000000</td>\n      <td>0.000000</td>\n      <td>0.000000</td>\n      <td>0.000000</td>\n    </tr>\n    <tr>\n      <th>50%</th>\n      <td>23.500000</td>\n      <td>2.000000</td>\n      <td>0.0</td>\n      <td>1.750000</td>\n      <td>0.000000</td>\n      <td>0.500000</td>\n      <td>0.000000</td>\n      <td>0.000000</td>\n      <td>0.000000</td>\n      <td>0.000000</td>\n      <td>...</td>\n      <td>0.500000</td>\n      <td>0.000000</td>\n      <td>0.000000</td>\n      <td>0.000000</td>\n      <td>0.000000</td>\n      <td>0.000000</td>\n      <td>0.000000</td>\n      <td>0.000000</td>\n      <td>0.000000</td>\n      <td>0.000000</td>\n    </tr>\n    <tr>\n      <th>75%</th>\n      <td>25.750000</td>\n      <td>3.000000</td>\n      <td>0.0</td>\n      <td>2.000000</td>\n      <td>0.300000</td>\n      <td>1.000000</td>\n      <td>0.500000</td>\n      <td>0.000000</td>\n      <td>0.000000</td>\n      <td>0.000000</td>\n      <td>...</td>\n      <td>0.500000</td>\n      <td>0.000000</td>\n      <td>0.300000</td>\n      <td>0.650000</td>\n      <td>0.000000</td>\n      <td>0.000000</td>\n      <td>0.000000</td>\n      <td>0.150000</td>\n      <td>0.000000</td>\n      <td>0.700000</td>\n    </tr>\n    <tr>\n      <th>max</th>\n      <td>32.000000</td>\n      <td>6.000000</td>\n      <td>0.0</td>\n      <td>2.000000</td>\n      <td>1.000000</td>\n      <td>2.000000</td>\n      <td>1.000000</td>\n      <td>0.700000</td>\n      <td>1.000000</td>\n      <td>1.000000</td>\n      <td>...</td>\n      <td>1.000000</td>\n      <td>1.500000</td>\n      <td>1.000000</td>\n      <td>1.500000</td>\n      <td>0.700000</td>\n      <td>0.400000</td>\n      <td>0.500000</td>\n      <td>1.300000</td>\n      <td>2.000000</td>\n      <td>2.000000</td>\n    </tr>\n  </tbody>\n</table>\n<p>8 rows × 26 columns</p>\n</div>"
     },
     "metadata": {},
     "execution_count": 23
    }
   ],
   "source": [
    "played_few_mins = played_minutes[(played_minutes['MP'] <= 2.0) & (played_minutes['G'] <= 6)\n",
    "                    & (played_minutes['PTS'] <= 2.0)]\n",
    "pct_total = len(played_few_mins)*100/len(played_minutes)\n",
    "print('Players who had small impact are {}% of the data'.format(round(pct_total,2)))\n",
    "played_few_mins[player_num_features].describe()"
   ]
  },
  {
   "cell_type": "markdown",
   "metadata": {},
   "source": [
    "Of these players:\n",
    "- The only statistic that sticks out is number of games played. There is an outlier of 9 games over the 75% percentile. There is also a player(s) who averaged 3.0/game which is also way over the 75% percentile value of 0.7/game\n",
    "- The standard deviations for game metrics are huge which makes sense because the chances of these individuals playing and their impact on a game are stochastic, and cannot be gainfully analysed/all over the place.\n",
    "- After filtering out the highest number of games (6 - consistency check) and the highest point average (2.0/game), the rest of the players' impact seems minimal.\n",
    "**Decision:** Dropping them from the dataset (58 observations -> .95% of dataset)"
   ]
  },
  {
   "cell_type": "code",
   "execution_count": 24,
   "metadata": {
    "tags": []
   },
   "outputs": [
    {
     "output_type": "stream",
     "name": "stdout",
     "text": "We have now gone from 6134 to 6076 observations.\n"
    }
   ],
   "source": [
    "played_minutes = played_minutes[(played_minutes['MP'] > 2.0) | (played_minutes['G'] > 6)\n",
    "                    | (played_minutes['PTS'] > 2.0)]\n",
    "print('We have now gone from {} to {} observations.'.format(played_size, len(played_minutes)))"
   ]
  },
  {
   "cell_type": "code",
   "execution_count": 25,
   "metadata": {
    "tags": []
   },
   "outputs": [
    {
     "output_type": "stream",
     "name": "stdout",
     "text": "FG% \t 13\n3P% \t 743\n2P% \t 46\neFG% \t 13\nFT% \t 251\n"
    }
   ],
   "source": [
    "#rechecking null values\n",
    "get_null_columns(played_minutes)"
   ]
  },
  {
   "cell_type": "markdown",
   "metadata": {},
   "source": [
    "## Focus on teams in the finals\n",
    "\n",
    "Now, we look at the teams that made it to the finals (winner and runner-up) for each season. That is the population of interest for analysis."
   ]
  },
  {
   "cell_type": "code",
   "execution_count": 26,
   "metadata": {},
   "outputs": [
    {
     "output_type": "execute_result",
     "data": {
      "text/plain": "(352, 32)"
     },
     "metadata": {},
     "execution_count": 26
    }
   ],
   "source": [
    "players_finals = played_minutes[(played_minutes['Champ']==1) | (played_minutes['Runner-Up']==1)]\n",
    "players_finals.shape"
   ]
  },
  {
   "cell_type": "code",
   "execution_count": 28,
   "metadata": {},
   "outputs": [
    {
     "output_type": "execute_result",
     "data": {
      "text/plain": "              Age           G          GS          MP          FG         FGA  \\\ncount  352.000000  352.000000  352.000000  352.000000  352.000000  352.000000   \nmean    28.278409   49.872159   22.840909   19.074148    3.016193    6.379830   \nstd      4.436547   25.533133   29.009532    9.807006    2.459737    4.882035   \nmin     19.000000    1.000000    0.000000    2.600000    0.000000    0.400000   \n25%     25.000000   26.000000    0.750000   10.400000    1.275000    2.900000   \n50%     28.000000   57.000000    6.000000   18.250000    2.300000    4.900000   \n75%     32.000000   73.000000   50.250000   26.950000    3.800000    8.200000   \nmax     39.000000   82.000000   82.000000   42.000000   10.500000   21.500000   \n\n              FG%          3P         3PA         3P%  ...         FT%  \\\ncount  352.000000  352.000000  352.000000  299.000000  ...  340.000000   \nmean     0.460199    0.731534    1.964205    0.310388  ...    0.738512   \nstd      0.089763    0.860994    2.101396    0.159383  ...    0.149785   \nmin      0.000000    0.000000    0.000000    0.000000  ...    0.000000   \n25%      0.414000    0.000000    0.100000    0.268500  ...    0.658500   \n50%      0.463000    0.500000    1.500000    0.351000  ...    0.765000   \n75%      0.514250    1.100000    3.100000    0.400500  ...    0.837500   \nmax      0.800000    5.100000   11.700000    1.000000  ...    1.000000   \n\n              ORB         DRB         TRB         AST         STL         BLK  \\\ncount  352.000000  352.000000  352.000000  352.000000  352.000000  352.000000   \nmean     0.780398    2.628125    3.403977    1.809375    0.603693    0.438920   \nstd      0.686323    1.894009    2.415604    1.887233    0.467597    0.546047   \nmin      0.000000    0.000000    0.000000    0.000000    0.000000    0.000000   \n25%      0.300000    1.300000    1.700000    0.500000    0.300000    0.100000   \n50%      0.600000    2.100000    2.650000    1.200000    0.500000    0.300000   \n75%      1.100000    3.400000    4.400000    2.300000    0.800000    0.600000   \nmax      4.000000    8.600000   11.300000    9.800000    2.300000    6.000000   \n\n              TOV          PF         PTS  \ncount  352.000000  352.000000  352.000000  \nmean     1.082386    1.631250    8.080398  \nstd      0.839466    0.725239    6.774398  \nmin      0.000000    0.000000    0.000000  \n25%      0.500000    1.100000    3.375000  \n50%      0.800000    1.600000    5.950000  \n75%      1.500000    2.100000   10.225000  \nmax      4.200000    6.000000   30.100000  \n\n[8 rows x 26 columns]",
      "text/html": "<div>\n<style scoped>\n    .dataframe tbody tr th:only-of-type {\n        vertical-align: middle;\n    }\n\n    .dataframe tbody tr th {\n        vertical-align: top;\n    }\n\n    .dataframe thead th {\n        text-align: right;\n    }\n</style>\n<table border=\"1\" class=\"dataframe\">\n  <thead>\n    <tr style=\"text-align: right;\">\n      <th></th>\n      <th>Age</th>\n      <th>G</th>\n      <th>GS</th>\n      <th>MP</th>\n      <th>FG</th>\n      <th>FGA</th>\n      <th>FG%</th>\n      <th>3P</th>\n      <th>3PA</th>\n      <th>3P%</th>\n      <th>...</th>\n      <th>FT%</th>\n      <th>ORB</th>\n      <th>DRB</th>\n      <th>TRB</th>\n      <th>AST</th>\n      <th>STL</th>\n      <th>BLK</th>\n      <th>TOV</th>\n      <th>PF</th>\n      <th>PTS</th>\n    </tr>\n  </thead>\n  <tbody>\n    <tr>\n      <th>count</th>\n      <td>352.000000</td>\n      <td>352.000000</td>\n      <td>352.000000</td>\n      <td>352.000000</td>\n      <td>352.000000</td>\n      <td>352.000000</td>\n      <td>352.000000</td>\n      <td>352.000000</td>\n      <td>352.000000</td>\n      <td>299.000000</td>\n      <td>...</td>\n      <td>340.000000</td>\n      <td>352.000000</td>\n      <td>352.000000</td>\n      <td>352.000000</td>\n      <td>352.000000</td>\n      <td>352.000000</td>\n      <td>352.000000</td>\n      <td>352.000000</td>\n      <td>352.000000</td>\n      <td>352.000000</td>\n    </tr>\n    <tr>\n      <th>mean</th>\n      <td>28.278409</td>\n      <td>49.872159</td>\n      <td>22.840909</td>\n      <td>19.074148</td>\n      <td>3.016193</td>\n      <td>6.379830</td>\n      <td>0.460199</td>\n      <td>0.731534</td>\n      <td>1.964205</td>\n      <td>0.310388</td>\n      <td>...</td>\n      <td>0.738512</td>\n      <td>0.780398</td>\n      <td>2.628125</td>\n      <td>3.403977</td>\n      <td>1.809375</td>\n      <td>0.603693</td>\n      <td>0.438920</td>\n      <td>1.082386</td>\n      <td>1.631250</td>\n      <td>8.080398</td>\n    </tr>\n    <tr>\n      <th>std</th>\n      <td>4.436547</td>\n      <td>25.533133</td>\n      <td>29.009532</td>\n      <td>9.807006</td>\n      <td>2.459737</td>\n      <td>4.882035</td>\n      <td>0.089763</td>\n      <td>0.860994</td>\n      <td>2.101396</td>\n      <td>0.159383</td>\n      <td>...</td>\n      <td>0.149785</td>\n      <td>0.686323</td>\n      <td>1.894009</td>\n      <td>2.415604</td>\n      <td>1.887233</td>\n      <td>0.467597</td>\n      <td>0.546047</td>\n      <td>0.839466</td>\n      <td>0.725239</td>\n      <td>6.774398</td>\n    </tr>\n    <tr>\n      <th>min</th>\n      <td>19.000000</td>\n      <td>1.000000</td>\n      <td>0.000000</td>\n      <td>2.600000</td>\n      <td>0.000000</td>\n      <td>0.400000</td>\n      <td>0.000000</td>\n      <td>0.000000</td>\n      <td>0.000000</td>\n      <td>0.000000</td>\n      <td>...</td>\n      <td>0.000000</td>\n      <td>0.000000</td>\n      <td>0.000000</td>\n      <td>0.000000</td>\n      <td>0.000000</td>\n      <td>0.000000</td>\n      <td>0.000000</td>\n      <td>0.000000</td>\n      <td>0.000000</td>\n      <td>0.000000</td>\n    </tr>\n    <tr>\n      <th>25%</th>\n      <td>25.000000</td>\n      <td>26.000000</td>\n      <td>0.750000</td>\n      <td>10.400000</td>\n      <td>1.275000</td>\n      <td>2.900000</td>\n      <td>0.414000</td>\n      <td>0.000000</td>\n      <td>0.100000</td>\n      <td>0.268500</td>\n      <td>...</td>\n      <td>0.658500</td>\n      <td>0.300000</td>\n      <td>1.300000</td>\n      <td>1.700000</td>\n      <td>0.500000</td>\n      <td>0.300000</td>\n      <td>0.100000</td>\n      <td>0.500000</td>\n      <td>1.100000</td>\n      <td>3.375000</td>\n    </tr>\n    <tr>\n      <th>50%</th>\n      <td>28.000000</td>\n      <td>57.000000</td>\n      <td>6.000000</td>\n      <td>18.250000</td>\n      <td>2.300000</td>\n      <td>4.900000</td>\n      <td>0.463000</td>\n      <td>0.500000</td>\n      <td>1.500000</td>\n      <td>0.351000</td>\n      <td>...</td>\n      <td>0.765000</td>\n      <td>0.600000</td>\n      <td>2.100000</td>\n      <td>2.650000</td>\n      <td>1.200000</td>\n      <td>0.500000</td>\n      <td>0.300000</td>\n      <td>0.800000</td>\n      <td>1.600000</td>\n      <td>5.950000</td>\n    </tr>\n    <tr>\n      <th>75%</th>\n      <td>32.000000</td>\n      <td>73.000000</td>\n      <td>50.250000</td>\n      <td>26.950000</td>\n      <td>3.800000</td>\n      <td>8.200000</td>\n      <td>0.514250</td>\n      <td>1.100000</td>\n      <td>3.100000</td>\n      <td>0.400500</td>\n      <td>...</td>\n      <td>0.837500</td>\n      <td>1.100000</td>\n      <td>3.400000</td>\n      <td>4.400000</td>\n      <td>2.300000</td>\n      <td>0.800000</td>\n      <td>0.600000</td>\n      <td>1.500000</td>\n      <td>2.100000</td>\n      <td>10.225000</td>\n    </tr>\n    <tr>\n      <th>max</th>\n      <td>39.000000</td>\n      <td>82.000000</td>\n      <td>82.000000</td>\n      <td>42.000000</td>\n      <td>10.500000</td>\n      <td>21.500000</td>\n      <td>0.800000</td>\n      <td>5.100000</td>\n      <td>11.700000</td>\n      <td>1.000000</td>\n      <td>...</td>\n      <td>1.000000</td>\n      <td>4.000000</td>\n      <td>8.600000</td>\n      <td>11.300000</td>\n      <td>9.800000</td>\n      <td>2.300000</td>\n      <td>6.000000</td>\n      <td>4.200000</td>\n      <td>6.000000</td>\n      <td>30.100000</td>\n    </tr>\n  </tbody>\n</table>\n<p>8 rows × 26 columns</p>\n</div>"
     },
     "metadata": {},
     "execution_count": 28
    }
   ],
   "source": [
    "players_finals[player_num_features].describe()"
   ]
  },
  {
   "cell_type": "code",
   "execution_count": 33,
   "metadata": {},
   "outputs": [
    {
     "output_type": "execute_result",
     "data": {
      "text/plain": "<matplotlib.axes._subplots.AxesSubplot at 0x1d960f1b0c8>"
     },
     "metadata": {},
     "execution_count": 33
    },
    {
     "output_type": "display_data",
     "data": {
      "text/plain": "<Figure size 432x288 with 1 Axes>",
      "image/svg+xml": "<?xml version=\"1.0\" encoding=\"utf-8\" standalone=\"no\"?>\r\n<!DOCTYPE svg PUBLIC \"-//W3C//DTD SVG 1.1//EN\"\r\n  \"http://www.w3.org/Graphics/SVG/1.1/DTD/svg11.dtd\">\r\n<!-- Created with matplotlib (https://matplotlib.org/) -->\r\n<svg height=\"270.322812pt\" version=\"1.1\" viewBox=\"0 0 381.65 270.322812\" width=\"381.65pt\" xmlns=\"http://www.w3.org/2000/svg\" xmlns:xlink=\"http://www.w3.org/1999/xlink\">\r\n <defs>\r\n  <style type=\"text/css\">\r\n*{stroke-linecap:butt;stroke-linejoin:round;}\r\n  </style>\r\n </defs>\r\n <g id=\"figure_1\">\r\n  <g id=\"patch_1\">\r\n   <path d=\"M -0 270.322812 \r\nL 381.65 270.322812 \r\nL 381.65 0 \r\nL -0 0 \r\nz\r\n\" style=\"fill:none;\"/>\r\n  </g>\r\n  <g id=\"axes_1\">\r\n   <g id=\"patch_2\">\r\n    <path d=\"M 39.65 224.64 \r\nL 374.45 224.64 \r\nL 374.45 7.2 \r\nL 39.65 7.2 \r\nz\r\n\" style=\"fill:#ffffff;\"/>\r\n   </g>\r\n   <g id=\"patch_3\">\r\n    <path clip-path=\"url(#p4f8616fe6c)\" d=\"M 45.628571 224.64 \r\nL 57.585714 224.64 \r\nL 57.585714 17.554286 \r\nL 45.628571 17.554286 \r\nz\r\n\" style=\"fill:#1f77b4;\"/>\r\n   </g>\r\n   <g id=\"patch_4\">\r\n    <path clip-path=\"url(#p4f8616fe6c)\" d=\"M 69.542857 224.64 \r\nL 81.5 224.64 \r\nL 81.5 29.406059 \r\nL 69.542857 29.406059 \r\nz\r\n\" style=\"fill:#1f77b4;\"/>\r\n   </g>\r\n   <g id=\"patch_5\">\r\n    <path clip-path=\"url(#p4f8616fe6c)\" d=\"M 93.457143 224.64 \r\nL 105.414286 224.64 \r\nL 105.414286 30.206854 \r\nL 93.457143 30.206854 \r\nz\r\n\" style=\"fill:#1f77b4;\"/>\r\n   </g>\r\n   <g id=\"patch_6\">\r\n    <path clip-path=\"url(#p4f8616fe6c)\" d=\"M 117.371429 224.64 \r\nL 129.328571 224.64 \r\nL 129.328571 42.218787 \r\nL 117.371429 42.218787 \r\nz\r\n\" style=\"fill:#1f77b4;\"/>\r\n   </g>\r\n   <g id=\"patch_7\">\r\n    <path clip-path=\"url(#p4f8616fe6c)\" d=\"M 141.285714 224.64 \r\nL 153.242857 224.64 \r\nL 153.242857 42.378946 \r\nL 141.285714 42.378946 \r\nz\r\n\" style=\"fill:#1f77b4;\"/>\r\n   </g>\r\n   <g id=\"patch_8\">\r\n    <path clip-path=\"url(#p4f8616fe6c)\" d=\"M 165.2 224.64 \r\nL 177.157143 224.64 \r\nL 177.157143 222.87825 \r\nL 165.2 222.87825 \r\nz\r\n\" style=\"fill:#1f77b4;\"/>\r\n   </g>\r\n   <g id=\"patch_9\">\r\n    <path clip-path=\"url(#p4f8616fe6c)\" d=\"M 189.114286 224.64 \r\nL 201.071429 224.64 \r\nL 201.071429 223.038409 \r\nL 189.114286 223.038409 \r\nz\r\n\" style=\"fill:#1f77b4;\"/>\r\n   </g>\r\n   <g id=\"patch_10\">\r\n    <path clip-path=\"url(#p4f8616fe6c)\" d=\"M 213.028571 224.64 \r\nL 224.985714 224.64 \r\nL 224.985714 223.198568 \r\nL 213.028571 223.198568 \r\nz\r\n\" style=\"fill:#1f77b4;\"/>\r\n   </g>\r\n   <g id=\"patch_11\">\r\n    <path clip-path=\"url(#p4f8616fe6c)\" d=\"M 236.942857 224.64 \r\nL 248.9 224.64 \r\nL 248.9 223.198568 \r\nL 236.942857 223.198568 \r\nz\r\n\" style=\"fill:#1f77b4;\"/>\r\n   </g>\r\n   <g id=\"patch_12\">\r\n    <path clip-path=\"url(#p4f8616fe6c)\" d=\"M 260.857143 224.64 \r\nL 272.814286 224.64 \r\nL 272.814286 223.198568 \r\nL 260.857143 223.198568 \r\nz\r\n\" style=\"fill:#1f77b4;\"/>\r\n   </g>\r\n   <g id=\"patch_13\">\r\n    <path clip-path=\"url(#p4f8616fe6c)\" d=\"M 284.771429 224.64 \r\nL 296.728571 224.64 \r\nL 296.728571 223.358727 \r\nL 284.771429 223.358727 \r\nz\r\n\" style=\"fill:#1f77b4;\"/>\r\n   </g>\r\n   <g id=\"patch_14\">\r\n    <path clip-path=\"url(#p4f8616fe6c)\" d=\"M 308.685714 224.64 \r\nL 320.642857 224.64 \r\nL 320.642857 223.358727 \r\nL 308.685714 223.358727 \r\nz\r\n\" style=\"fill:#1f77b4;\"/>\r\n   </g>\r\n   <g id=\"patch_15\">\r\n    <path clip-path=\"url(#p4f8616fe6c)\" d=\"M 332.6 224.64 \r\nL 344.557143 224.64 \r\nL 344.557143 223.518886 \r\nL 332.6 223.518886 \r\nz\r\n\" style=\"fill:#1f77b4;\"/>\r\n   </g>\r\n   <g id=\"patch_16\">\r\n    <path clip-path=\"url(#p4f8616fe6c)\" d=\"M 356.514286 224.64 \r\nL 368.471429 224.64 \r\nL 368.471429 224.319682 \r\nL 356.514286 224.319682 \r\nz\r\n\" style=\"fill:#1f77b4;\"/>\r\n   </g>\r\n   <g id=\"matplotlib.axis_1\">\r\n    <g id=\"xtick_1\">\r\n     <g id=\"line2d_1\">\r\n      <defs>\r\n       <path d=\"M 0 0 \r\nL 0 3.5 \r\n\" id=\"m4f14d1d0ce\" style=\"stroke:#000000;stroke-width:0.8;\"/>\r\n      </defs>\r\n      <g>\r\n       <use style=\"stroke:#000000;stroke-width:0.8;\" x=\"51.607143\" xlink:href=\"#m4f14d1d0ce\" y=\"224.64\"/>\r\n      </g>\r\n     </g>\r\n     <g id=\"text_1\">\r\n      <!-- SG -->\r\n      <defs>\r\n       <path d=\"M 53.515625 70.515625 \r\nL 53.515625 60.890625 \r\nQ 47.90625 63.578125 42.921875 64.890625 \r\nQ 37.9375 66.21875 33.296875 66.21875 \r\nQ 25.25 66.21875 20.875 63.09375 \r\nQ 16.5 59.96875 16.5 54.203125 \r\nQ 16.5 49.359375 19.40625 46.890625 \r\nQ 22.3125 44.4375 30.421875 42.921875 \r\nL 36.375 41.703125 \r\nQ 47.40625 39.59375 52.65625 34.296875 \r\nQ 57.90625 29 57.90625 20.125 \r\nQ 57.90625 9.515625 50.796875 4.046875 \r\nQ 43.703125 -1.421875 29.984375 -1.421875 \r\nQ 24.8125 -1.421875 18.96875 -0.25 \r\nQ 13.140625 0.921875 6.890625 3.21875 \r\nL 6.890625 13.375 \r\nQ 12.890625 10.015625 18.65625 8.296875 \r\nQ 24.421875 6.59375 29.984375 6.59375 \r\nQ 38.421875 6.59375 43.015625 9.90625 \r\nQ 47.609375 13.234375 47.609375 19.390625 \r\nQ 47.609375 24.75 44.3125 27.78125 \r\nQ 41.015625 30.8125 33.5 32.328125 \r\nL 27.484375 33.5 \r\nQ 16.453125 35.6875 11.515625 40.375 \r\nQ 6.59375 45.0625 6.59375 53.421875 \r\nQ 6.59375 63.09375 13.40625 68.65625 \r\nQ 20.21875 74.21875 32.171875 74.21875 \r\nQ 37.3125 74.21875 42.625 73.28125 \r\nQ 47.953125 72.359375 53.515625 70.515625 \r\nz\r\n\" id=\"DejaVuSans-83\"/>\r\n       <path d=\"M 59.515625 10.40625 \r\nL 59.515625 29.984375 \r\nL 43.40625 29.984375 \r\nL 43.40625 38.09375 \r\nL 69.28125 38.09375 \r\nL 69.28125 6.78125 \r\nQ 63.578125 2.734375 56.6875 0.65625 \r\nQ 49.8125 -1.421875 42 -1.421875 \r\nQ 24.90625 -1.421875 15.25 8.5625 \r\nQ 5.609375 18.5625 5.609375 36.375 \r\nQ 5.609375 54.25 15.25 64.234375 \r\nQ 24.90625 74.21875 42 74.21875 \r\nQ 49.125 74.21875 55.546875 72.453125 \r\nQ 61.96875 70.703125 67.390625 67.28125 \r\nL 67.390625 56.78125 \r\nQ 61.921875 61.421875 55.765625 63.765625 \r\nQ 49.609375 66.109375 42.828125 66.109375 \r\nQ 29.4375 66.109375 22.71875 58.640625 \r\nQ 16.015625 51.171875 16.015625 36.375 \r\nQ 16.015625 21.625 22.71875 14.15625 \r\nQ 29.4375 6.6875 42.828125 6.6875 \r\nQ 48.046875 6.6875 52.140625 7.59375 \r\nQ 56.25 8.5 59.515625 10.40625 \r\nz\r\n\" id=\"DejaVuSans-71\"/>\r\n      </defs>\r\n      <g transform=\"translate(54.366518 245.736875)rotate(-90)scale(0.1 -0.1)\">\r\n       <use xlink:href=\"#DejaVuSans-83\"/>\r\n       <use x=\"63.476562\" xlink:href=\"#DejaVuSans-71\"/>\r\n      </g>\r\n     </g>\r\n    </g>\r\n    <g id=\"xtick_2\">\r\n     <g id=\"line2d_2\">\r\n      <g>\r\n       <use style=\"stroke:#000000;stroke-width:0.8;\" x=\"75.521429\" xlink:href=\"#m4f14d1d0ce\" y=\"224.64\"/>\r\n      </g>\r\n     </g>\r\n     <g id=\"text_2\">\r\n      <!-- PG -->\r\n      <defs>\r\n       <path d=\"M 19.671875 64.796875 \r\nL 19.671875 37.40625 \r\nL 32.078125 37.40625 \r\nQ 38.96875 37.40625 42.71875 40.96875 \r\nQ 46.484375 44.53125 46.484375 51.125 \r\nQ 46.484375 57.671875 42.71875 61.234375 \r\nQ 38.96875 64.796875 32.078125 64.796875 \r\nz\r\nM 9.8125 72.90625 \r\nL 32.078125 72.90625 \r\nQ 44.34375 72.90625 50.609375 67.359375 \r\nQ 56.890625 61.8125 56.890625 51.125 \r\nQ 56.890625 40.328125 50.609375 34.8125 \r\nQ 44.34375 29.296875 32.078125 29.296875 \r\nL 19.671875 29.296875 \r\nL 19.671875 0 \r\nL 9.8125 0 \r\nz\r\n\" id=\"DejaVuSans-80\"/>\r\n      </defs>\r\n      <g transform=\"translate(78.280804 245.418125)rotate(-90)scale(0.1 -0.1)\">\r\n       <use xlink:href=\"#DejaVuSans-80\"/>\r\n       <use x=\"60.302734\" xlink:href=\"#DejaVuSans-71\"/>\r\n      </g>\r\n     </g>\r\n    </g>\r\n    <g id=\"xtick_3\">\r\n     <g id=\"line2d_3\">\r\n      <g>\r\n       <use style=\"stroke:#000000;stroke-width:0.8;\" x=\"99.435714\" xlink:href=\"#m4f14d1d0ce\" y=\"224.64\"/>\r\n      </g>\r\n     </g>\r\n     <g id=\"text_3\">\r\n      <!-- PF -->\r\n      <defs>\r\n       <path d=\"M 9.8125 72.90625 \r\nL 51.703125 72.90625 \r\nL 51.703125 64.59375 \r\nL 19.671875 64.59375 \r\nL 19.671875 43.109375 \r\nL 48.578125 43.109375 \r\nL 48.578125 34.8125 \r\nL 19.671875 34.8125 \r\nL 19.671875 0 \r\nL 9.8125 0 \r\nz\r\n\" id=\"DejaVuSans-70\"/>\r\n      </defs>\r\n      <g transform=\"translate(102.195089 243.42125)rotate(-90)scale(0.1 -0.1)\">\r\n       <use xlink:href=\"#DejaVuSans-80\"/>\r\n       <use x=\"60.302734\" xlink:href=\"#DejaVuSans-70\"/>\r\n      </g>\r\n     </g>\r\n    </g>\r\n    <g id=\"xtick_4\">\r\n     <g id=\"line2d_4\">\r\n      <g>\r\n       <use style=\"stroke:#000000;stroke-width:0.8;\" x=\"123.35\" xlink:href=\"#m4f14d1d0ce\" y=\"224.64\"/>\r\n      </g>\r\n     </g>\r\n     <g id=\"text_4\">\r\n      <!-- C -->\r\n      <defs>\r\n       <path d=\"M 64.40625 67.28125 \r\nL 64.40625 56.890625 \r\nQ 59.421875 61.53125 53.78125 63.8125 \r\nQ 48.140625 66.109375 41.796875 66.109375 \r\nQ 29.296875 66.109375 22.65625 58.46875 \r\nQ 16.015625 50.828125 16.015625 36.375 \r\nQ 16.015625 21.96875 22.65625 14.328125 \r\nQ 29.296875 6.6875 41.796875 6.6875 \r\nQ 48.140625 6.6875 53.78125 8.984375 \r\nQ 59.421875 11.28125 64.40625 15.921875 \r\nL 64.40625 5.609375 \r\nQ 59.234375 2.09375 53.4375 0.328125 \r\nQ 47.65625 -1.421875 41.21875 -1.421875 \r\nQ 24.65625 -1.421875 15.125 8.703125 \r\nQ 5.609375 18.84375 5.609375 36.375 \r\nQ 5.609375 53.953125 15.125 64.078125 \r\nQ 24.65625 74.21875 41.21875 74.21875 \r\nQ 47.75 74.21875 53.53125 72.484375 \r\nQ 59.328125 70.75 64.40625 67.28125 \r\nz\r\n\" id=\"DejaVuSans-67\"/>\r\n      </defs>\r\n      <g transform=\"translate(126.109375 238.622813)rotate(-90)scale(0.1 -0.1)\">\r\n       <use xlink:href=\"#DejaVuSans-67\"/>\r\n      </g>\r\n     </g>\r\n    </g>\r\n    <g id=\"xtick_5\">\r\n     <g id=\"line2d_5\">\r\n      <g>\r\n       <use style=\"stroke:#000000;stroke-width:0.8;\" x=\"147.264286\" xlink:href=\"#m4f14d1d0ce\" y=\"224.64\"/>\r\n      </g>\r\n     </g>\r\n     <g id=\"text_5\">\r\n      <!-- SF -->\r\n      <g transform=\"translate(150.023661 243.74)rotate(-90)scale(0.1 -0.1)\">\r\n       <use xlink:href=\"#DejaVuSans-83\"/>\r\n       <use x=\"63.476562\" xlink:href=\"#DejaVuSans-70\"/>\r\n      </g>\r\n     </g>\r\n    </g>\r\n    <g id=\"xtick_6\">\r\n     <g id=\"line2d_6\">\r\n      <g>\r\n       <use style=\"stroke:#000000;stroke-width:0.8;\" x=\"171.178571\" xlink:href=\"#m4f14d1d0ce\" y=\"224.64\"/>\r\n      </g>\r\n     </g>\r\n     <g id=\"text_6\">\r\n      <!-- SG-PG -->\r\n      <defs>\r\n       <path d=\"M 4.890625 31.390625 \r\nL 31.203125 31.390625 \r\nL 31.203125 23.390625 \r\nL 4.890625 23.390625 \r\nz\r\n\" id=\"DejaVuSans-45\"/>\r\n      </defs>\r\n      <g transform=\"translate(173.937946 263.122813)rotate(-90)scale(0.1 -0.1)\">\r\n       <use xlink:href=\"#DejaVuSans-83\"/>\r\n       <use x=\"63.476562\" xlink:href=\"#DejaVuSans-71\"/>\r\n       <use x=\"140.966797\" xlink:href=\"#DejaVuSans-45\"/>\r\n       <use x=\"177.050781\" xlink:href=\"#DejaVuSans-80\"/>\r\n       <use x=\"237.353516\" xlink:href=\"#DejaVuSans-71\"/>\r\n      </g>\r\n     </g>\r\n    </g>\r\n    <g id=\"xtick_7\">\r\n     <g id=\"line2d_7\">\r\n      <g>\r\n       <use style=\"stroke:#000000;stroke-width:0.8;\" x=\"195.092857\" xlink:href=\"#m4f14d1d0ce\" y=\"224.64\"/>\r\n      </g>\r\n     </g>\r\n     <g id=\"text_7\">\r\n      <!-- PF-SF -->\r\n      <g transform=\"translate(197.852232 259.129062)rotate(-90)scale(0.1 -0.1)\">\r\n       <use xlink:href=\"#DejaVuSans-80\"/>\r\n       <use x=\"60.302734\" xlink:href=\"#DejaVuSans-70\"/>\r\n       <use x=\"117.822266\" xlink:href=\"#DejaVuSans-45\"/>\r\n       <use x=\"153.90625\" xlink:href=\"#DejaVuSans-83\"/>\r\n       <use x=\"217.382812\" xlink:href=\"#DejaVuSans-70\"/>\r\n      </g>\r\n     </g>\r\n    </g>\r\n    <g id=\"xtick_8\">\r\n     <g id=\"line2d_8\">\r\n      <g>\r\n       <use style=\"stroke:#000000;stroke-width:0.8;\" x=\"219.007143\" xlink:href=\"#m4f14d1d0ce\" y=\"224.64\"/>\r\n      </g>\r\n     </g>\r\n     <g id=\"text_8\">\r\n      <!-- SF-SG -->\r\n      <g transform=\"translate(221.766518 261.444687)rotate(-90)scale(0.1 -0.1)\">\r\n       <use xlink:href=\"#DejaVuSans-83\"/>\r\n       <use x=\"63.476562\" xlink:href=\"#DejaVuSans-70\"/>\r\n       <use x=\"120.996094\" xlink:href=\"#DejaVuSans-45\"/>\r\n       <use x=\"157.080078\" xlink:href=\"#DejaVuSans-83\"/>\r\n       <use x=\"220.556641\" xlink:href=\"#DejaVuSans-71\"/>\r\n      </g>\r\n     </g>\r\n    </g>\r\n    <g id=\"xtick_9\">\r\n     <g id=\"line2d_9\">\r\n      <g>\r\n       <use style=\"stroke:#000000;stroke-width:0.8;\" x=\"242.921429\" xlink:href=\"#m4f14d1d0ce\" y=\"224.64\"/>\r\n      </g>\r\n     </g>\r\n     <g id=\"text_9\">\r\n      <!-- PG-SG -->\r\n      <g transform=\"translate(245.680804 263.122813)rotate(-90)scale(0.1 -0.1)\">\r\n       <use xlink:href=\"#DejaVuSans-80\"/>\r\n       <use x=\"60.302734\" xlink:href=\"#DejaVuSans-71\"/>\r\n       <use x=\"137.792969\" xlink:href=\"#DejaVuSans-45\"/>\r\n       <use x=\"173.876953\" xlink:href=\"#DejaVuSans-83\"/>\r\n       <use x=\"237.353516\" xlink:href=\"#DejaVuSans-71\"/>\r\n      </g>\r\n     </g>\r\n    </g>\r\n    <g id=\"xtick_10\">\r\n     <g id=\"line2d_10\">\r\n      <g>\r\n       <use style=\"stroke:#000000;stroke-width:0.8;\" x=\"266.835714\" xlink:href=\"#m4f14d1d0ce\" y=\"224.64\"/>\r\n      </g>\r\n     </g>\r\n     <g id=\"text_10\">\r\n      <!-- SG-SF -->\r\n      <g transform=\"translate(269.595089 261.444687)rotate(-90)scale(0.1 -0.1)\">\r\n       <use xlink:href=\"#DejaVuSans-83\"/>\r\n       <use x=\"63.476562\" xlink:href=\"#DejaVuSans-71\"/>\r\n       <use x=\"140.966797\" xlink:href=\"#DejaVuSans-45\"/>\r\n       <use x=\"177.050781\" xlink:href=\"#DejaVuSans-83\"/>\r\n       <use x=\"240.527344\" xlink:href=\"#DejaVuSans-70\"/>\r\n      </g>\r\n     </g>\r\n    </g>\r\n    <g id=\"xtick_11\">\r\n     <g id=\"line2d_11\">\r\n      <g>\r\n       <use style=\"stroke:#000000;stroke-width:0.8;\" x=\"290.75\" xlink:href=\"#m4f14d1d0ce\" y=\"224.64\"/>\r\n      </g>\r\n     </g>\r\n     <g id=\"text_11\">\r\n      <!-- C-PF -->\r\n      <g transform=\"translate(293.509375 254.011875)rotate(-90)scale(0.1 -0.1)\">\r\n       <use xlink:href=\"#DejaVuSans-67\"/>\r\n       <use x=\"69.824219\" xlink:href=\"#DejaVuSans-45\"/>\r\n       <use x=\"105.908203\" xlink:href=\"#DejaVuSans-80\"/>\r\n       <use x=\"166.210938\" xlink:href=\"#DejaVuSans-70\"/>\r\n      </g>\r\n     </g>\r\n    </g>\r\n    <g id=\"xtick_12\">\r\n     <g id=\"line2d_12\">\r\n      <g>\r\n       <use style=\"stroke:#000000;stroke-width:0.8;\" x=\"314.664286\" xlink:href=\"#m4f14d1d0ce\" y=\"224.64\"/>\r\n      </g>\r\n     </g>\r\n     <g id=\"text_12\">\r\n      <!-- SF-PF -->\r\n      <g transform=\"translate(317.423661 259.129062)rotate(-90)scale(0.1 -0.1)\">\r\n       <use xlink:href=\"#DejaVuSans-83\"/>\r\n       <use x=\"63.476562\" xlink:href=\"#DejaVuSans-70\"/>\r\n       <use x=\"120.996094\" xlink:href=\"#DejaVuSans-45\"/>\r\n       <use x=\"157.080078\" xlink:href=\"#DejaVuSans-80\"/>\r\n       <use x=\"217.382812\" xlink:href=\"#DejaVuSans-70\"/>\r\n      </g>\r\n     </g>\r\n    </g>\r\n    <g id=\"xtick_13\">\r\n     <g id=\"line2d_13\">\r\n      <g>\r\n       <use style=\"stroke:#000000;stroke-width:0.8;\" x=\"338.578571\" xlink:href=\"#m4f14d1d0ce\" y=\"224.64\"/>\r\n      </g>\r\n     </g>\r\n     <g id=\"text_13\">\r\n      <!-- PF-C -->\r\n      <g transform=\"translate(341.337946 254.011875)rotate(-90)scale(0.1 -0.1)\">\r\n       <use xlink:href=\"#DejaVuSans-80\"/>\r\n       <use x=\"60.302734\" xlink:href=\"#DejaVuSans-70\"/>\r\n       <use x=\"117.822266\" xlink:href=\"#DejaVuSans-45\"/>\r\n       <use x=\"153.90625\" xlink:href=\"#DejaVuSans-67\"/>\r\n      </g>\r\n     </g>\r\n    </g>\r\n    <g id=\"xtick_14\">\r\n     <g id=\"line2d_14\">\r\n      <g>\r\n       <use style=\"stroke:#000000;stroke-width:0.8;\" x=\"362.492857\" xlink:href=\"#m4f14d1d0ce\" y=\"224.64\"/>\r\n      </g>\r\n     </g>\r\n     <g id=\"text_14\">\r\n      <!-- SG-PF -->\r\n      <g transform=\"translate(365.252232 261.125938)rotate(-90)scale(0.1 -0.1)\">\r\n       <use xlink:href=\"#DejaVuSans-83\"/>\r\n       <use x=\"63.476562\" xlink:href=\"#DejaVuSans-71\"/>\r\n       <use x=\"140.966797\" xlink:href=\"#DejaVuSans-45\"/>\r\n       <use x=\"177.050781\" xlink:href=\"#DejaVuSans-80\"/>\r\n       <use x=\"237.353516\" xlink:href=\"#DejaVuSans-70\"/>\r\n      </g>\r\n     </g>\r\n    </g>\r\n   </g>\r\n   <g id=\"matplotlib.axis_2\">\r\n    <g id=\"ytick_1\">\r\n     <g id=\"line2d_15\">\r\n      <defs>\r\n       <path d=\"M 0 0 \r\nL -3.5 0 \r\n\" id=\"mb36d088724\" style=\"stroke:#000000;stroke-width:0.8;\"/>\r\n      </defs>\r\n      <g>\r\n       <use style=\"stroke:#000000;stroke-width:0.8;\" x=\"39.65\" xlink:href=\"#mb36d088724\" y=\"224.64\"/>\r\n      </g>\r\n     </g>\r\n     <g id=\"text_15\">\r\n      <!-- 0 -->\r\n      <defs>\r\n       <path d=\"M 31.78125 66.40625 \r\nQ 24.171875 66.40625 20.328125 58.90625 \r\nQ 16.5 51.421875 16.5 36.375 \r\nQ 16.5 21.390625 20.328125 13.890625 \r\nQ 24.171875 6.390625 31.78125 6.390625 \r\nQ 39.453125 6.390625 43.28125 13.890625 \r\nQ 47.125 21.390625 47.125 36.375 \r\nQ 47.125 51.421875 43.28125 58.90625 \r\nQ 39.453125 66.40625 31.78125 66.40625 \r\nz\r\nM 31.78125 74.21875 \r\nQ 44.046875 74.21875 50.515625 64.515625 \r\nQ 56.984375 54.828125 56.984375 36.375 \r\nQ 56.984375 17.96875 50.515625 8.265625 \r\nQ 44.046875 -1.421875 31.78125 -1.421875 \r\nQ 19.53125 -1.421875 13.0625 8.265625 \r\nQ 6.59375 17.96875 6.59375 36.375 \r\nQ 6.59375 54.828125 13.0625 64.515625 \r\nQ 19.53125 74.21875 31.78125 74.21875 \r\nz\r\n\" id=\"DejaVuSans-48\"/>\r\n      </defs>\r\n      <g transform=\"translate(26.2875 228.439219)scale(0.1 -0.1)\">\r\n       <use xlink:href=\"#DejaVuSans-48\"/>\r\n      </g>\r\n     </g>\r\n    </g>\r\n    <g id=\"ytick_2\">\r\n     <g id=\"line2d_16\">\r\n      <g>\r\n       <use style=\"stroke:#000000;stroke-width:0.8;\" x=\"39.65\" xlink:href=\"#mb36d088724\" y=\"192.60818\"/>\r\n      </g>\r\n     </g>\r\n     <g id=\"text_16\">\r\n      <!-- 200 -->\r\n      <defs>\r\n       <path d=\"M 19.1875 8.296875 \r\nL 53.609375 8.296875 \r\nL 53.609375 0 \r\nL 7.328125 0 \r\nL 7.328125 8.296875 \r\nQ 12.9375 14.109375 22.625 23.890625 \r\nQ 32.328125 33.6875 34.8125 36.53125 \r\nQ 39.546875 41.84375 41.421875 45.53125 \r\nQ 43.3125 49.21875 43.3125 52.78125 \r\nQ 43.3125 58.59375 39.234375 62.25 \r\nQ 35.15625 65.921875 28.609375 65.921875 \r\nQ 23.96875 65.921875 18.8125 64.3125 \r\nQ 13.671875 62.703125 7.8125 59.421875 \r\nL 7.8125 69.390625 \r\nQ 13.765625 71.78125 18.9375 73 \r\nQ 24.125 74.21875 28.421875 74.21875 \r\nQ 39.75 74.21875 46.484375 68.546875 \r\nQ 53.21875 62.890625 53.21875 53.421875 \r\nQ 53.21875 48.921875 51.53125 44.890625 \r\nQ 49.859375 40.875 45.40625 35.40625 \r\nQ 44.1875 33.984375 37.640625 27.21875 \r\nQ 31.109375 20.453125 19.1875 8.296875 \r\nz\r\n\" id=\"DejaVuSans-50\"/>\r\n      </defs>\r\n      <g transform=\"translate(13.5625 196.407399)scale(0.1 -0.1)\">\r\n       <use xlink:href=\"#DejaVuSans-50\"/>\r\n       <use x=\"63.623047\" xlink:href=\"#DejaVuSans-48\"/>\r\n       <use x=\"127.246094\" xlink:href=\"#DejaVuSans-48\"/>\r\n      </g>\r\n     </g>\r\n    </g>\r\n    <g id=\"ytick_3\">\r\n     <g id=\"line2d_17\">\r\n      <g>\r\n       <use style=\"stroke:#000000;stroke-width:0.8;\" x=\"39.65\" xlink:href=\"#mb36d088724\" y=\"160.576361\"/>\r\n      </g>\r\n     </g>\r\n     <g id=\"text_17\">\r\n      <!-- 400 -->\r\n      <defs>\r\n       <path d=\"M 37.796875 64.3125 \r\nL 12.890625 25.390625 \r\nL 37.796875 25.390625 \r\nz\r\nM 35.203125 72.90625 \r\nL 47.609375 72.90625 \r\nL 47.609375 25.390625 \r\nL 58.015625 25.390625 \r\nL 58.015625 17.1875 \r\nL 47.609375 17.1875 \r\nL 47.609375 0 \r\nL 37.796875 0 \r\nL 37.796875 17.1875 \r\nL 4.890625 17.1875 \r\nL 4.890625 26.703125 \r\nz\r\n\" id=\"DejaVuSans-52\"/>\r\n      </defs>\r\n      <g transform=\"translate(13.5625 164.375579)scale(0.1 -0.1)\">\r\n       <use xlink:href=\"#DejaVuSans-52\"/>\r\n       <use x=\"63.623047\" xlink:href=\"#DejaVuSans-48\"/>\r\n       <use x=\"127.246094\" xlink:href=\"#DejaVuSans-48\"/>\r\n      </g>\r\n     </g>\r\n    </g>\r\n    <g id=\"ytick_4\">\r\n     <g id=\"line2d_18\">\r\n      <g>\r\n       <use style=\"stroke:#000000;stroke-width:0.8;\" x=\"39.65\" xlink:href=\"#mb36d088724\" y=\"128.544541\"/>\r\n      </g>\r\n     </g>\r\n     <g id=\"text_18\">\r\n      <!-- 600 -->\r\n      <defs>\r\n       <path d=\"M 33.015625 40.375 \r\nQ 26.375 40.375 22.484375 35.828125 \r\nQ 18.609375 31.296875 18.609375 23.390625 \r\nQ 18.609375 15.53125 22.484375 10.953125 \r\nQ 26.375 6.390625 33.015625 6.390625 \r\nQ 39.65625 6.390625 43.53125 10.953125 \r\nQ 47.40625 15.53125 47.40625 23.390625 \r\nQ 47.40625 31.296875 43.53125 35.828125 \r\nQ 39.65625 40.375 33.015625 40.375 \r\nz\r\nM 52.59375 71.296875 \r\nL 52.59375 62.3125 \r\nQ 48.875 64.0625 45.09375 64.984375 \r\nQ 41.3125 65.921875 37.59375 65.921875 \r\nQ 27.828125 65.921875 22.671875 59.328125 \r\nQ 17.53125 52.734375 16.796875 39.40625 \r\nQ 19.671875 43.65625 24.015625 45.921875 \r\nQ 28.375 48.1875 33.59375 48.1875 \r\nQ 44.578125 48.1875 50.953125 41.515625 \r\nQ 57.328125 34.859375 57.328125 23.390625 \r\nQ 57.328125 12.15625 50.6875 5.359375 \r\nQ 44.046875 -1.421875 33.015625 -1.421875 \r\nQ 20.359375 -1.421875 13.671875 8.265625 \r\nQ 6.984375 17.96875 6.984375 36.375 \r\nQ 6.984375 53.65625 15.1875 63.9375 \r\nQ 23.390625 74.21875 37.203125 74.21875 \r\nQ 40.921875 74.21875 44.703125 73.484375 \r\nQ 48.484375 72.75 52.59375 71.296875 \r\nz\r\n\" id=\"DejaVuSans-54\"/>\r\n      </defs>\r\n      <g transform=\"translate(13.5625 132.34376)scale(0.1 -0.1)\">\r\n       <use xlink:href=\"#DejaVuSans-54\"/>\r\n       <use x=\"63.623047\" xlink:href=\"#DejaVuSans-48\"/>\r\n       <use x=\"127.246094\" xlink:href=\"#DejaVuSans-48\"/>\r\n      </g>\r\n     </g>\r\n    </g>\r\n    <g id=\"ytick_5\">\r\n     <g id=\"line2d_19\">\r\n      <g>\r\n       <use style=\"stroke:#000000;stroke-width:0.8;\" x=\"39.65\" xlink:href=\"#mb36d088724\" y=\"96.512721\"/>\r\n      </g>\r\n     </g>\r\n     <g id=\"text_19\">\r\n      <!-- 800 -->\r\n      <defs>\r\n       <path d=\"M 31.78125 34.625 \r\nQ 24.75 34.625 20.71875 30.859375 \r\nQ 16.703125 27.09375 16.703125 20.515625 \r\nQ 16.703125 13.921875 20.71875 10.15625 \r\nQ 24.75 6.390625 31.78125 6.390625 \r\nQ 38.8125 6.390625 42.859375 10.171875 \r\nQ 46.921875 13.96875 46.921875 20.515625 \r\nQ 46.921875 27.09375 42.890625 30.859375 \r\nQ 38.875 34.625 31.78125 34.625 \r\nz\r\nM 21.921875 38.8125 \r\nQ 15.578125 40.375 12.03125 44.71875 \r\nQ 8.5 49.078125 8.5 55.328125 \r\nQ 8.5 64.0625 14.71875 69.140625 \r\nQ 20.953125 74.21875 31.78125 74.21875 \r\nQ 42.671875 74.21875 48.875 69.140625 \r\nQ 55.078125 64.0625 55.078125 55.328125 \r\nQ 55.078125 49.078125 51.53125 44.71875 \r\nQ 48 40.375 41.703125 38.8125 \r\nQ 48.828125 37.15625 52.796875 32.3125 \r\nQ 56.78125 27.484375 56.78125 20.515625 \r\nQ 56.78125 9.90625 50.3125 4.234375 \r\nQ 43.84375 -1.421875 31.78125 -1.421875 \r\nQ 19.734375 -1.421875 13.25 4.234375 \r\nQ 6.78125 9.90625 6.78125 20.515625 \r\nQ 6.78125 27.484375 10.78125 32.3125 \r\nQ 14.796875 37.15625 21.921875 38.8125 \r\nz\r\nM 18.3125 54.390625 \r\nQ 18.3125 48.734375 21.84375 45.5625 \r\nQ 25.390625 42.390625 31.78125 42.390625 \r\nQ 38.140625 42.390625 41.71875 45.5625 \r\nQ 45.3125 48.734375 45.3125 54.390625 \r\nQ 45.3125 60.0625 41.71875 63.234375 \r\nQ 38.140625 66.40625 31.78125 66.40625 \r\nQ 25.390625 66.40625 21.84375 63.234375 \r\nQ 18.3125 60.0625 18.3125 54.390625 \r\nz\r\n\" id=\"DejaVuSans-56\"/>\r\n      </defs>\r\n      <g transform=\"translate(13.5625 100.31194)scale(0.1 -0.1)\">\r\n       <use xlink:href=\"#DejaVuSans-56\"/>\r\n       <use x=\"63.623047\" xlink:href=\"#DejaVuSans-48\"/>\r\n       <use x=\"127.246094\" xlink:href=\"#DejaVuSans-48\"/>\r\n      </g>\r\n     </g>\r\n    </g>\r\n    <g id=\"ytick_6\">\r\n     <g id=\"line2d_20\">\r\n      <g>\r\n       <use style=\"stroke:#000000;stroke-width:0.8;\" x=\"39.65\" xlink:href=\"#mb36d088724\" y=\"64.480902\"/>\r\n      </g>\r\n     </g>\r\n     <g id=\"text_20\">\r\n      <!-- 1000 -->\r\n      <defs>\r\n       <path d=\"M 12.40625 8.296875 \r\nL 28.515625 8.296875 \r\nL 28.515625 63.921875 \r\nL 10.984375 60.40625 \r\nL 10.984375 69.390625 \r\nL 28.421875 72.90625 \r\nL 38.28125 72.90625 \r\nL 38.28125 8.296875 \r\nL 54.390625 8.296875 \r\nL 54.390625 0 \r\nL 12.40625 0 \r\nz\r\n\" id=\"DejaVuSans-49\"/>\r\n      </defs>\r\n      <g transform=\"translate(7.2 68.28012)scale(0.1 -0.1)\">\r\n       <use xlink:href=\"#DejaVuSans-49\"/>\r\n       <use x=\"63.623047\" xlink:href=\"#DejaVuSans-48\"/>\r\n       <use x=\"127.246094\" xlink:href=\"#DejaVuSans-48\"/>\r\n       <use x=\"190.869141\" xlink:href=\"#DejaVuSans-48\"/>\r\n      </g>\r\n     </g>\r\n    </g>\r\n    <g id=\"ytick_7\">\r\n     <g id=\"line2d_21\">\r\n      <g>\r\n       <use style=\"stroke:#000000;stroke-width:0.8;\" x=\"39.65\" xlink:href=\"#mb36d088724\" y=\"32.449082\"/>\r\n      </g>\r\n     </g>\r\n     <g id=\"text_21\">\r\n      <!-- 1200 -->\r\n      <g transform=\"translate(7.2 36.248301)scale(0.1 -0.1)\">\r\n       <use xlink:href=\"#DejaVuSans-49\"/>\r\n       <use x=\"63.623047\" xlink:href=\"#DejaVuSans-50\"/>\r\n       <use x=\"127.246094\" xlink:href=\"#DejaVuSans-48\"/>\r\n       <use x=\"190.869141\" xlink:href=\"#DejaVuSans-48\"/>\r\n      </g>\r\n     </g>\r\n    </g>\r\n   </g>\r\n   <g id=\"patch_17\">\r\n    <path d=\"M 39.65 224.64 \r\nL 39.65 7.2 \r\n\" style=\"fill:none;stroke:#000000;stroke-linecap:square;stroke-linejoin:miter;stroke-width:0.8;\"/>\r\n   </g>\r\n   <g id=\"patch_18\">\r\n    <path d=\"M 374.45 224.64 \r\nL 374.45 7.2 \r\n\" style=\"fill:none;stroke:#000000;stroke-linecap:square;stroke-linejoin:miter;stroke-width:0.8;\"/>\r\n   </g>\r\n   <g id=\"patch_19\">\r\n    <path d=\"M 39.65 224.64 \r\nL 374.45 224.64 \r\n\" style=\"fill:none;stroke:#000000;stroke-linecap:square;stroke-linejoin:miter;stroke-width:0.8;\"/>\r\n   </g>\r\n   <g id=\"patch_20\">\r\n    <path d=\"M 39.65 7.2 \r\nL 374.45 7.2 \r\n\" style=\"fill:none;stroke:#000000;stroke-linecap:square;stroke-linejoin:miter;stroke-width:0.8;\"/>\r\n   </g>\r\n  </g>\r\n </g>\r\n <defs>\r\n  <clipPath id=\"p4f8616fe6c\">\r\n   <rect height=\"217.44\" width=\"334.8\" x=\"39.65\" y=\"7.2\"/>\r\n  </clipPath>\r\n </defs>\r\n</svg>\r\n",
      "image/png": "[encoded data removed]"
     },
     "metadata": {
      "needs_background": "light"
     }
    }
   ],
   "source": [
    "#position distribution\n",
    "pd.value_counts(played_minutes['Pos']).plot.bar()"
   ]
  },
  {
   "cell_type": "markdown",
   "metadata": {},
   "source": [
    "***My initial assumption*** was that we would have five unique values (PG, SG, SF, PF, C). However, there are players that play multiple roles consistently throughout the season. Given this, I'm going to add a class for whether it is a frontcourt or backcourt player. There is still the issue of intersections as we have players in the SF-SG and SG-PF bars.\n",
    "\n",
    "**Decision so far** Add the FC/BC classification, and consider adding both depending on how many players (and how impactful those players are) tinker in both sides."
   ]
  },
  {
   "cell_type": "code",
   "execution_count": null,
   "metadata": {},
   "outputs": [],
   "source": []
  }
 ],
 "metadata": {
  "language_info": {
   "codemirror_mode": {
    "name": "ipython",
    "version": 3
   },
   "file_extension": ".py",
   "mimetype": "text/x-python",
   "name": "python",
   "nbconvert_exporter": "python",
   "pygments_lexer": "ipython3",
   "version": 3
  },
  "orig_nbformat": 2,
  "kernelspec": {
   "name": "python_defaultSpec_1595382376273",
   "display_name": "Python 3.7.6 64-bit"
  }
 },
 "nbformat": 4,
 "nbformat_minor": 2
}