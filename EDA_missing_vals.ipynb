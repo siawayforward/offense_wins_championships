{
 "cells": [
  {
   "cell_type": "code",
   "execution_count": 1,
   "metadata": {},
   "outputs": [],
   "source": [
    "#import modules\n",
    "import pandas as pd\n",
    "import numpy as np\n",
    "import seaborn as sns\n",
    "import matplotlib.pyplot as plt"
   ]
  },
  {
   "cell_type": "code",
   "execution_count": 2,
   "metadata": {},
   "outputs": [],
   "source": [
    "#get files from cleaned data\n",
    "players = pd.read_csv('players.csv', index_col='Unnamed: 0')\n",
    "coaches = pd.read_csv('coaches.csv', index_col='Unnamed: 0')\n",
    "champions = pd.read_csv('champions.csv', index_col='Unnamed: 0')"
   ]
  },
  {
   "cell_type": "code",
   "execution_count": 19,
   "metadata": {
    "tags": []
   },
   "outputs": [
    {
     "output_type": "stream",
     "name": "stdout",
     "text": "(6371, 32)\n"
    },
    {
     "output_type": "execute_result",
     "data": {
      "text/plain": "              Player Pos Age   Tm   G  GS    MP   FG   FGA    FG%  ...  TRB  \\\n0      Arron Afflalo  SG  24  DEN  82  75  27.1  3.3   7.1  0.465  ...  3.1   \n1      Alexis Ajinça   C  21  CHA   6   0   5.0  0.8   1.7  0.500  ...  0.7   \n2  LaMarcus Aldridge  PF  24  POR  78  78  37.5  7.4  15.0  0.495  ...  8.0   \n3      Joe Alexander  SF  23  CHI   8   0   3.6  0.1   0.8  0.167  ...  0.6   \n4        Malik Allen  PF  31  DEN  51   3   8.9  0.9   2.3  0.397  ...  1.6   \n\n   AST  STL  BLK  TOV   PF   PTS  Year  Champ  Runner-Up  \n0  1.7  0.6  0.4  0.9  2.7   8.8  2010      0          0  \n1  0.0  0.2  0.2  0.3  0.8   1.7  2010      0          0  \n2  2.1  0.9  0.6  1.3  3.0  17.9  2010      0          0  \n3  0.3  0.1  0.1  0.0  1.1   0.5  2010      0          0  \n4  0.3  0.2  0.1  0.4  1.3   2.1  2010      0          0  \n\n[5 rows x 32 columns]",
      "text/html": "<div>\n<style scoped>\n    .dataframe tbody tr th:only-of-type {\n        vertical-align: middle;\n    }\n\n    .dataframe tbody tr th {\n        vertical-align: top;\n    }\n\n    .dataframe thead th {\n        text-align: right;\n    }\n</style>\n<table border=\"1\" class=\"dataframe\">\n  <thead>\n    <tr style=\"text-align: right;\">\n      <th></th>\n      <th>Player</th>\n      <th>Pos</th>\n      <th>Age</th>\n      <th>Tm</th>\n      <th>G</th>\n      <th>GS</th>\n      <th>MP</th>\n      <th>FG</th>\n      <th>FGA</th>\n      <th>FG%</th>\n      <th>...</th>\n      <th>TRB</th>\n      <th>AST</th>\n      <th>STL</th>\n      <th>BLK</th>\n      <th>TOV</th>\n      <th>PF</th>\n      <th>PTS</th>\n      <th>Year</th>\n      <th>Champ</th>\n      <th>Runner-Up</th>\n    </tr>\n  </thead>\n  <tbody>\n    <tr>\n      <th>0</th>\n      <td>Arron Afflalo</td>\n      <td>SG</td>\n      <td>24</td>\n      <td>DEN</td>\n      <td>82</td>\n      <td>75</td>\n      <td>27.1</td>\n      <td>3.3</td>\n      <td>7.1</td>\n      <td>0.465</td>\n      <td>...</td>\n      <td>3.1</td>\n      <td>1.7</td>\n      <td>0.6</td>\n      <td>0.4</td>\n      <td>0.9</td>\n      <td>2.7</td>\n      <td>8.8</td>\n      <td>2010</td>\n      <td>0</td>\n      <td>0</td>\n    </tr>\n    <tr>\n      <th>1</th>\n      <td>Alexis Ajinça</td>\n      <td>C</td>\n      <td>21</td>\n      <td>CHA</td>\n      <td>6</td>\n      <td>0</td>\n      <td>5.0</td>\n      <td>0.8</td>\n      <td>1.7</td>\n      <td>0.500</td>\n      <td>...</td>\n      <td>0.7</td>\n      <td>0.0</td>\n      <td>0.2</td>\n      <td>0.2</td>\n      <td>0.3</td>\n      <td>0.8</td>\n      <td>1.7</td>\n      <td>2010</td>\n      <td>0</td>\n      <td>0</td>\n    </tr>\n    <tr>\n      <th>2</th>\n      <td>LaMarcus Aldridge</td>\n      <td>PF</td>\n      <td>24</td>\n      <td>POR</td>\n      <td>78</td>\n      <td>78</td>\n      <td>37.5</td>\n      <td>7.4</td>\n      <td>15.0</td>\n      <td>0.495</td>\n      <td>...</td>\n      <td>8.0</td>\n      <td>2.1</td>\n      <td>0.9</td>\n      <td>0.6</td>\n      <td>1.3</td>\n      <td>3.0</td>\n      <td>17.9</td>\n      <td>2010</td>\n      <td>0</td>\n      <td>0</td>\n    </tr>\n    <tr>\n      <th>3</th>\n      <td>Joe Alexander</td>\n      <td>SF</td>\n      <td>23</td>\n      <td>CHI</td>\n      <td>8</td>\n      <td>0</td>\n      <td>3.6</td>\n      <td>0.1</td>\n      <td>0.8</td>\n      <td>0.167</td>\n      <td>...</td>\n      <td>0.6</td>\n      <td>0.3</td>\n      <td>0.1</td>\n      <td>0.1</td>\n      <td>0.0</td>\n      <td>1.1</td>\n      <td>0.5</td>\n      <td>2010</td>\n      <td>0</td>\n      <td>0</td>\n    </tr>\n    <tr>\n      <th>4</th>\n      <td>Malik Allen</td>\n      <td>PF</td>\n      <td>31</td>\n      <td>DEN</td>\n      <td>51</td>\n      <td>3</td>\n      <td>8.9</td>\n      <td>0.9</td>\n      <td>2.3</td>\n      <td>0.397</td>\n      <td>...</td>\n      <td>1.6</td>\n      <td>0.3</td>\n      <td>0.2</td>\n      <td>0.1</td>\n      <td>0.4</td>\n      <td>1.3</td>\n      <td>2.1</td>\n      <td>2010</td>\n      <td>0</td>\n      <td>0</td>\n    </tr>\n  </tbody>\n</table>\n<p>5 rows × 32 columns</p>\n</div>"
     },
     "metadata": {},
     "execution_count": 19
    }
   ],
   "source": [
    "print(players.shape)\n",
    "players.head()"
   ]
  },
  {
   "cell_type": "code",
   "execution_count": 20,
   "metadata": {
    "tags": []
   },
   "outputs": [
    {
     "output_type": "stream",
     "name": "stdout",
     "text": "(332, 26)\n"
    },
    {
     "output_type": "execute_result",
     "data": {
      "text/plain": "             Coach Team  F-Seasons  Car-Seasons  CR-G  CR-W  CR-L  FR-G  FR-W  \\\n0     Mike Woodson  ATL          6            6    82    53    29   492   206   \n1       Doc Rivers  BOS          6           11    82    50    32   492   280   \n2      Larry Brown  CHA          2           29    82    44    38   164    79   \n3  Vinny Del Negro  CHI          2            2    82    41    41   164    82   \n4       Mike Brown  CLE          5            5    82    61    21   410   272   \n\n   FR-L  ...  CP-L  FP-G  FP-W  FP-L  Car.P-G  Car.P-W  Car.P-L  Year  Champ  \\\n0   286  ...   7.0  29.0  11.0  18.0     29.0     11.0     18.0  2010      0   \n1   212  ...   9.0  71.0  41.0  30.0     86.0     46.0     40.0  2010      0   \n2    85  ...   4.0   4.0   0.0   4.0    235.0    120.0    115.0  2010      0   \n3    82  ...   4.0  12.0   4.0   8.0     12.0      4.0      8.0  2010      0   \n4   138  ...   5.0  71.0  42.0  29.0     71.0     42.0     29.0  2010      0   \n\n   Runner-Up  \n0          0  \n1          1  \n2          0  \n3          0  \n4          0  \n\n[5 rows x 26 columns]",
      "text/html": "<div>\n<style scoped>\n    .dataframe tbody tr th:only-of-type {\n        vertical-align: middle;\n    }\n\n    .dataframe tbody tr th {\n        vertical-align: top;\n    }\n\n    .dataframe thead th {\n        text-align: right;\n    }\n</style>\n<table border=\"1\" class=\"dataframe\">\n  <thead>\n    <tr style=\"text-align: right;\">\n      <th></th>\n      <th>Coach</th>\n      <th>Team</th>\n      <th>F-Seasons</th>\n      <th>Car-Seasons</th>\n      <th>CR-G</th>\n      <th>CR-W</th>\n      <th>CR-L</th>\n      <th>FR-G</th>\n      <th>FR-W</th>\n      <th>FR-L</th>\n      <th>...</th>\n      <th>CP-L</th>\n      <th>FP-G</th>\n      <th>FP-W</th>\n      <th>FP-L</th>\n      <th>Car.P-G</th>\n      <th>Car.P-W</th>\n      <th>Car.P-L</th>\n      <th>Year</th>\n      <th>Champ</th>\n      <th>Runner-Up</th>\n    </tr>\n  </thead>\n  <tbody>\n    <tr>\n      <th>0</th>\n      <td>Mike Woodson</td>\n      <td>ATL</td>\n      <td>6</td>\n      <td>6</td>\n      <td>82</td>\n      <td>53</td>\n      <td>29</td>\n      <td>492</td>\n      <td>206</td>\n      <td>286</td>\n      <td>...</td>\n      <td>7.0</td>\n      <td>29.0</td>\n      <td>11.0</td>\n      <td>18.0</td>\n      <td>29.0</td>\n      <td>11.0</td>\n      <td>18.0</td>\n      <td>2010</td>\n      <td>0</td>\n      <td>0</td>\n    </tr>\n    <tr>\n      <th>1</th>\n      <td>Doc Rivers</td>\n      <td>BOS</td>\n      <td>6</td>\n      <td>11</td>\n      <td>82</td>\n      <td>50</td>\n      <td>32</td>\n      <td>492</td>\n      <td>280</td>\n      <td>212</td>\n      <td>...</td>\n      <td>9.0</td>\n      <td>71.0</td>\n      <td>41.0</td>\n      <td>30.0</td>\n      <td>86.0</td>\n      <td>46.0</td>\n      <td>40.0</td>\n      <td>2010</td>\n      <td>0</td>\n      <td>1</td>\n    </tr>\n    <tr>\n      <th>2</th>\n      <td>Larry Brown</td>\n      <td>CHA</td>\n      <td>2</td>\n      <td>29</td>\n      <td>82</td>\n      <td>44</td>\n      <td>38</td>\n      <td>164</td>\n      <td>79</td>\n      <td>85</td>\n      <td>...</td>\n      <td>4.0</td>\n      <td>4.0</td>\n      <td>0.0</td>\n      <td>4.0</td>\n      <td>235.0</td>\n      <td>120.0</td>\n      <td>115.0</td>\n      <td>2010</td>\n      <td>0</td>\n      <td>0</td>\n    </tr>\n    <tr>\n      <th>3</th>\n      <td>Vinny Del Negro</td>\n      <td>CHI</td>\n      <td>2</td>\n      <td>2</td>\n      <td>82</td>\n      <td>41</td>\n      <td>41</td>\n      <td>164</td>\n      <td>82</td>\n      <td>82</td>\n      <td>...</td>\n      <td>4.0</td>\n      <td>12.0</td>\n      <td>4.0</td>\n      <td>8.0</td>\n      <td>12.0</td>\n      <td>4.0</td>\n      <td>8.0</td>\n      <td>2010</td>\n      <td>0</td>\n      <td>0</td>\n    </tr>\n    <tr>\n      <th>4</th>\n      <td>Mike Brown</td>\n      <td>CLE</td>\n      <td>5</td>\n      <td>5</td>\n      <td>82</td>\n      <td>61</td>\n      <td>21</td>\n      <td>410</td>\n      <td>272</td>\n      <td>138</td>\n      <td>...</td>\n      <td>5.0</td>\n      <td>71.0</td>\n      <td>42.0</td>\n      <td>29.0</td>\n      <td>71.0</td>\n      <td>42.0</td>\n      <td>29.0</td>\n      <td>2010</td>\n      <td>0</td>\n      <td>0</td>\n    </tr>\n  </tbody>\n</table>\n<p>5 rows × 26 columns</p>\n</div>"
     },
     "metadata": {},
     "execution_count": 20
    }
   ],
   "source": [
    "print(coaches.shape)\n",
    "coaches.head()"
   ]
  },
  {
   "cell_type": "code",
   "execution_count": 5,
   "metadata": {},
   "outputs": [
    {
     "output_type": "execute_result",
     "data": {
      "text/plain": "Index(['Player', 'Pos', 'Age', 'Tm', 'G', 'GS', 'MP', 'FG', 'FGA', 'FG%', '3P',\n       '3PA', '3P%', '2P', '2PA', '2P%', 'eFG%', 'FT', 'FTA', 'FT%', 'ORB',\n       'DRB', 'TRB', 'AST', 'STL', 'BLK', 'TOV', 'PF', 'PTS', 'Year', 'Champ',\n       'Runner-Up'],\n      dtype='object')"
     },
     "metadata": {},
     "execution_count": 5
    }
   ],
   "source": [
    "#Descriptive statistics\n",
    "players.columns"
   ]
  },
  {
   "cell_type": "code",
   "execution_count": 6,
   "metadata": {},
   "outputs": [],
   "source": [
    "#list of numerical and categorical features\n",
    "p_int = []\n",
    "p_num = ['Age', 'G', 'GS', 'MP', 'FG', 'FGA', 'FG%', '3P',\n",
    "       '3PA', '3P%', '2P', '2PA', '2P%', 'eFG%', 'FT', 'FTA', 'FT%', 'ORB',\n",
    "       'DRB', 'TRB', 'AST', 'STL', 'BLK', 'TOV', 'PF', 'PTS']\n",
    "p_cat = ['Player', 'Pos', 'Tm', 'Year', 'Champ', 'Runner-Up']"
   ]
  },
  {
   "cell_type": "markdown",
   "metadata": {},
   "source": [
    "## Exploring Null Values:\n",
    "- There are players who are on the team, but haven't played games\n",
    "- Some players entered a game, but didn't record a shot (minutes played != 0)\n",
    "- There are players who won't have attempted two pointers or three pointers e.g. centers, some forwards\n",
    "- Those who don't get to the free throw line"
   ]
  },
  {
   "cell_type": "code",
   "execution_count": 7,
   "metadata": {},
   "outputs": [
    {
     "output_type": "execute_result",
     "data": {
      "text/plain": "Player          0\nPos             0\nAge             0\nTm              0\nG               0\nGS              0\nMP            237\nFG            237\nFGA           237\nFG%           271\n3P            237\n3PA           237\n3P%          1026\n2P            237\n2PA           237\n2P%           309\neFG%          271\nFT            237\nFTA           237\nFT%           540\nORB           237\nDRB           237\nTRB           237\nAST           237\nSTL           237\nBLK           237\nTOV           237\nPF            237\nPTS           237\nYear            0\nChamp           0\nRunner-Up       0\ndtype: int64"
     },
     "metadata": {},
     "execution_count": 7
    }
   ],
   "source": [
    "players.isnull().sum()"
   ]
  },
  {
   "cell_type": "markdown",
   "metadata": {},
   "source": [
    "Note, the FG% and eFG% are missing 34 values --> these players did not attempt a shot, whether or not they played. Let's see if they played. Other observations:\n",
    "- 237 players were rostered, but did not play any minutes of basketball for their teams\n",
    "- 271-237 players recorded game minutes, but never attempted a shot in a game \n",
    "- 1026-237 players recorded minutes, but didn't attempt a three pointer\n",
    "- 309-237 players recorded minutes, but didn't attempt a two pointer\n",
    "- 540-237 players recorded minutes, but didn't attempt a free throw\n",
    "\n",
    "\n",
    "### What to remove?\n",
    "- We don't want to keep any players who didn't play any minutes (G == 0 or MPG == 0.0)\n",
    "- Might keep players whose average minutes are 0 because maybe they played a game or two. Have to see first."
   ]
  },
  {
   "cell_type": "code",
   "execution_count": 21,
   "metadata": {
    "tags": []
   },
   "outputs": [
    {
     "output_type": "stream",
     "name": "stdout",
     "text": "Players with 0 minutes played are 3.72% of the data\n"
    },
    {
     "output_type": "execute_result",
     "data": {
      "text/plain": "6134"
     },
     "metadata": {},
     "execution_count": 21
    }
   ],
   "source": [
    "no_min = len(players[players['MP'].isnull()])\n",
    "print('Players with 0 minutes played are {}% of the data'.format(round(no_min*100/len(players), 2)))\n",
    "\n",
    "#drop this population -> cannot extract info to answer business question\n",
    "played_min = players[players['MP'].isnull() == False]\n",
    "len(played_min)"
   ]
  },
  {
   "cell_type": "markdown",
   "metadata": {},
   "source": [
    "### Exploring small impact players\n",
    "Some players have minutes recorded, but they could be entering the game and not attempting shots/assists or affecting the defensive effort with rebounds/steals/blocks. Using a threshold of MP = 2.0/per game to see if we should keep or drop these players."
   ]
  },
  {
   "cell_type": "code",
   "execution_count": 29,
   "metadata": {
    "tags": []
   },
   "outputs": [
    {
     "output_type": "stream",
     "name": "stdout",
     "text": "Players who had small impact are 0.98% of the data\n"
    },
    {
     "output_type": "execute_result",
     "data": {
      "text/plain": "              MP         FG        FGA        FG%         3P        3PA  \\\ncount  60.000000  60.000000  60.000000  39.000000  60.000000  60.000000   \nmean    1.515000   0.175000   0.531667   0.335051   0.033333   0.121667   \nstd     0.536727   0.307877   0.480287   0.384658   0.160155   0.270650   \nmin     0.000000   0.000000   0.000000   0.000000   0.000000   0.000000   \n25%     1.000000   0.000000   0.000000   0.000000   0.000000   0.000000   \n50%     1.750000   0.000000   0.500000   0.000000   0.000000   0.000000   \n75%     2.000000   0.300000   1.000000   0.550000   0.000000   0.000000   \nmax     2.000000   1.000000   2.000000   1.000000   1.000000   1.000000   \n\n             3P%         2P        2PA        2P%  ...       FT%        ORB  \\\ncount  13.000000  60.000000  60.000000  33.000000  ...  6.000000  60.000000   \nmean    0.230769   0.140000   0.415000   0.375758  ...  0.458333   0.118333   \nstd     0.438529   0.271967   0.471142   0.410654  ...  0.332290   0.304482   \nmin     0.000000   0.000000   0.000000   0.000000  ...  0.000000   0.000000   \n25%     0.000000   0.000000   0.000000   0.000000  ...  0.312500   0.000000   \n50%     0.000000   0.000000   0.300000   0.333000  ...  0.500000   0.000000   \n75%     0.000000   0.300000   0.850000   0.667000  ...  0.500000   0.000000   \nmax     1.000000   1.000000   2.000000   1.000000  ...  1.000000   1.500000   \n\n             DRB        TRB        AST        STL        BLK        TOV  \\\ncount  60.000000  60.000000  60.000000  60.000000  60.000000  60.000000   \nmean    0.211667   0.328333   0.060000   0.028333   0.033333   0.101667   \nstd     0.316277   0.436508   0.139247   0.090370   0.103607   0.217452   \nmin     0.000000   0.000000   0.000000   0.000000   0.000000   0.000000   \n25%     0.000000   0.000000   0.000000   0.000000   0.000000   0.000000   \n50%     0.000000   0.000000   0.000000   0.000000   0.000000   0.000000   \n75%     0.300000   0.550000   0.000000   0.000000   0.000000   0.125000   \nmax     1.000000   1.500000   0.700000   0.400000   0.500000   1.300000   \n\n              PF        PTS  \ncount  60.000000  60.000000  \nmean    0.188333   0.416667  \nstd     0.455137   0.716433  \nmin     0.000000   0.000000  \n25%     0.000000   0.000000  \n50%     0.000000   0.000000  \n75%     0.000000   0.700000  \nmax     2.000000   3.000000  \n\n[8 rows x 23 columns]",
      "text/html": "<div>\n<style scoped>\n    .dataframe tbody tr th:only-of-type {\n        vertical-align: middle;\n    }\n\n    .dataframe tbody tr th {\n        vertical-align: top;\n    }\n\n    .dataframe thead th {\n        text-align: right;\n    }\n</style>\n<table border=\"1\" class=\"dataframe\">\n  <thead>\n    <tr style=\"text-align: right;\">\n      <th></th>\n      <th>MP</th>\n      <th>FG</th>\n      <th>FGA</th>\n      <th>FG%</th>\n      <th>3P</th>\n      <th>3PA</th>\n      <th>3P%</th>\n      <th>2P</th>\n      <th>2PA</th>\n      <th>2P%</th>\n      <th>...</th>\n      <th>FT%</th>\n      <th>ORB</th>\n      <th>DRB</th>\n      <th>TRB</th>\n      <th>AST</th>\n      <th>STL</th>\n      <th>BLK</th>\n      <th>TOV</th>\n      <th>PF</th>\n      <th>PTS</th>\n    </tr>\n  </thead>\n  <tbody>\n    <tr>\n      <th>count</th>\n      <td>60.000000</td>\n      <td>60.000000</td>\n      <td>60.000000</td>\n      <td>39.000000</td>\n      <td>60.000000</td>\n      <td>60.000000</td>\n      <td>13.000000</td>\n      <td>60.000000</td>\n      <td>60.000000</td>\n      <td>33.000000</td>\n      <td>...</td>\n      <td>6.000000</td>\n      <td>60.000000</td>\n      <td>60.000000</td>\n      <td>60.000000</td>\n      <td>60.000000</td>\n      <td>60.000000</td>\n      <td>60.000000</td>\n      <td>60.000000</td>\n      <td>60.000000</td>\n      <td>60.000000</td>\n    </tr>\n    <tr>\n      <th>mean</th>\n      <td>1.515000</td>\n      <td>0.175000</td>\n      <td>0.531667</td>\n      <td>0.335051</td>\n      <td>0.033333</td>\n      <td>0.121667</td>\n      <td>0.230769</td>\n      <td>0.140000</td>\n      <td>0.415000</td>\n      <td>0.375758</td>\n      <td>...</td>\n      <td>0.458333</td>\n      <td>0.118333</td>\n      <td>0.211667</td>\n      <td>0.328333</td>\n      <td>0.060000</td>\n      <td>0.028333</td>\n      <td>0.033333</td>\n      <td>0.101667</td>\n      <td>0.188333</td>\n      <td>0.416667</td>\n    </tr>\n    <tr>\n      <th>std</th>\n      <td>0.536727</td>\n      <td>0.307877</td>\n      <td>0.480287</td>\n      <td>0.384658</td>\n      <td>0.160155</td>\n      <td>0.270650</td>\n      <td>0.438529</td>\n      <td>0.271967</td>\n      <td>0.471142</td>\n      <td>0.410654</td>\n      <td>...</td>\n      <td>0.332290</td>\n      <td>0.304482</td>\n      <td>0.316277</td>\n      <td>0.436508</td>\n      <td>0.139247</td>\n      <td>0.090370</td>\n      <td>0.103607</td>\n      <td>0.217452</td>\n      <td>0.455137</td>\n      <td>0.716433</td>\n    </tr>\n    <tr>\n      <th>min</th>\n      <td>0.000000</td>\n      <td>0.000000</td>\n      <td>0.000000</td>\n      <td>0.000000</td>\n      <td>0.000000</td>\n      <td>0.000000</td>\n      <td>0.000000</td>\n      <td>0.000000</td>\n      <td>0.000000</td>\n      <td>0.000000</td>\n      <td>...</td>\n      <td>0.000000</td>\n      <td>0.000000</td>\n      <td>0.000000</td>\n      <td>0.000000</td>\n      <td>0.000000</td>\n      <td>0.000000</td>\n      <td>0.000000</td>\n      <td>0.000000</td>\n      <td>0.000000</td>\n      <td>0.000000</td>\n    </tr>\n    <tr>\n      <th>25%</th>\n      <td>1.000000</td>\n      <td>0.000000</td>\n      <td>0.000000</td>\n      <td>0.000000</td>\n      <td>0.000000</td>\n      <td>0.000000</td>\n      <td>0.000000</td>\n      <td>0.000000</td>\n      <td>0.000000</td>\n      <td>0.000000</td>\n      <td>...</td>\n      <td>0.312500</td>\n      <td>0.000000</td>\n      <td>0.000000</td>\n      <td>0.000000</td>\n      <td>0.000000</td>\n      <td>0.000000</td>\n      <td>0.000000</td>\n      <td>0.000000</td>\n      <td>0.000000</td>\n      <td>0.000000</td>\n    </tr>\n    <tr>\n      <th>50%</th>\n      <td>1.750000</td>\n      <td>0.000000</td>\n      <td>0.500000</td>\n      <td>0.000000</td>\n      <td>0.000000</td>\n      <td>0.000000</td>\n      <td>0.000000</td>\n      <td>0.000000</td>\n      <td>0.300000</td>\n      <td>0.333000</td>\n      <td>...</td>\n      <td>0.500000</td>\n      <td>0.000000</td>\n      <td>0.000000</td>\n      <td>0.000000</td>\n      <td>0.000000</td>\n      <td>0.000000</td>\n      <td>0.000000</td>\n      <td>0.000000</td>\n      <td>0.000000</td>\n      <td>0.000000</td>\n    </tr>\n    <tr>\n      <th>75%</th>\n      <td>2.000000</td>\n      <td>0.300000</td>\n      <td>1.000000</td>\n      <td>0.550000</td>\n      <td>0.000000</td>\n      <td>0.000000</td>\n      <td>0.000000</td>\n      <td>0.300000</td>\n      <td>0.850000</td>\n      <td>0.667000</td>\n      <td>...</td>\n      <td>0.500000</td>\n      <td>0.000000</td>\n      <td>0.300000</td>\n      <td>0.550000</td>\n      <td>0.000000</td>\n      <td>0.000000</td>\n      <td>0.000000</td>\n      <td>0.125000</td>\n      <td>0.000000</td>\n      <td>0.700000</td>\n    </tr>\n    <tr>\n      <th>max</th>\n      <td>2.000000</td>\n      <td>1.000000</td>\n      <td>2.000000</td>\n      <td>1.000000</td>\n      <td>1.000000</td>\n      <td>1.000000</td>\n      <td>1.000000</td>\n      <td>1.000000</td>\n      <td>2.000000</td>\n      <td>1.000000</td>\n      <td>...</td>\n      <td>1.000000</td>\n      <td>1.500000</td>\n      <td>1.000000</td>\n      <td>1.500000</td>\n      <td>0.700000</td>\n      <td>0.400000</td>\n      <td>0.500000</td>\n      <td>1.300000</td>\n      <td>2.000000</td>\n      <td>3.000000</td>\n    </tr>\n  </tbody>\n</table>\n<p>8 rows × 23 columns</p>\n</div>"
     },
     "metadata": {},
     "execution_count": 29
    }
   ],
   "source": [
    "played_few = played_min[played_min['MP'] <= 2.0]\n",
    "pct_total = len(played_few)*100/len(played_min)\n",
    "print('Players who had small impact are {}% of the data'.format(round(pct_total,2)))\n",
    "played_few[p_num].describe()"
   ]
  },
  {
   "cell_type": "markdown",
   "metadata": {},
   "source": [
    "No statistic sticks out as one to consider for these 60 players over 10 seasons. The standard deviations are huge which makes sense because the chances of these individuals playing and their impact on a game are stochastic, and cannot be gainfully analysed.  \n",
    "**Decision:** Dropping them from the dataset"
   ]
  },
  {
   "cell_type": "code",
   "execution_count": null,
   "metadata": {},
   "outputs": [],
   "source": []
  }
 ],
 "metadata": {
  "language_info": {
   "codemirror_mode": {
    "name": "ipython",
    "version": 3
   },
   "file_extension": ".py",
   "mimetype": "text/x-python",
   "name": "python",
   "nbconvert_exporter": "python",
   "pygments_lexer": "ipython3",
   "version": 3
  },
  "orig_nbformat": 2,
  "kernelspec": {
   "name": "python_defaultSpec_1595344072504",
   "display_name": "Python 3.7.6 64-bit"
  }
 },
 "nbformat": 4,
 "nbformat_minor": 2
}